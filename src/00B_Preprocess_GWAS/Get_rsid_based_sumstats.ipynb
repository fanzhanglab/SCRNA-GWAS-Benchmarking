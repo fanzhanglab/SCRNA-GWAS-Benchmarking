{
 "cells": [
  {
   "cell_type": "code",
   "execution_count": null,
   "id": "fdd89ac2-ff58-4cb8-ba15-176b982b7887",
   "metadata": {
    "tags": []
   },
   "outputs": [],
   "source": [
    "import pandas as pd\n",
    "import sys\n",
    "import time\n",
    "import numpy as np"
   ]
  },
  {
   "cell_type": "markdown",
   "id": "a0c31a66-7fd5-46f3-ae04-1fb4d24f7666",
   "metadata": {},
   "source": [
    "# Preprocessing Summary Statistics to get RSID based files needed for MAGMA\n",
    "-----------------------------------------------------------------------------"
   ]
  },
  {
   "cell_type": "markdown",
   "id": "5935a716-02be-46bc-9a35-0168a22359ca",
   "metadata": {},
   "source": [
    "## 1. Making bed files to use BEDOPS to map to rsid values\n",
    "### A. Making bed files from the GWAS summary data\n",
    "We realized that many of the SNPs that didn't map to an RSID were off by 1 BP from a true RSID with the same mutation. THerefore, we created multiple bed files with 1BP added or subtracted from the recorded position. All these files would be mapped to the SNP database to get proper rsid values."
   ]
  },
  {
   "cell_type": "code",
   "execution_count": null,
   "id": "3c813340-aa43-4825-ac31-a8402dc7ba84",
   "metadata": {
    "tags": []
   },
   "outputs": [
    {
     "data": {
      "text/html": [
       "<div>\n",
       "<style scoped>\n",
       "    .dataframe tbody tr th:only-of-type {\n",
       "        vertical-align: middle;\n",
       "    }\n",
       "\n",
       "    .dataframe tbody tr th {\n",
       "        vertical-align: top;\n",
       "    }\n",
       "\n",
       "    .dataframe thead th {\n",
       "        text-align: right;\n",
       "    }\n",
       "</style>\n",
       "<table border=\"1\" class=\"dataframe\">\n",
       "  <thead>\n",
       "    <tr style=\"text-align: right;\">\n",
       "      <th></th>\n",
       "      <th>MarkerName</th>\n",
       "      <th>Allele1</th>\n",
       "      <th>Allele2</th>\n",
       "      <th>StdErr</th>\n",
       "      <th>Effect</th>\n",
       "      <th>P.value</th>\n",
       "      <th>Chr</th>\n",
       "      <th>Pos</th>\n",
       "      <th>Disease</th>\n",
       "    </tr>\n",
       "  </thead>\n",
       "  <tbody>\n",
       "    <tr>\n",
       "      <th>1</th>\n",
       "      <td>1:10000006_G_A</td>\n",
       "      <td>a</td>\n",
       "      <td>g</td>\n",
       "      <td>0.141</td>\n",
       "      <td>0.0789</td>\n",
       "      <td>0.5757</td>\n",
       "      <td>1</td>\n",
       "      <td>10000006</td>\n",
       "      <td>UC</td>\n",
       "    </tr>\n",
       "  </tbody>\n",
       "</table>\n",
       "</div>"
      ],
      "text/plain": [
       "       MarkerName Allele1 Allele2  StdErr  Effect  P.value  Chr       Pos  \\\n",
       "1  1:10000006_G_A       a       g   0.141  0.0789   0.5757    1  10000006   \n",
       "\n",
       "  Disease  \n",
       "1      UC  "
      ]
     },
     "execution_count": 9,
     "metadata": {},
     "output_type": "execute_result"
    }
   ],
   "source": [
    "# read in the data with the position & chromosome\n",
    "sum_stats = pd.read_csv(\"/path/to/sumstats/file.txt\", sep='\\t')\n",
    "sum_stats.iloc[1:2,]"
   ]
  },
  {
   "cell_type": "code",
   "execution_count": null,
   "id": "687519d5-268b-4138-838d-dc11d042e7ce",
   "metadata": {},
   "outputs": [
    {
     "data": {
      "text/html": [
       "<div>\n",
       "<style scoped>\n",
       "    .dataframe tbody tr th:only-of-type {\n",
       "        vertical-align: middle;\n",
       "    }\n",
       "\n",
       "    .dataframe tbody tr th {\n",
       "        vertical-align: top;\n",
       "    }\n",
       "\n",
       "    .dataframe thead th {\n",
       "        text-align: right;\n",
       "    }\n",
       "</style>\n",
       "<table border=\"1\" class=\"dataframe\">\n",
       "  <thead>\n",
       "    <tr style=\"text-align: right;\">\n",
       "      <th></th>\n",
       "      <th>SNP</th>\n",
       "      <th>A1</th>\n",
       "      <th>A2</th>\n",
       "      <th>SE</th>\n",
       "      <th>Effect</th>\n",
       "      <th>Pval</th>\n",
       "      <th>Chr</th>\n",
       "      <th>Pos</th>\n",
       "      <th>Disease</th>\n",
       "    </tr>\n",
       "  </thead>\n",
       "  <tbody>\n",
       "    <tr>\n",
       "      <th>1</th>\n",
       "      <td>1:10000006_G_A</td>\n",
       "      <td>a</td>\n",
       "      <td>g</td>\n",
       "      <td>0.141</td>\n",
       "      <td>0.0789</td>\n",
       "      <td>0.5757</td>\n",
       "      <td>1</td>\n",
       "      <td>10000006</td>\n",
       "      <td>UC</td>\n",
       "    </tr>\n",
       "  </tbody>\n",
       "</table>\n",
       "</div>"
      ],
      "text/plain": [
       "              SNP A1 A2     SE  Effect    Pval  Chr       Pos Disease\n",
       "1  1:10000006_G_A  a  g  0.141  0.0789  0.5757    1  10000006      UC"
      ]
     },
     "execution_count": 10,
     "metadata": {},
     "output_type": "execute_result"
    }
   ],
   "source": [
    "# Ensure Columns included include SNP, Chr, Pos, Pval\n",
    "# Optional columns to include: A1/A2, Beta, SE\n",
    "#example is shown below\n",
    "sum_stats.columns = ['SNP', 'A1', 'A2', 'SE', 'Effect', 'Pval', 'Chr', 'Pos', 'Disease']\n",
    "sum_stats.iloc[1:2,]"
   ]
  },
  {
   "cell_type": "code",
   "execution_count": null,
   "id": "af37c4c0-7d24-45f8-aa8b-522119dd92a3",
   "metadata": {
    "tags": []
   },
   "outputs": [],
   "source": [
    "## Add/Subtract 1/2 to original position\n",
    "pos_plus_one = sum_stats.Pos + 1\n",
    "pos_plus_two = sum_stats.Pos + 2\n",
    "pos_minus_one = sum_stats.Pos - 1\n",
    "pos_minus_two = sum_stats.Pos - 2"
   ]
  },
  {
   "cell_type": "code",
   "execution_count": null,
   "id": "cbff13d2-2931-4ebc-be0d-723eb375ee05",
   "metadata": {
    "tags": []
   },
   "outputs": [],
   "source": [
    "# CREATE BED FILES FOR EACH\n",
    "# dot line used for quality metric\n",
    "dot_line = len(sum_stats.Pos)*['.']\n",
    "\n",
    "file_name = \"06_16_2023_UC2017_original_start_pos.bed\"\n",
    "snp_dict = {\"Chr\":sum_stats.Chr, \"Start\":sum_stats.Pos, \"End\":pos_plus_one, \n",
    "            \"SNP\":sum_stats.SNP, \"QUAL\":dot_line, \"REF\":sum_stats.Allele2, \"ALT\":sum_stats.A1}\n",
    "rsid_stats = pd.DataFrame(snp_dict)\n",
    "rsid_stats.to_csv(file_name, header=False, index=False, sep=\"\\t\")\n",
    "\n",
    "file_name = \"06_16_2023_UC2017_plus_one_start_pos.bed\"\n",
    "snp_dict = {\"Chr\":sum_stats.Chr, \"Start\":pos_plus_one, \"End\":pos_plus_two,\n",
    "            \"SNP\":sum_stats.SNP, \"QUAL\":dot_line, \"REF\":sum_stats.A2, \"ALT\":sum_stats.A1}\n",
    "rsid_stats = pd.DataFrame(snp_dict)\n",
    "rsid_stats.to_csv(file_name, header=False, index=False, sep=\"\\t\")\n",
    "\n",
    "file_name = \"06_16_2023_UC2017_minus_one_start_pos.bed\"\n",
    "snp_dict = {\"Chr\":sum_stats.Chr, \"Start\":pos_minus_one, \"End\":sum_stats.Pos,\n",
    "            \"SNP\":sum_stats.SNP, \"QUAL\":dot_line, \"REF\":sum_stats.A2, \"ALT\":sum_stats.A1}\n",
    "rsid_stats = pd.DataFrame(snp_dict)\n",
    "rsid_stats.to_csv(file_name, header=False, index=False, sep=\"\\t\")\n",
    "\n",
    "file_name = \"06_16_2023_UC2017_minus_two_start_pos.bed\"\n",
    "snp_dict = {\"Chr\":sum_stats.Chr, \"Start\":pos_minus_two, \"End\":pos_minus_one, \n",
    "            \"SNP\":sum_stats.SNP, \"QUAL\":dot_line, \"REF\":sum_stats.A2, \"ALT\":sum_stats.A1}\n",
    "rsid_stats = pd.DataFrame(snp_dict)\n",
    "rsid_stats.to_csv(file_name, header=False, index=False, sep=\"\\t\")"
   ]
  },
  {
   "cell_type": "markdown",
   "id": "d9d915ad-5a52-46c6-ba3e-0f603d138790",
   "metadata": {},
   "source": [
    "____________________________________________________________________________________\n",
    "## 2. Use script get_rsIDs.sh to map these SNPs to the SNP database"
   ]
  },
  {
   "cell_type": "markdown",
   "id": "fc08624e-30b7-4474-b1d0-3448a5f7fd47",
   "metadata": {},
   "source": [
    "____________________________________________________________________________________\n",
    "## 3. With output from get_rsIDs.sh, get final rsid values with preference to original position\n",
    "Some summary statistics are not written in the same format, so we need to first determine which of the changes (orig, -1, +1, etc) are the true original placements as based on having significantly more matches (we got about 35 times more matches in the \"true original\" compared to the next highest).\n",
    "\n",
    "From there, we can favor which RSIDs to keep to ensure all SNPs are accounted for."
   ]
  },
  {
   "cell_type": "code",
   "execution_count": null,
   "id": "10526dda-1cc8-4556-bd95-9b615f1a6bb0",
   "metadata": {},
   "outputs": [],
   "source": [
    "# read in rsID results (BEDOPS reesults)\n",
    "col_values = [\"Chr\", \"Start\", \"End\", \"SNP_name\", \"QUAL\", \"REF\", \"ALT\", \"RSIDs\"]\n",
    "minus_two_rsids = pd.read_csv(\"/path/to/files/rsID_pos_minus_two.bed\", \n",
    "                              sep='\\t')\n",
    "minus_two_rsids.columns = col_values\n",
    "minus_one_rsids = pd.read_csv(\"/path/to/files/rsID_pos_minus_one.bed\", \n",
    "                              sep='\\t')\n",
    "minus_one_rsids.columns = col_values\n",
    "original_rsids = pd.read_csv(\"/path/to/files/rsID_pos_original.bed\", \n",
    "                              sep='\\t')\n",
    "original_rsids.columns = col_values\n",
    "plus_one_rsids = pd.read_csv(\"/path/to/files/rsID_pos_plus_one.bed\", \n",
    "                              sep='\\t')\n",
    "plus_one_rsids.columns = col_values"
   ]
  },
  {
   "cell_type": "code",
   "execution_count": null,
   "id": "b0360bee-6983-4e4d-87e7-d9b9219be582",
   "metadata": {},
   "outputs": [],
   "source": [
    "# see which RSID file has the most (therefore is the true original)\n",
    "print(minus_two_rsids.shape[0] + minus_one_rsids.shape[0] + original_rsids.shape[0] + plus_one_rsids.shape[0])\n",
    "print(\"The number of rsIDs paired:\\n-2: \", minus_two_rsids.shape[0], \n",
    "    \"\\n-1: \", minus_one_rsids.shape[0], \n",
    "    \"\\nog: \", original_rsids.shape[0], \n",
    "    \"\\n+1: \", plus_one_rsids.shape[0])"
   ]
  },
  {
   "cell_type": "code",
   "execution_count": null,
   "id": "85f2fe6d-0654-4087-94f6-e0f9796a3130",
   "metadata": {},
   "outputs": [],
   "source": [
    "# change index to be SNP name\n",
    "minus_two_rsids.index = minus_two_rsids[\"SNP_name\"]\n",
    "minus_one_rsids.index = minus_one_rsids[\"SNP_name\"]\n",
    "original_rsids.index = original_rsids[\"SNP_name\"]\n",
    "plus_one_rsids.index = plus_one_rsids[\"SNP_name\"]\n",
    "print(minus_two_rsids.shape, minus_one_rsids.shape, \n",
    "      original_rsids.shape, plus_one_rsids.shape)"
   ]
  },
  {
   "cell_type": "markdown",
   "id": "e45255e8-18cc-4f3a-8bb3-70a4b5f3a380",
   "metadata": {},
   "source": [
    "#### B. Get the rsids for each SNP\n",
    "Note: BEDOPS considers the end position as the BP position of the SNP, therefore the minus_one_rsid is actually the true original format, original is +1 and minus_two is -1.\n",
    "\n",
    "Favor the one with he greatest number of overlaps first, with the general favors beyond that being in this order: [original, -1, +1, -2]:\n",
    "\n",
    "    1. For RA, that was favor pos_minus_one first, then original, then minus_two.\n",
    "    2. For UC, that was favor pos_plus_one first, then original, then minus_one"
   ]
  },
  {
   "cell_type": "code",
   "execution_count": null,
   "id": "7025dc8b-e4cd-4e19-88f5-0c6e09a2a7fb",
   "metadata": {},
   "outputs": [],
   "source": [
    "# mark the favor order here (example below follows UC):\n",
    "first_favor = plus_one_rsids\n",
    "second_favor = original_rsids\n",
    "third_favor = minus_one_rsids\n",
    "fourth_favor = minus_two_rsids\n"
   ]
  },
  {
   "cell_type": "code",
   "execution_count": null,
   "id": "9bcaa25a-7829-43f3-a941-072f149b6b62",
   "metadata": {},
   "outputs": [],
   "source": [
    "# Get the SNP names of the SNPs with rsids found with the second favored \n",
    "# that did not have an rsid found with the one with the first favored\n",
    "t0 = time.time()\n",
    "only_second_favor_rsids = second_favor[\"SNP_name\"][~second_favor[\"SNP_name\"].isin(first_favor[\"SNP_name\"])]\n",
    "tf = time.time()\n",
    "print(len(only_second_favor_rsids))\n",
    "print(tf-t0, \"seconds\")\n",
    "\n",
    "# remove all SNPs already addressed in first favored\n",
    "second_favor = second_favor.loc[only_second_favor_rsids,]\n",
    "second_favor.index = second_favor[\"SNP_name\"]\n",
    "\n",
    "# concatenate these SNPs to one dataframe\n",
    "full_rsids = pd.concat([first_favor, second_favor])\n",
    "full_rsids.index = full_rsids[\"SNP_name\"]\n",
    "\n",
    "# ensure proper shape\n",
    "print(full_rsids.shape)\n",
    "print(len(only_second_favor_rsids) + first_favor.shape[0])\n"
   ]
  },
  {
   "cell_type": "code",
   "execution_count": null,
   "id": "9b13fdd3-282f-4aac-839f-cc3c9ddb96ae",
   "metadata": {},
   "outputs": [],
   "source": [
    "# Then remove all SNPs already addressed in previously favored in next favored\n",
    "only_third_favor_rsids = third_favor[\"SNP_name\"][~third_favor[\"SNP_name\"].isin(full_rsids[\"SNP_name\"])]\n",
    "print(len(only_third_favor_rsids))\n",
    "third_favor = third_favor.loc[only_third_favor_rsids,]\n",
    "third_favor.index = third_favor[\"SNP_name\"]\n",
    "\n",
    "# concatenate these SNPs to the previously favored dataframe\n",
    "full_rsids = pd.concat([full_rsids, third_favor])\n",
    "print(full_rsids.shape)\n",
    "print(len(only_third_favor_rsids) + len(only_second_favor_rsids) + first_favor.shape[0])\n",
    "full_rsids.head()"
   ]
  },
  {
   "cell_type": "markdown",
   "id": "5ae4b819-af94-4c36-b990-d2c4d538ddd3",
   "metadata": {},
   "source": [
    "### 4. Remove duplicate rsids, and address if SNP has multiple RSIDs\n",
    "1. Keep the shortest RSID if the same SNP has multiple RSIDs. The shortest was chosen as it is usually\n",
    "    the most updated version of the RSID with the longer version being merged into it.\n",
    "2. Any duplicate rsids were identified with only the SNP with the lowest p-value's stats being used for that rsid"
   ]
  },
  {
   "cell_type": "markdown",
   "id": "2b16a864-37f7-4cef-93a2-5e985c33ec73",
   "metadata": {},
   "source": [
    "#### Keep shortest RSID if a SNP mapped to multiple RSIDs (usually most updated)"
   ]
  },
  {
   "cell_type": "code",
   "execution_count": null,
   "id": "b28a9623-71ad-4289-9d9c-c6a9f767acf0",
   "metadata": {
    "tags": []
   },
   "outputs": [
    {
     "name": "stdout",
     "output_type": "stream",
     "text": [
      "101.26584196090698\n",
      "84.33529496192932\n"
     ]
    }
   ],
   "source": [
    "# create a new column with the set version of the SNP list\n",
    "t0 = time.time()\n",
    "full_rsids['RSID_set'] = full_rsids.apply (lambda row: set(row.RSIDs.split(';')), axis=1)\n",
    "tf= time.time()\n",
    "print(tf-t0)\n",
    "t0 = time.time()\n",
    "full_rsids['RSID_first'] = full_rsids.apply (lambda row: list(row.RSID_set)[0], axis=1)\n",
    "tf= time.time()\n",
    "print(tf-t0)"
   ]
  },
  {
   "cell_type": "code",
   "execution_count": null,
   "id": "70b66f82-3c87-4f14-839b-f521c561c387",
   "metadata": {
    "tags": []
   },
   "outputs": [
    {
     "name": "stdout",
     "output_type": "stream",
     "text": [
      "84.22631597518921\n"
     ]
    }
   ],
   "source": [
    "t0 = time.time()\n",
    "full_rsids['RSID_shortest'] = full_rsids.apply (lambda row: min(list(row.RSID_set), key=len), axis=1)\n",
    "tf= time.time()\n",
    "print(tf-t0)"
   ]
  },
  {
   "cell_type": "code",
   "execution_count": null,
   "id": "e496854a-4e2b-452f-a927-99468b51d4a1",
   "metadata": {
    "tags": []
   },
   "outputs": [
    {
     "name": "stdout",
     "output_type": "stream",
     "text": [
      "(708292, 11)\n",
      "5.33797173623957\n"
     ]
    }
   ],
   "source": [
    "# see which SNPs have more than one SNP value\n",
    "mult_rsids = full_rsids.loc[full_rsids.RSID_set.str.len() > 1].reset_index(drop=True)\n",
    "print(\"SNPs with more than one RSID assigned\")\n",
    "print(mult_rsids.shape)\n",
    "print((mult_rsids.shape[0]/13268935) * 100)\n",
    "\n",
    "print(\"SNPs with only one RSID assigned\")\n",
    "# see which SNPs have more than one SNP value\n",
    "single_rsids = full_rsids.loc[full_rsids.RSID_set.str.len() == 1].reset_index(drop=True)\n",
    "print(single_rsids.shape)\n",
    "print((single_rsids.shape[0]/13268935) * 100)"
   ]
  },
  {
   "cell_type": "code",
   "execution_count": null,
   "id": "16861372-a6d0-4e0c-b962-f237bef2f3f2",
   "metadata": {},
   "outputs": [],
   "source": [
    "# Add statistics back in\n",
    "full_rsids_stats = pd.merge(full_rsids, sum_stats, left_index=True, right_index=True)\n",
    "print(full_rsids.shape, sum_stats.shape, full_rsids_stats.shape)"
   ]
  },
  {
   "cell_type": "code",
   "execution_count": null,
   "id": "195aa38b-8719-41ca-a2ac-db1a8c0d3065",
   "metadata": {},
   "outputs": [],
   "source": [
    "## IF RSIDs are the same length (so NULL), make RSID_SHORTEST the RSID FIRST\n",
    "# get the values where NA value\n",
    "na_values = full_rsids_stats[full_rsids_stats['RSID_shortest'].isnull()]\n",
    "non_na_values = distinct_full_rsids_stats[distinct_full_rsids_stats['RSID_shortest'].notnull()]\n",
    "print(na_values.shape, non_na_values.shape)\n",
    "\n",
    "if nrow(na_values) > 0:\n",
    "    # change these NA values to just be the shortest\n",
    "    t0 = time.time()\n",
    "    na_values['RSID_shortest'] = na_values.apply (lambda row: row.RSID_first, axis=1)\n",
    "    tf= time.time()\n",
    "    print(tf-t0)\n",
    "    print(na_values[na_values['RSID_shortest'].isnull()].shape)\n",
    "\n",
    "    # recombine the dataframes\n",
    "    full_rsids_stats = pd.concat([na_values, non_na_values],\n",
    "                                               ignore_index=True)\n",
    "    print(full_rsids_stats.shape)"
   ]
  },
  {
   "cell_type": "markdown",
   "id": "82b17220-1862-42ca-ac8b-a4eb5f4b4658",
   "metadata": {},
   "source": [
    "#### If duplicates, keep one with lowest p-value"
   ]
  },
  {
   "cell_type": "code",
   "execution_count": null,
   "id": "b3ab12bf-d9c0-4893-887b-e976175e862f",
   "metadata": {},
   "outputs": [],
   "source": [
    "# get duplicates\n",
    "t0 = time.time()\n",
    "duplicate_rsid_set = full_rsids_stats[full_rsids_stats.duplicated(['RSID_set'])]\n",
    "tf = time.time()\n",
    "print(tf-t0, \"seconds\")\n",
    "print(duplicate_rsid_set.shape)\n",
    "non_duplicate_rsid_short = full_rsids_stats[~full_rsids_stats['RSID_shortest'].isin(duplicate_rsid_set['RSID_shortest'])]\n"
   ]
  },
  {
   "cell_type": "code",
   "execution_count": null,
   "id": "c5bba43e-97b6-43e8-9360-ee150fbf8210",
   "metadata": {},
   "outputs": [],
   "source": [
    "# make a list of the SNP names to keep for duplicates\n",
    "keep_SNP_names = []\n",
    "count=0\n",
    "print(len(set(duplicate_rsid_set['RSID_shortest'])))\n",
    "t0 = time.time()\n",
    "# for each duplicated rsid, get the SNP name\n",
    "for dup_rsid in test_list:\n",
    "    # get the SNPs for this dup_rsid\n",
    "    temp = full_rsids_stats[full_rsids_stats['RSID_shortest']==dup_rsid]\n",
    "    rsid_dict[dup_rsid] = temp['SNP_name']\n",
    "    # get the index of the SNP with the minimum pvalue\n",
    "    array = temp['P.value']\n",
    "    min_index = array.argmin()\n",
    "    # add the SNP name of the SNP with the lowest P value\n",
    "    keep_SNP_names.append(list(temp['SNP_name'])[min_index])\n",
    "    count += 1\n",
    "tf = time.time()\n",
    "print(tf-t0)\n",
    "print(len(keep_SNP_names))\n",
    "print(count)"
   ]
  },
  {
   "cell_type": "code",
   "execution_count": null,
   "id": "9b5a9cac-3508-45ec-8b94-ffce7eb3255b",
   "metadata": {},
   "outputs": [],
   "source": [
    "# then concatenate this list with the list of nonduplicated rsids\n",
    "full_keep_SNP_names = list(keep_SNP_names) + list(non_duplicate_rsid_short['SNP_name'])\n",
    "\n",
    "print(len(keep_SNP_names))\n",
    "print(len(non_duplicate_rsid_short['SNP_name']))\n",
    "print(len(full_keep_SNP_names))"
   ]
  },
  {
   "cell_type": "code",
   "execution_count": null,
   "id": "48cde6c3-409e-4182-adfe-3289d3bd855b",
   "metadata": {},
   "outputs": [],
   "source": [
    "# get the complete rsid stats with just distinct RSIDs\n",
    "distinct_full_rsids_stats = full_rsids_stats[full_rsids_stats['SNP_name_x'].isin(full_keep_SNP_names)]\n",
    "distinct_full_rsids_stats.shape"
   ]
  },
  {
   "cell_type": "markdown",
   "id": "65df032d-d47d-45d2-8cbe-39711613ab36",
   "metadata": {},
   "source": [
    "### 5. Remove MHC region"
   ]
  },
  {
   "cell_type": "code",
   "execution_count": null,
   "id": "1c64e346-7e0d-4f24-b552-32fd9c1bb013",
   "metadata": {},
   "outputs": [],
   "source": [
    "bad_list = distinct_full_rsids_stats['End'][distinct_full_rsids_stats['End'].between(28477797, 33448354)]\n",
    "print(len(bad_list))\n",
    "six = distinct_full_rsids_stats[distinct_full_rsids_stats['Chr_x']==6]\n",
    "bad = six[six['End'].isin(bad_list)]\n",
    "print(bad.shape)\n",
    "bad.iloc[1:2,]\n",
    "SNP_bad = bad['SNP_name']\n",
    "distinct_full_rsids_stats = distinct_full_rsids_stats[~distinct_full_rsids_stats['SNP_name'].isin(SNP_bad)]\n",
    "print(distinct_full_rsids_stats.shape)\n",
    "print(len(SNP_bad))"
   ]
  },
  {
   "cell_type": "markdown",
   "id": "ffa2ff90-ce5c-4957-9a16-bfe4370cc96e",
   "metadata": {},
   "source": [
    "### 6*. If using with Munge Statistics python (as with scDRS), see if pandas identifies any very small P values as 0 and change to 1e-300 instead since otherwise Munge will throw out the SNP believing it to have an improper p-value"
   ]
  },
  {
   "cell_type": "code",
   "execution_count": null,
   "id": "1f33099e-9a00-45d2-8d6d-ea719eaa3731",
   "metadata": {},
   "outputs": [],
   "source": [
    "print(distinct_full_full_rsids_stats.loc[distinct_full_full_rsids_stats[\"Pval\"] == 0,].shape)\n",
    "print(distinct_full_full_rsids_stats.loc[distinct_full_full_rsids_stats[\"Pval\"] == 1e-300,].shape)\n",
    "pd_rsidchrposa1a2.loc[pd_rsidchrposa1a2['Pval'] == 0, 'Pval'] = 1e-300\n",
    "print(distinct_full_full_rsids_stats.loc[distinct_full_full_rsids_stats[\"Pval\"] == 0,].shape)\n",
    "print(distinct_full_full_rsids_stats.loc[distinct_full_full_rsids_stats[\"Pval\"] == 1e-300,].shape)"
   ]
  },
  {
   "cell_type": "markdown",
   "id": "0760f8c2-dcb9-4e3d-b821-67c657d6a5f2",
   "metadata": {},
   "source": [
    "### 7. Save the appropriate files\n"
   ]
  },
  {
   "cell_type": "code",
   "execution_count": null,
   "id": "e04402a2-37f4-457d-8c16-e01deddb86a2",
   "metadata": {},
   "outputs": [],
   "source": [
    "pd_rsidchrposa1a2 = fixed_distinct_complete_rsids_stats[[\"RSID_shortest\", \"Chr_x\", \"End\", \"Allele1\", \"Allele2\", \"Effect\", \"StdErr\", \"P.value\"]]\n",
    "pd_rsidchrposa1a2.columns = [\"SNP\", \"Chr_x\", \"BP\", \"A1\", \"A2\", \"Effect\", \"SE\", \"Pval\"]\n",
    "file_name = \"/Users/hopekirby/Desktop/SC_GWAS_Bench/data/rsid_based_files/06_20_2023_pd_rsidchrposa1a2_UC2017_noMHC.txt\"\n",
    "pd_rsidchrposa1a2.to_csv(file_name, header=True, index=False, sep=\"\\t\")"
   ]
  }
 ],
 "metadata": {
  "kernelspec": {
   "display_name": "sclinker",
   "language": "python",
   "name": "sclinker"
  },
  "language_info": {
   "codemirror_mode": {
    "name": "ipython",
    "version": 3
   },
   "file_extension": ".py",
   "mimetype": "text/x-python",
   "name": "python",
   "nbconvert_exporter": "python",
   "pygments_lexer": "ipython3",
   "version": "3.9.16"
  }
 },
 "nbformat": 4,
 "nbformat_minor": 5
}
