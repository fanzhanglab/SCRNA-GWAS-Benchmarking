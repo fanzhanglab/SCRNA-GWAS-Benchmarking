{
 "cells": [
  {
   "cell_type": "markdown",
   "id": "7101353f-38c9-436d-8e76-9dcf7df4c3c9",
   "metadata": {},
   "source": [
    "## Get the pvalue and zscore files of genes for traits\n"
   ]
  },
  {
   "cell_type": "code",
   "execution_count": 1,
   "id": "f9c041da-90e6-4029-b375-4aaa3f6861f1",
   "metadata": {
    "tags": []
   },
   "outputs": [
    {
     "data": {
      "text/html": [
       "'/Users/hopekirby/miniconda3/envs/r-kernel/lib/R'"
      ],
      "text/latex": [
       "'/Users/hopekirby/miniconda3/envs/r-kernel/lib/R'"
      ],
      "text/markdown": [
       "'/Users/hopekirby/miniconda3/envs/r-kernel/lib/R'"
      ],
      "text/plain": [
       "[1] \"/Users/hopekirby/miniconda3/envs/r-kernel/lib/R\""
      ]
     },
     "metadata": {},
     "output_type": "display_data"
    },
    {
     "data": {
      "text/html": [
       "'/Users/hopekirby/miniconda3/envs/r-kernel/lib/R/library'"
      ],
      "text/latex": [
       "'/Users/hopekirby/miniconda3/envs/r-kernel/lib/R/library'"
      ],
      "text/markdown": [
       "'/Users/hopekirby/miniconda3/envs/r-kernel/lib/R/library'"
      ],
      "text/plain": [
       "[1] \"/Users/hopekirby/miniconda3/envs/r-kernel/lib/R/library\""
      ]
     },
     "metadata": {},
     "output_type": "display_data"
    }
   ],
   "source": [
    "R.home()\n",
    ".Library"
   ]
  },
  {
   "cell_type": "code",
   "execution_count": 2,
   "id": "23adc061-bcef-4e37-b9fd-4cefa5c31d5f",
   "metadata": {
    "tags": []
   },
   "outputs": [
    {
     "name": "stderr",
     "output_type": "stream",
     "text": [
      "── \u001b[1mAttaching packages\u001b[22m ─────────────────────────────────────── tidyverse 1.3.2 ──\n",
      "\u001b[32m✔\u001b[39m \u001b[34mggplot2\u001b[39m 3.4.2     \u001b[32m✔\u001b[39m \u001b[34mpurrr  \u001b[39m 1.0.1\n",
      "\u001b[32m✔\u001b[39m \u001b[34mtibble \u001b[39m 3.2.1     \u001b[32m✔\u001b[39m \u001b[34mdplyr  \u001b[39m 1.1.2\n",
      "\u001b[32m✔\u001b[39m \u001b[34mtidyr  \u001b[39m 1.3.0     \u001b[32m✔\u001b[39m \u001b[34mstringr\u001b[39m 1.5.0\n",
      "\u001b[32m✔\u001b[39m \u001b[34mreadr  \u001b[39m 2.1.3     \u001b[32m✔\u001b[39m \u001b[34mforcats\u001b[39m 1.0.0\n",
      "── \u001b[1mConflicts\u001b[22m ────────────────────────────────────────── tidyverse_conflicts() ──\n",
      "\u001b[31m✖\u001b[39m \u001b[34mdplyr\u001b[39m::\u001b[32mbetween()\u001b[39m   masks \u001b[34mdata.table\u001b[39m::between()\n",
      "\u001b[31m✖\u001b[39m \u001b[34mdplyr\u001b[39m::\u001b[32mfilter()\u001b[39m    masks \u001b[34mstats\u001b[39m::filter()\n",
      "\u001b[31m✖\u001b[39m \u001b[34mdplyr\u001b[39m::\u001b[32mfirst()\u001b[39m     masks \u001b[34mdata.table\u001b[39m::first()\n",
      "\u001b[31m✖\u001b[39m \u001b[34mdplyr\u001b[39m::\u001b[32mlag()\u001b[39m       masks \u001b[34mstats\u001b[39m::lag()\n",
      "\u001b[31m✖\u001b[39m \u001b[34mdplyr\u001b[39m::\u001b[32mlast()\u001b[39m      masks \u001b[34mdata.table\u001b[39m::last()\n",
      "\u001b[31m✖\u001b[39m \u001b[34mpurrr\u001b[39m::\u001b[32mtranspose()\u001b[39m masks \u001b[34mdata.table\u001b[39m::transpose()\n",
      "\n",
      "Attaching package: ‘Matrix’\n",
      "\n",
      "\n",
      "The following objects are masked from ‘package:tidyr’:\n",
      "\n",
      "    expand, pack, unpack\n",
      "\n",
      "\n"
     ]
    }
   ],
   "source": [
    "library(data.table)\n",
    "library(tidyverse)\n",
    "library(Matrix)"
   ]
  },
  {
   "cell_type": "markdown",
   "id": "aa089a4f-ad09-4759-b5b7-8a5ada65c8ea",
   "metadata": {},
   "source": [
    "## 1. Get MAGMA based Gene Symbols"
   ]
  },
  {
   "cell_type": "code",
   "execution_count": 65,
   "id": "3c071d22-0dde-4733-93d7-d1e6a009475e",
   "metadata": {
    "tags": []
   },
   "outputs": [
    {
     "data": {
      "text/html": [
       "<table class=\"dataframe\">\n",
       "<caption>A data.table: 2 × 9</caption>\n",
       "<thead>\n",
       "\t<tr><th scope=col>GENE</th><th scope=col>CHR</th><th scope=col>START</th><th scope=col>STOP</th><th scope=col>NSNPS</th><th scope=col>NPARAM</th><th scope=col>N</th><th scope=col>ZSTAT</th><th scope=col>P</th></tr>\n",
       "\t<tr><th scope=col>&lt;int&gt;</th><th scope=col>&lt;int&gt;</th><th scope=col>&lt;int&gt;</th><th scope=col>&lt;int&gt;</th><th scope=col>&lt;int&gt;</th><th scope=col>&lt;int&gt;</th><th scope=col>&lt;int&gt;</th><th scope=col>&lt;dbl&gt;</th><th scope=col>&lt;dbl&gt;</th></tr>\n",
       "</thead>\n",
       "<tbody>\n",
       "\t<tr><td>148398</td><td>1</td><td>849993</td><td>889961</td><td>100</td><td>14</td><td>97173</td><td>-1.15290</td><td>0.87552</td></tr>\n",
       "\t<tr><td> 26155</td><td>1</td><td>869583</td><td>904679</td><td> 88</td><td> 9</td><td>97173</td><td>-0.15151</td><td>0.56021</td></tr>\n",
       "</tbody>\n",
       "</table>\n"
      ],
      "text/latex": [
       "A data.table: 2 × 9\n",
       "\\begin{tabular}{lllllllll}\n",
       " GENE & CHR & START & STOP & NSNPS & NPARAM & N & ZSTAT & P\\\\\n",
       " <int> & <int> & <int> & <int> & <int> & <int> & <int> & <dbl> & <dbl>\\\\\n",
       "\\hline\n",
       "\t 148398 & 1 & 849993 & 889961 & 100 & 14 & 97173 & -1.15290 & 0.87552\\\\\n",
       "\t  26155 & 1 & 869583 & 904679 &  88 &  9 & 97173 & -0.15151 & 0.56021\\\\\n",
       "\\end{tabular}\n"
      ],
      "text/markdown": [
       "\n",
       "A data.table: 2 × 9\n",
       "\n",
       "| GENE &lt;int&gt; | CHR &lt;int&gt; | START &lt;int&gt; | STOP &lt;int&gt; | NSNPS &lt;int&gt; | NPARAM &lt;int&gt; | N &lt;int&gt; | ZSTAT &lt;dbl&gt; | P &lt;dbl&gt; |\n",
       "|---|---|---|---|---|---|---|---|---|\n",
       "| 148398 | 1 | 849993 | 889961 | 100 | 14 | 97173 | -1.15290 | 0.87552 |\n",
       "|  26155 | 1 | 869583 | 904679 |  88 |  9 | 97173 | -0.15151 | 0.56021 |\n",
       "\n"
      ],
      "text/plain": [
       "  GENE   CHR START  STOP   NSNPS NPARAM N     ZSTAT    P      \n",
       "1 148398 1   849993 889961 100   14     97173 -1.15290 0.87552\n",
       "2  26155 1   869583 904679  88    9     97173 -0.15151 0.56021"
      ]
     },
     "metadata": {},
     "output_type": "display_data"
    }
   ],
   "source": [
    "# READ IN GENE SCORES FROM MAGMA\n",
    "dir <- \"/Users/hopekirby/Desktop/SCRNA-GWAS-Benchmarking/output/MAGMA/RA/\"\n",
    "genes_out = fread(paste0(dir,\"10kb_win.genes.out\"))\n",
    "genes_out[1:2,]"
   ]
  },
  {
   "cell_type": "code",
   "execution_count": 4,
   "id": "bc366c5d-efb3-44dc-a479-2f6d78def8ba",
   "metadata": {
    "tags": []
   },
   "outputs": [
    {
     "data": {
      "text/html": [
       "<style>\n",
       ".list-inline {list-style: none; margin:0; padding: 0}\n",
       ".list-inline>li {display: inline-block}\n",
       ".list-inline>li:not(:last-child)::after {content: \"\\00b7\"; padding: 0 .5ex}\n",
       "</style>\n",
       "<ol class=list-inline><li>20137</li><li>6</li></ol>\n"
      ],
      "text/latex": [
       "\\begin{enumerate*}\n",
       "\\item 20137\n",
       "\\item 6\n",
       "\\end{enumerate*}\n"
      ],
      "text/markdown": [
       "1. 20137\n",
       "2. 6\n",
       "\n",
       "\n"
      ],
      "text/plain": [
       "[1] 20137     6"
      ]
     },
     "metadata": {},
     "output_type": "display_data"
    },
    {
     "data": {
      "text/html": [
       "20137"
      ],
      "text/latex": [
       "20137"
      ],
      "text/markdown": [
       "20137"
      ],
      "text/plain": [
       "[1] 20137"
      ]
     },
     "metadata": {},
     "output_type": "display_data"
    },
    {
     "data": {
      "text/html": [
       "<style>\n",
       ".list-inline {list-style: none; margin:0; padding: 0}\n",
       ".list-inline>li {display: inline-block}\n",
       ".list-inline>li:not(:last-child)::after {content: \"\\00b7\"; padding: 0 .5ex}\n",
       "</style>\n",
       "<ol class=list-inline><li>19427</li><li>6</li></ol>\n"
      ],
      "text/latex": [
       "\\begin{enumerate*}\n",
       "\\item 19427\n",
       "\\item 6\n",
       "\\end{enumerate*}\n"
      ],
      "text/markdown": [
       "1. 19427\n",
       "2. 6\n",
       "\n",
       "\n"
      ],
      "text/plain": [
       "[1] 19427     6"
      ]
     },
     "metadata": {},
     "output_type": "display_data"
    },
    {
     "data": {
      "text/html": [
       "19427"
      ],
      "text/latex": [
       "19427"
      ],
      "text/markdown": [
       "19427"
      ],
      "text/plain": [
       "[1] 19427"
      ]
     },
     "metadata": {},
     "output_type": "display_data"
    }
   ],
   "source": [
    "dir_mag <- \"/Users/hopekirby/Desktop/SC_GWAS_Bench/data/MAGMA/NCBI38/\"\n",
    "genes_loc = fread(paste0(dir_mag,\"NCBI38.gene.loc\"))\n",
    "dim(genes_loc)\n",
    "colnames(genes_loc) <- c('ENTREZ_ID', 'Chr', 'Start', 'Stop', 'Strand', 'SYMBOL')\n",
    "\n",
    "hg38_list <- genes_loc$SYMBOL\n",
    "length(hg38_list)\n",
    "\n",
    "dir_mag <- \"/Users/hopekirby/Desktop/SC_GWAS_Bench/data/MAGMA/NCBI37.3/\"\n",
    "genes_loc = fread(paste0(dir_mag,\"NCBI37.3.gene.loc\"))\n",
    "dim(genes_loc)\n",
    "colnames(genes_loc) <- c('ENTREZ_ID', 'Chr', 'Start', 'Stop', 'Strand', 'SYMBOL')\n",
    "\n",
    "hg37_list <- genes_loc$SYMBOL\n",
    "length(hg37_list)"
   ]
  },
  {
   "cell_type": "code",
   "execution_count": 66,
   "id": "9a3c8094-da98-4de3-9e8d-e385807358e8",
   "metadata": {
    "tags": []
   },
   "outputs": [
    {
     "data": {
      "text/html": [
       "<style>\n",
       ".dl-inline {width: auto; margin:0; padding: 0}\n",
       ".dl-inline>dt, .dl-inline>dd {float: none; width: auto; display: inline-block}\n",
       ".dl-inline>dt::after {content: \":\\0020\"; padding-right: .5ex}\n",
       ".dl-inline>dt:not(:first-of-type) {padding-left: .5ex}\n",
       "</style><dl class=dl-inline><dt>79501</dt><dd>'OR4F5'</dd><dt>100996442</dt><dd>'LOC100996442'</dd><dt>729759</dt><dd>'OR4F29'</dd><dt>81399</dt><dd>'OR4F16'</dd></dl>\n"
      ],
      "text/latex": [
       "\\begin{description*}\n",
       "\\item[79501] 'OR4F5'\n",
       "\\item[100996442] 'LOC100996442'\n",
       "\\item[729759] 'OR4F29'\n",
       "\\item[81399] 'OR4F16'\n",
       "\\end{description*}\n"
      ],
      "text/markdown": [
       "79501\n",
       ":   'OR4F5'100996442\n",
       ":   'LOC100996442'729759\n",
       ":   'OR4F29'81399\n",
       ":   'OR4F16'\n",
       "\n"
      ],
      "text/plain": [
       "         79501      100996442         729759          81399 \n",
       "       \"OR4F5\" \"LOC100996442\"       \"OR4F29\"       \"OR4F16\" "
      ]
     },
     "metadata": {},
     "output_type": "display_data"
    },
    {
     "data": {
      "text/html": [
       "<table class=\"dataframe\">\n",
       "<caption>A data.table: 3 × 10</caption>\n",
       "<thead>\n",
       "\t<tr><th scope=col>GENE</th><th scope=col>CHR</th><th scope=col>START</th><th scope=col>STOP</th><th scope=col>NSNPS</th><th scope=col>NPARAM</th><th scope=col>N</th><th scope=col>ZSTAT</th><th scope=col>P</th><th scope=col>SYMBOL</th></tr>\n",
       "\t<tr><th scope=col>&lt;int&gt;</th><th scope=col>&lt;int&gt;</th><th scope=col>&lt;int&gt;</th><th scope=col>&lt;int&gt;</th><th scope=col>&lt;int&gt;</th><th scope=col>&lt;int&gt;</th><th scope=col>&lt;int&gt;</th><th scope=col>&lt;dbl&gt;</th><th scope=col>&lt;dbl&gt;</th><th scope=col>&lt;chr&gt;</th></tr>\n",
       "</thead>\n",
       "<tbody>\n",
       "\t<tr><td>148398</td><td>1</td><td>849993</td><td>889961</td><td>100</td><td>14</td><td>97173</td><td>-1.152900</td><td>0.87552</td><td>SAMD11</td></tr>\n",
       "\t<tr><td> 26155</td><td>1</td><td>869583</td><td>904679</td><td> 88</td><td> 9</td><td>97173</td><td>-0.151510</td><td>0.56021</td><td>NOC2L </td></tr>\n",
       "\t<tr><td>339451</td><td>1</td><td>885967</td><td>911099</td><td> 77</td><td>10</td><td>97173</td><td>-0.025141</td><td>0.51003</td><td>KLHL17</td></tr>\n",
       "</tbody>\n",
       "</table>\n"
      ],
      "text/latex": [
       "A data.table: 3 × 10\n",
       "\\begin{tabular}{llllllllll}\n",
       " GENE & CHR & START & STOP & NSNPS & NPARAM & N & ZSTAT & P & SYMBOL\\\\\n",
       " <int> & <int> & <int> & <int> & <int> & <int> & <int> & <dbl> & <dbl> & <chr>\\\\\n",
       "\\hline\n",
       "\t 148398 & 1 & 849993 & 889961 & 100 & 14 & 97173 & -1.152900 & 0.87552 & SAMD11\\\\\n",
       "\t  26155 & 1 & 869583 & 904679 &  88 &  9 & 97173 & -0.151510 & 0.56021 & NOC2L \\\\\n",
       "\t 339451 & 1 & 885967 & 911099 &  77 & 10 & 97173 & -0.025141 & 0.51003 & KLHL17\\\\\n",
       "\\end{tabular}\n"
      ],
      "text/markdown": [
       "\n",
       "A data.table: 3 × 10\n",
       "\n",
       "| GENE &lt;int&gt; | CHR &lt;int&gt; | START &lt;int&gt; | STOP &lt;int&gt; | NSNPS &lt;int&gt; | NPARAM &lt;int&gt; | N &lt;int&gt; | ZSTAT &lt;dbl&gt; | P &lt;dbl&gt; | SYMBOL &lt;chr&gt; |\n",
       "|---|---|---|---|---|---|---|---|---|---|\n",
       "| 148398 | 1 | 849993 | 889961 | 100 | 14 | 97173 | -1.152900 | 0.87552 | SAMD11 |\n",
       "|  26155 | 1 | 869583 | 904679 |  88 |  9 | 97173 | -0.151510 | 0.56021 | NOC2L  |\n",
       "| 339451 | 1 | 885967 | 911099 |  77 | 10 | 97173 | -0.025141 | 0.51003 | KLHL17 |\n",
       "\n"
      ],
      "text/plain": [
       "  GENE   CHR START  STOP   NSNPS NPARAM N     ZSTAT     P       SYMBOL\n",
       "1 148398 1   849993 889961 100   14     97173 -1.152900 0.87552 SAMD11\n",
       "2  26155 1   869583 904679  88    9     97173 -0.151510 0.56021 NOC2L \n",
       "3 339451 1   885967 911099  77   10     97173 -0.025141 0.51003 KLHL17"
      ]
     },
     "metadata": {},
     "output_type": "display_data"
    }
   ],
   "source": [
    "# make a dictionary of entrez_id to Symbol\n",
    "L <- c(genes_loc$SYMBOL)\n",
    "names(L) <- genes_loc$ENTREZ_ID\n",
    "L[1:4]\n",
    "\n",
    "# Add SYmbol Column\n",
    "genes_out <- genes_out %>% \n",
    "  mutate(\n",
    "    SYMBOL = recode(GENE, !!!L)\n",
    "  )\n",
    "genes_out[1:3,]"
   ]
  },
  {
   "cell_type": "code",
   "execution_count": 67,
   "id": "0dd6a506-eea2-4116-afe7-787b0702b327",
   "metadata": {
    "tags": []
   },
   "outputs": [
    {
     "data": {
      "text/html": [
       "18065"
      ],
      "text/latex": [
       "18065"
      ],
      "text/markdown": [
       "18065"
      ],
      "text/plain": [
       "[1] 18065"
      ]
     },
     "metadata": {},
     "output_type": "display_data"
    },
    {
     "data": {
      "text/html": [
       "18065"
      ],
      "text/latex": [
       "18065"
      ],
      "text/markdown": [
       "18065"
      ],
      "text/plain": [
       "[1] 18065"
      ]
     },
     "metadata": {},
     "output_type": "display_data"
    }
   ],
   "source": [
    "# Order by p-value \n",
    "genes_out <- genes_out[order(genes_out$P),]\n",
    "top_1000 <- genes_out$SYMBOL[1:1000]\n",
    "gene_list_sumstats <- genes_out$SYMBOL\n",
    "length(gene_list_sumstats)\n",
    "length(unique(gene_list_sumstats))"
   ]
  },
  {
   "cell_type": "markdown",
   "id": "315920eb-e679-47cd-ab85-205ce23d2b51",
   "metadata": {},
   "source": [
    "## 2. Fix gene aliases\n",
    "1. Fix Aliases from NCBI synonyms file (ftp://ftp.ncbi.nlm.nih.gov/gene/DATA/GENE_INFO/Mammalia/Homo_sapiens.gene_info.gz) \n",
    "2. Fix remaining protein-encoding genes by looking up aliases on Genecards\n",
    "3. Remove duplicates\n",
    "4. Only include genes that are also found in the scRNA-seq dataset"
   ]
  },
  {
   "cell_type": "code",
   "execution_count": 7,
   "id": "5bfced73-75fa-4f13-8717-28ce7e2c8fad",
   "metadata": {
    "tags": []
   },
   "outputs": [
    {
     "data": {
      "text/plain": [
       "2 x 2 sparse Matrix of class \"dgCMatrix\"\n",
       "            BRI-399_AAACGAACAGTCTGGC BRI-399_AAAGGATGTCTCAAGT\n",
       "MIR1302-2HG                        .                        .\n",
       "FAM138A                            .                        ."
      ]
     },
     "metadata": {},
     "output_type": "display_data"
    },
    {
     "data": {
      "text/html": [
       "<style>\n",
       ".list-inline {list-style: none; margin:0; padding: 0}\n",
       ".list-inline>li {display: inline-block}\n",
       ".list-inline>li:not(:last-child)::after {content: \"\\00b7\"; padding: 0 .5ex}\n",
       "</style>\n",
       "<ol class=list-inline><li>'MIR1302-2HG'</li><li>'FAM138A'</li></ol>\n"
      ],
      "text/latex": [
       "\\begin{enumerate*}\n",
       "\\item 'MIR1302-2HG'\n",
       "\\item 'FAM138A'\n",
       "\\end{enumerate*}\n"
      ],
      "text/markdown": [
       "1. 'MIR1302-2HG'\n",
       "2. 'FAM138A'\n",
       "\n",
       "\n"
      ],
      "text/plain": [
       "[1] \"MIR1302-2HG\" \"FAM138A\"    "
      ]
     },
     "metadata": {},
     "output_type": "display_data"
    },
    {
     "data": {
      "text/html": [
       "<table class=\"dataframe\">\n",
       "<caption>A matrix: 2 × 6 of type dbl</caption>\n",
       "<thead>\n",
       "\t<tr><th></th><th scope=col>used</th><th scope=col>(Mb)</th><th scope=col>gc trigger</th><th scope=col>(Mb)</th><th scope=col>max used</th><th scope=col>(Mb)</th></tr>\n",
       "</thead>\n",
       "<tbody>\n",
       "\t<tr><th scope=row>Ncells</th><td>2438693</td><td>130.3</td><td>   4355070</td><td> 232.6</td><td>   4301247</td><td>  229.8</td></tr>\n",
       "\t<tr><th scope=row>Vcells</th><td>4668866</td><td> 35.7</td><td>1269852816</td><td>9688.3</td><td>1321523280</td><td>10082.5</td></tr>\n",
       "</tbody>\n",
       "</table>\n"
      ],
      "text/latex": [
       "A matrix: 2 × 6 of type dbl\n",
       "\\begin{tabular}{r|llllll}\n",
       "  & used & (Mb) & gc trigger & (Mb) & max used & (Mb)\\\\\n",
       "\\hline\n",
       "\tNcells & 2438693 & 130.3 &    4355070 &  232.6 &    4301247 &   229.8\\\\\n",
       "\tVcells & 4668866 &  35.7 & 1269852816 & 9688.3 & 1321523280 & 10082.5\\\\\n",
       "\\end{tabular}\n"
      ],
      "text/markdown": [
       "\n",
       "A matrix: 2 × 6 of type dbl\n",
       "\n",
       "| <!--/--> | used | (Mb) | gc trigger | (Mb) | max used | (Mb) |\n",
       "|---|---|---|---|---|---|---|\n",
       "| Ncells | 2438693 | 130.3 |    4355070 |  232.6 |    4301247 |   229.8 |\n",
       "| Vcells | 4668866 |  35.7 | 1269852816 | 9688.3 | 1321523280 | 10082.5 |\n",
       "\n"
      ],
      "text/plain": [
       "       used    (Mb)  gc trigger (Mb)   max used   (Mb)   \n",
       "Ncells 2438693 130.3    4355070  232.6    4301247   229.8\n",
       "Vcells 4668866  35.7 1269852816 9688.3 1321523280 10082.5"
      ]
     },
     "metadata": {},
     "output_type": "display_data"
    }
   ],
   "source": [
    "# get the list of genes in the SC data\n",
    "dir_data <- \"/Users/hopekirby/Desktop/ZhangS23/data/amp2/\"\n",
    "exp_norm <- readRDS(paste0(dir_data, \"qc_mRNA_314011cells_log_normalized_matrix_2023-03-15.rds\"))\n",
    "# dir_data <- \"../../data/SC_data/Simile_UC/\"\n",
    "# exp_norm <- readRDS(paste0(dir_data, \"exprs_norm_qc_ulcerative_colitis_gut.rds\"))\n",
    "exp_norm[1:2,1:2]\n",
    "gene_list_RA <- rownames(exp_norm)\n",
    "gene_list_RA[1:2]\n",
    "rm(exp_norm)\n",
    "gc()"
   ]
  },
  {
   "cell_type": "code",
   "execution_count": 68,
   "id": "927f5058-7b88-4952-b033-29cb12fa32b0",
   "metadata": {
    "tags": []
   },
   "outputs": [
    {
     "data": {
      "text/html": [
       "18065"
      ],
      "text/latex": [
       "18065"
      ],
      "text/markdown": [
       "18065"
      ],
      "text/plain": [
       "[1] 18065"
      ]
     },
     "metadata": {},
     "output_type": "display_data"
    },
    {
     "data": {
      "text/html": [
       "33538"
      ],
      "text/latex": [
       "33538"
      ],
      "text/markdown": [
       "33538"
      ],
      "text/plain": [
       "[1] 33538"
      ]
     },
     "metadata": {},
     "output_type": "display_data"
    },
    {
     "data": {
      "text/html": [
       "819"
      ],
      "text/latex": [
       "819"
      ],
      "text/markdown": [
       "819"
      ],
      "text/plain": [
       "[1] 819"
      ]
     },
     "metadata": {},
     "output_type": "display_data"
    }
   ],
   "source": [
    "# see how many genes are initially different\n",
    "length(gene_list_sumstats)\n",
    "length(gene_list_RA)\n",
    "insumstats_notsc <- setdiff(gene_list_sumstats, gene_list_RA)\n",
    "length(insumstats_notsc)"
   ]
  },
  {
   "cell_type": "markdown",
   "id": "8fc2827c-4c80-4baf-8f63-be3e598f2bdd",
   "metadata": {},
   "source": [
    "### Get Synonyms of genes from NCBI"
   ]
  },
  {
   "cell_type": "code",
   "execution_count": 9,
   "id": "32a4ed9c-6a9f-424f-8475-1df683345b1d",
   "metadata": {
    "tags": []
   },
   "outputs": [
    {
     "data": {
      "text/html": [
       "<ol>\n",
       "\t<li><style>\n",
       ".list-inline {list-style: none; margin:0; padding: 0}\n",
       ".list-inline>li {display: inline-block}\n",
       ".list-inline>li:not(:last-child)::after {content: \"\\00b7\"; padding: 0 .5ex}\n",
       "</style>\n",
       "<ol class=list-inline><li>'A1B'</li><li>'ABG'</li><li>'GAB'</li><li>'HYST2477'</li></ol>\n",
       "</li>\n",
       "</ol>\n"
      ],
      "text/latex": [
       "\\begin{enumerate}\n",
       "\\item \\begin{enumerate*}\n",
       "\\item 'A1B'\n",
       "\\item 'ABG'\n",
       "\\item 'GAB'\n",
       "\\item 'HYST2477'\n",
       "\\end{enumerate*}\n",
       "\n",
       "\\end{enumerate}\n"
      ],
      "text/markdown": [
       "1. 1. 'A1B'\n",
       "2. 'ABG'\n",
       "3. 'GAB'\n",
       "4. 'HYST2477'\n",
       "\n",
       "\n",
       "\n",
       "\n",
       "\n"
      ],
      "text/plain": [
       "[[1]]\n",
       "[1] \"A1B\"      \"ABG\"      \"GAB\"      \"HYST2477\"\n"
      ]
     },
     "metadata": {},
     "output_type": "display_data"
    },
    {
     "data": {
      "text/html": [
       "<style>\n",
       ".list-inline {list-style: none; margin:0; padding: 0}\n",
       ".list-inline>li {display: inline-block}\n",
       ".list-inline>li:not(:last-child)::after {content: \"\\00b7\"; padding: 0 .5ex}\n",
       "</style>\n",
       "<ol class=list-inline><li>'A1B'</li><li>'ABG'</li><li>'GAB'</li><li>'HYST2477'</li><li>'A2MD'</li><li>'CPAMD5'</li><li>'FWP007'</li><li>'S863-7'</li><li>'A2MP'</li><li>'AAC1'</li></ol>\n"
      ],
      "text/latex": [
       "\\begin{enumerate*}\n",
       "\\item 'A1B'\n",
       "\\item 'ABG'\n",
       "\\item 'GAB'\n",
       "\\item 'HYST2477'\n",
       "\\item 'A2MD'\n",
       "\\item 'CPAMD5'\n",
       "\\item 'FWP007'\n",
       "\\item 'S863-7'\n",
       "\\item 'A2MP'\n",
       "\\item 'AAC1'\n",
       "\\end{enumerate*}\n"
      ],
      "text/markdown": [
       "1. 'A1B'\n",
       "2. 'ABG'\n",
       "3. 'GAB'\n",
       "4. 'HYST2477'\n",
       "5. 'A2MD'\n",
       "6. 'CPAMD5'\n",
       "7. 'FWP007'\n",
       "8. 'S863-7'\n",
       "9. 'A2MP'\n",
       "10. 'AAC1'\n",
       "\n",
       "\n"
      ],
      "text/plain": [
       " [1] \"A1B\"      \"ABG\"      \"GAB\"      \"HYST2477\" \"A2MD\"     \"CPAMD5\"  \n",
       " [7] \"FWP007\"   \"S863-7\"   \"A2MP\"     \"AAC1\"    "
      ]
     },
     "metadata": {},
     "output_type": "display_data"
    }
   ],
   "source": [
    "gene_info <- fread(\"/Users/hopekirby/Downloads/Homo_sapiens.gene_info\")\n",
    "strsplit(gene_info$Synonyms[1], \"|\", fixed=TRUE)\n",
    "gene_split <- strsplit(gene_info$Synonyms, \"|\", fixed=TRUE)\n",
    "full_help_list <- unlist(gene_split)\n",
    "full_help_list[1:10]"
   ]
  },
  {
   "cell_type": "code",
   "execution_count": 10,
   "id": "ed884db4-1115-4711-8bec-5bebda757a7d",
   "metadata": {
    "tags": []
   },
   "outputs": [
    {
     "data": {
      "text/html": [
       "<table class=\"dataframe\">\n",
       "<caption>A data.table: 2 × 3</caption>\n",
       "<thead>\n",
       "\t<tr><th scope=col>Symbol</th><th scope=col>Synonyms</th><th scope=col>Syn_list</th></tr>\n",
       "\t<tr><th scope=col>&lt;chr&gt;</th><th scope=col>&lt;chr&gt;</th><th scope=col>&lt;list&gt;</th></tr>\n",
       "</thead>\n",
       "<tbody>\n",
       "\t<tr><td>A1BG</td><td>A1B|ABG|GAB|HYST2477     </td><td>A1B     , ABG     , GAB     , HYST2477</td></tr>\n",
       "\t<tr><td>A2M </td><td>A2MD|CPAMD5|FWP007|S863-7</td><td>A2MD  , CPAMD5, FWP007, S863-7</td></tr>\n",
       "</tbody>\n",
       "</table>\n"
      ],
      "text/latex": [
       "A data.table: 2 × 3\n",
       "\\begin{tabular}{lll}\n",
       " Symbol & Synonyms & Syn\\_list\\\\\n",
       " <chr> & <chr> & <list>\\\\\n",
       "\\hline\n",
       "\t A1BG & A1B\\textbar{}ABG\\textbar{}GAB\\textbar{}HYST2477      & A1B     , ABG     , GAB     , HYST2477\\\\\n",
       "\t A2M  & A2MD\\textbar{}CPAMD5\\textbar{}FWP007\\textbar{}S863-7 & A2MD  , CPAMD5, FWP007, S863-7\\\\\n",
       "\\end{tabular}\n"
      ],
      "text/markdown": [
       "\n",
       "A data.table: 2 × 3\n",
       "\n",
       "| Symbol &lt;chr&gt; | Synonyms &lt;chr&gt; | Syn_list &lt;list&gt; |\n",
       "|---|---|---|\n",
       "| A1BG | A1B|ABG|GAB|HYST2477      | A1B     , ABG     , GAB     , HYST2477 |\n",
       "| A2M  | A2MD|CPAMD5|FWP007|S863-7 | A2MD  , CPAMD5, FWP007, S863-7 |\n",
       "\n"
      ],
      "text/plain": [
       "  Symbol Synonyms                  Syn_list                              \n",
       "1 A1BG   A1B|ABG|GAB|HYST2477      A1B     , ABG     , GAB     , HYST2477\n",
       "2 A2M    A2MD|CPAMD5|FWP007|S863-7 A2MD  , CPAMD5, FWP007, S863-7        "
      ]
     },
     "metadata": {},
     "output_type": "display_data"
    },
    {
     "data": {
      "text/html": [
       "<table class=\"dataframe\">\n",
       "<caption>A data.table: 2 × 4</caption>\n",
       "<thead>\n",
       "\t<tr><th scope=col>Symbol</th><th scope=col>Synonyms</th><th scope=col>Syn_list</th><th scope=col>Symb_list</th></tr>\n",
       "\t<tr><th scope=col>&lt;chr&gt;</th><th scope=col>&lt;chr&gt;</th><th scope=col>&lt;list&gt;</th><th scope=col>&lt;list&gt;</th></tr>\n",
       "</thead>\n",
       "<tbody>\n",
       "\t<tr><td>A1BG</td><td>A1B|ABG|GAB|HYST2477     </td><td>A1B     , ABG     , GAB     , HYST2477</td><td>A1BG, A1BG, A1BG, A1BG</td></tr>\n",
       "\t<tr><td>A2M </td><td>A2MD|CPAMD5|FWP007|S863-7</td><td>A2MD  , CPAMD5, FWP007, S863-7</td><td>A2M, A2M, A2M, A2M</td></tr>\n",
       "</tbody>\n",
       "</table>\n"
      ],
      "text/latex": [
       "A data.table: 2 × 4\n",
       "\\begin{tabular}{llll}\n",
       " Symbol & Synonyms & Syn\\_list & Symb\\_list\\\\\n",
       " <chr> & <chr> & <list> & <list>\\\\\n",
       "\\hline\n",
       "\t A1BG & A1B\\textbar{}ABG\\textbar{}GAB\\textbar{}HYST2477      & A1B     , ABG     , GAB     , HYST2477 & A1BG, A1BG, A1BG, A1BG\\\\\n",
       "\t A2M  & A2MD\\textbar{}CPAMD5\\textbar{}FWP007\\textbar{}S863-7 & A2MD  , CPAMD5, FWP007, S863-7 & A2M, A2M, A2M, A2M\\\\\n",
       "\\end{tabular}\n"
      ],
      "text/markdown": [
       "\n",
       "A data.table: 2 × 4\n",
       "\n",
       "| Symbol &lt;chr&gt; | Synonyms &lt;chr&gt; | Syn_list &lt;list&gt; | Symb_list &lt;list&gt; |\n",
       "|---|---|---|---|\n",
       "| A1BG | A1B|ABG|GAB|HYST2477      | A1B     , ABG     , GAB     , HYST2477 | A1BG, A1BG, A1BG, A1BG |\n",
       "| A2M  | A2MD|CPAMD5|FWP007|S863-7 | A2MD  , CPAMD5, FWP007, S863-7 | A2M, A2M, A2M, A2M |\n",
       "\n"
      ],
      "text/plain": [
       "  Symbol Synonyms                  Syn_list                              \n",
       "1 A1BG   A1B|ABG|GAB|HYST2477      A1B     , ABG     , GAB     , HYST2477\n",
       "2 A2M    A2MD|CPAMD5|FWP007|S863-7 A2MD  , CPAMD5, FWP007, S863-7        \n",
       "  Symb_list             \n",
       "1 A1BG, A1BG, A1BG, A1BG\n",
       "2 A2M, A2M, A2M, A2M    "
      ]
     },
     "metadata": {},
     "output_type": "display_data"
    },
    {
     "data": {
      "text/html": [
       "195943"
      ],
      "text/latex": [
       "195943"
      ],
      "text/markdown": [
       "195943"
      ],
      "text/plain": [
       "[1] 195943"
      ]
     },
     "metadata": {},
     "output_type": "display_data"
    },
    {
     "data": {
      "text/html": [
       "<style>\n",
       ".dl-inline {width: auto; margin:0; padding: 0}\n",
       ".dl-inline>dt, .dl-inline>dd {float: none; width: auto; display: inline-block}\n",
       ".dl-inline>dt::after {content: \":\\0020\"; padding-right: .5ex}\n",
       ".dl-inline>dt:not(:first-of-type) {padding-left: .5ex}\n",
       "</style><dl class=dl-inline><dt>A1B</dt><dd>'A1BG'</dd><dt>ABG</dt><dd>'A1BG'</dd><dt>GAB</dt><dd>'A1BG'</dd></dl>\n"
      ],
      "text/latex": [
       "\\begin{description*}\n",
       "\\item[A1B] 'A1BG'\n",
       "\\item[ABG] 'A1BG'\n",
       "\\item[GAB] 'A1BG'\n",
       "\\end{description*}\n"
      ],
      "text/markdown": [
       "A1B\n",
       ":   'A1BG'ABG\n",
       ":   'A1BG'GAB\n",
       ":   'A1BG'\n",
       "\n"
      ],
      "text/plain": [
       "   A1B    ABG    GAB \n",
       "\"A1BG\" \"A1BG\" \"A1BG\" "
      ]
     },
     "metadata": {},
     "output_type": "display_data"
    }
   ],
   "source": [
    "# make a new dataframe\n",
    "gene_info <- gene_info[,c(\"Symbol\", \"Synonyms\")]\n",
    "\n",
    "# add a slot as a list for each\n",
    "gene_info$Syn_list <- gene_split\n",
    "gene_info[1:2,]\n",
    "func.text <- function(arg1, arg2) {return(rep(arg1, length(arg2)))}\n",
    "gene_info[, c(\"Symb_list\") := mapply(func.text, c(Symbol),  c(Syn_list))]\n",
    "gene_info[1:2,]        \n",
    "\n",
    "# now make a dictionary of synynonym to original\n",
    "syn_dict <- do.call(c, gene_info$Symb_list)\n",
    "names(syn_dict) <- do.call(c, gene_info$Syn_list)\n",
    "length(syn_dict)\n",
    "syn_dict[1:3]"
   ]
  },
  {
   "cell_type": "code",
   "execution_count": 69,
   "id": "8273ebfb-b3e8-4bab-bcad-ffa3ff0e91e8",
   "metadata": {},
   "outputs": [
    {
     "data": {
      "text/html": [
       "18065"
      ],
      "text/latex": [
       "18065"
      ],
      "text/markdown": [
       "18065"
      ],
      "text/plain": [
       "[1] 18065"
      ]
     },
     "metadata": {},
     "output_type": "display_data"
    }
   ],
   "source": [
    "# NOW GET FIXED ONLY IF SYNONYM IN SC RNA\n",
    "fixed_gene_list_sumstats <- c()\n",
    "for (gene in gene_list_sumstats) {\n",
    "    if (gene %in% names(syn_dict) & syn_dict[gene] %in% gene_list_RA) {\n",
    "        gene <- syn_dict[gene]\n",
    "    }\n",
    "    fixed_gene_list_sumstats <- c(fixed_gene_list_sumstats, gene)\n",
    "}\n",
    "length(fixed_gene_list_sumstats)"
   ]
  },
  {
   "cell_type": "code",
   "execution_count": 70,
   "id": "33ecd7cd-f672-4fff-bbaa-44da55ba3284",
   "metadata": {},
   "outputs": [
    {
     "data": {
      "text/html": [
       "819"
      ],
      "text/latex": [
       "819"
      ],
      "text/markdown": [
       "819"
      ],
      "text/plain": [
       "[1] 819"
      ]
     },
     "metadata": {},
     "output_type": "display_data"
    },
    {
     "data": {
      "text/html": [
       "349"
      ],
      "text/latex": [
       "349"
      ],
      "text/markdown": [
       "349"
      ],
      "text/plain": [
       "[1] 349"
      ]
     },
     "metadata": {},
     "output_type": "display_data"
    }
   ],
   "source": [
    "length(insumstats_notsc)\n",
    "inncbi_sumstats_notsc <- setdiff(fixed_gene_list_sumstats, gene_list_RA)\n",
    "length(inncbi_sumstats_notsc)"
   ]
  },
  {
   "cell_type": "markdown",
   "id": "090a2ae9-2bf0-482f-914d-3555ddc5ac3f",
   "metadata": {},
   "source": [
    "### Repeat but for hand identified ones (using gene cards)"
   ]
  },
  {
   "cell_type": "code",
   "execution_count": 71,
   "id": "4798da47-bfb4-41e5-9801-45c371dcfe61",
   "metadata": {
    "tags": []
   },
   "outputs": [],
   "source": [
    "hand_fix = c(\"TNFRSF6B\"=\"RTEL1-TNFRSF6B\", \"CPTP\"=\"GLTPD1\", \"FDX1L\" = \"FDX2\", \"FAM109A\" = \"PHETA1\", \"METTL21B\" = \"EEF1AKMT3\", \"C1orf106\" = \"INAVA\", \n",
    "         \"C21orf33\" = \"GATD3A\", \"C20orf195\" = \"FNDC11\", \"ATP5J2-PTCD1\" = \"ATP5MF-PTCD1\", \"C16orf93\" = \"CCDC189\", \n",
    "         \"ALS2CR11\" = \"C2CD6\", 'TMEM194B' = \"NEMP2\", 'MRE11A' = 'MRE11', 'KIAA1107' = 'BTBD8',  \n",
    "         'ATP5L' = 'ATP5MG', 'GS1-259H13.2' = 'TMEM225B', 'SDCCAG3' = 'ENTR1', 'FAM105A' = 'OTULINL', \n",
    "          'SGK223' = 'PRAG1', 'ANKRD32' = 'SLF1', 'SMEK2' = 'PPP4R3B', 'C9orf156' = 'TRMO', \n",
    "          'FAM195B' = 'MCRIP1', 'BZRAP1' = 'TSPOAP1', 'C9orf156' = 'TRMO', 'FAM195B' = 'MCRIP1', \"BZRAP1\"=\"TSPOAP1\", \n",
    "             \"FAM65B\" = \"RIPOR2\", \"TCEB1\"=\"ELOC\", \"SEP15\"=\"SELENOF\", \"C9orf171\"=\"CFAP77\", \"KIAA2018\"=\"USF3\", \"FAM175B\"=\"ABRAXAS2\", \n",
    "             \"CASTOR3P\"=\"GATS\", \"LYRM5\"=\"ETFRF1\", \"CPSF3L\"=\"INTS11\", \"C1orf27\"=\"ODR4\", \"C1orf168\"=\"FYB2\", \"PCNX\"=\"PCNX1\", \n",
    "            \"KIAA0226\"=\"RUBCN\",  \"TMEM133\"=\"ARHGAP42\", \"C1orf95\"=\"STUM\", \"C10orf54\"=\"VSIR\", \"ICT1\"=\"MRPL58\", \"C6orf165\"=\"CFAP206\", \n",
    "             \"C9orf172\"=\"AJM1\", \"C3orf17\"=\"NEPRO\", \"GRAMD3\"=\"GRAMD2B\", \"TMEM194A\"=\"NEMP1\", \"CCDC108\"=\"CFAP65\", \"FAM35A\"=\"SHLD2\", \"C11orf30\"=\"EMSY\", \n",
    "             \"GYLTL1B\"=\"LARGE2\", \"C10orf107\"=\"CABCOCO1\", \"C14orf80\"=\"TEDC1\", \"SEPW1\"=\"SELENOW\", \"ATP5L2\"=\"ATP5MGL\", \"SLC35E2\"=\"SLC35E2A\", \"C6orf183\"=\"CCDC162P\", \n",
    "             \"C1orf228\"=\"ARMH1\", \"LOC729800\"=\"DMBT1L1\", \"IKBKAP\"=\"ELP1\", \"C2orf61\"=\"STPG4\", \"SRPR\"=\"SRPRA\", \"SMIM11\" = \"SMIM11A\", \"C14orf105\"=\"CCDC198\", \"TMEM57\"=\"MACO1\", \n",
    "     \"GLTSCR2\"=\"NOP53\", \"CCBL2\"=\"KYAT3\", \"ATP5H\"=\"ATP5PD\", \"C19orf43\"=\"TRIR\", \"KIAA1161\"=\"MYORG\", \"FAM63B\"=\"MINDY2\", \"CCDC79\"=\"TERB1\", \"CCDC176\"=\"BBOF1\", \"FAM21A\"=\"WASHC2A\", \n",
    "    \"SHFM1\"=\"SEM1\", \"C7orf49\"=\"CYREN\", \"C17orf85\"=\"NCBP3\", \"GATSL3\"=\"CASTOR1\", \"TCEB2\"=\"ELOB\", \"CCDC109B\"=\"MCUB\", \"C15orf27\"=\"TMEM266\", \"C9orf91\"=\"TMEM268\", \n",
    "             \"KIAA1683\"=\"IQCN\", \"C1orf234\"=\"TEX46\", \n",
    "             \"ATP5J2\" = \"ATP5MF\", \"N6AMT2\"=\"EEF1AKMT1\", \"KIAA0368\"=\"ECPAS\", \"DCDC5\"=\"DCDC1\", \"SELV\"=\"SELENOV\", \n",
    "             \"CCDC101\"=\"SGF29\", \"C1orf111\"=\"SPATA46\", \"C1orf234\"=\"TEX46\", \"DYX1C1\"=\"DNAAF4\", \n",
    "             \"ATHL1\"=\"PGGHG\", \"TEX40\"=\"CATSPERZ\" ,\n",
    "             \"MEGT1\"=\"LY6G6D\", \"SCAND3\"=\"ZBED9\", \"DPCR1\"=\"MUCL3\", \"C6orf100\"=\"LINC01556\", \n",
    "             \"C6orf25\"=\"MPIG6B\", \"SBP1\"=\"VTA1\", \"LRRC16A\"=\"CARMIL1\", \"FAM105B\"=\"OTULIN\", \"C3orf83\"=\"MKRN2OS\", \n",
    "             \"C20orf201\"=\"LKAAEAR1\", \"C20ORF135\"=\"ABHD16B\", \"KIAA1432\"=\"RIC1\", \"ACPL2\"=\"PXYLP1\", \"FAIM3\"=\"FCMR\", \n",
    "             \"C5orf54\"=\"ZBED8\", \"LINC00593\"=\"DRAIC\", \"C6orf1\"=\"SMIM29\", \"XRCC6BP1\"=\"ATP23\", \n",
    "             \"AP000295.9\"=\"IFNAR2\", \n",
    "             \"WIBG\" =\"PYM1\", \"FBXO18\"=\"FBH1\", \"CLLU1\" = \"LINC02397\", \"C19orf80\"=\"ANGPTL8\", \n",
    "            \"C2orf27A\"=\"C2orf27B\", \"CIBAR1\"=\"FAM92A\", \"ATP5MJ\"=\"ATP5MPL\", \"RAMAC\"=\"RAMMET\", \n",
    "    \"PELATON\"=\"SMIM25\", \"GATD3\"=\"GATD3A\", \"C21orf33\"=\"GATD3A\", \"LOC200726\"=\"FAM237A\", \n",
    "            \"AZIN2\"=\"ADC\", \"SDHAF3\"=\"ACN9\", \"LMNTD2\"=\"C11orf35\", \n",
    "             \"DDIAS\"=\"C11orf82\", \"UQCC3\"=\"C11orf83\", \"TMEM263\"=\"C12orf23\", \n",
    "             \"ATG101\"=\"C12orf44\", \"TIGAR\"=\"C12orf5\", \"CFAP54\"=\"C12orf55\", \n",
    "             \"CCDC184\"=\"C12orf68\")\n"
   ]
  },
  {
   "cell_type": "code",
   "execution_count": 72,
   "id": "3c44c28c-6655-4b93-b15e-5a722a53062d",
   "metadata": {
    "tags": []
   },
   "outputs": [
    {
     "data": {
      "text/html": [
       "18065"
      ],
      "text/latex": [
       "18065"
      ],
      "text/markdown": [
       "18065"
      ],
      "text/plain": [
       "[1] 18065"
      ]
     },
     "metadata": {},
     "output_type": "display_data"
    }
   ],
   "source": [
    "# NOW GET FIXED ONLY IF SYNONYM IN SC RNA\n",
    "fixed_gene_list_sumstats2 <- c()\n",
    "for (gene in fixed_gene_list_sumstats) {\n",
    "    if (gene %in% names(hand_fix) & hand_fix[gene] %in% gene_list_RA) {\n",
    "        # if (gene %in% inncbihand_sumstats_notsc) {print(gene)\n",
    "        #                                           print(hand_fix[gene])}\n",
    "        gene <- hand_fix[gene]\n",
    "    }\n",
    "    fixed_gene_list_sumstats2 <- c(fixed_gene_list_sumstats2, gene)\n",
    "}\n",
    "length(fixed_gene_list_sumstats2)"
   ]
  },
  {
   "cell_type": "code",
   "execution_count": 73,
   "id": "1800acd3-c090-4287-9795-1648491d29e8",
   "metadata": {
    "tags": []
   },
   "outputs": [
    {
     "data": {
      "text/html": [
       "819"
      ],
      "text/latex": [
       "819"
      ],
      "text/markdown": [
       "819"
      ],
      "text/plain": [
       "[1] 819"
      ]
     },
     "metadata": {},
     "output_type": "display_data"
    },
    {
     "data": {
      "text/html": [
       "349"
      ],
      "text/latex": [
       "349"
      ],
      "text/markdown": [
       "349"
      ],
      "text/plain": [
       "[1] 349"
      ]
     },
     "metadata": {},
     "output_type": "display_data"
    },
    {
     "data": {
      "text/html": [
       "12"
      ],
      "text/latex": [
       "12"
      ],
      "text/markdown": [
       "12"
      ],
      "text/plain": [
       "[1] 12"
      ]
     },
     "metadata": {},
     "output_type": "display_data"
    }
   ],
   "source": [
    "length(insumstats_notsc)\n",
    "length(inncbi_sumstats_notsc)\n",
    "inncbihand_sumstats_notsc <- setdiff(fixed_gene_list_sumstats2[1:1020], gene_list_RA)\n",
    "length(inncbihand_sumstats_notsc)"
   ]
  },
  {
   "cell_type": "code",
   "execution_count": null,
   "id": "fd32b03c-7fef-4c21-afa5-8c216ca43af1",
   "metadata": {
    "tags": []
   },
   "outputs": [],
   "source": [
    "c(\"FLJ46235\") %in% gene_list_RA"
   ]
  },
  {
   "cell_type": "code",
   "execution_count": 54,
   "id": "debb2c4a-d4d5-4773-80db-d4d89f50b37a",
   "metadata": {
    "tags": []
   },
   "outputs": [],
   "source": [
    "#before <- inncbihand_sumstats_notsc\n",
    "before <- c(before, inncbihand_sumstats_notsc)"
   ]
  },
  {
   "cell_type": "code",
   "execution_count": 74,
   "id": "9fdc551d-7d9f-43d7-a24f-057aeb79abe0",
   "metadata": {
    "tags": []
   },
   "outputs": [
    {
     "data": {
      "text/html": [
       "<style>\n",
       ".list-inline {list-style: none; margin:0; padding: 0}\n",
       ".list-inline>li {display: inline-block}\n",
       ".list-inline>li:not(:last-child)::after {content: \"\\00b7\"; padding: 0 .5ex}\n",
       "</style>\n",
       "<ol class=list-inline><li>'LOC100996337'</li><li>'LOC730183'</li><li>'LOC101928947'</li><li>'LOC101927260'</li><li>'LOC101929578'</li><li>'LOC101060024'</li><li>'LOC390877'</li><li>'LOC101929256'</li><li>'LOC101927160'</li><li>'LOC101928021'</li><li>'LOC441239'</li><li>'LOC728715'</li></ol>\n"
      ],
      "text/latex": [
       "\\begin{enumerate*}\n",
       "\\item 'LOC100996337'\n",
       "\\item 'LOC730183'\n",
       "\\item 'LOC101928947'\n",
       "\\item 'LOC101927260'\n",
       "\\item 'LOC101929578'\n",
       "\\item 'LOC101060024'\n",
       "\\item 'LOC390877'\n",
       "\\item 'LOC101929256'\n",
       "\\item 'LOC101927160'\n",
       "\\item 'LOC101928021'\n",
       "\\item 'LOC441239'\n",
       "\\item 'LOC728715'\n",
       "\\end{enumerate*}\n"
      ],
      "text/markdown": [
       "1. 'LOC100996337'\n",
       "2. 'LOC730183'\n",
       "3. 'LOC101928947'\n",
       "4. 'LOC101927260'\n",
       "5. 'LOC101929578'\n",
       "6. 'LOC101060024'\n",
       "7. 'LOC390877'\n",
       "8. 'LOC101929256'\n",
       "9. 'LOC101927160'\n",
       "10. 'LOC101928021'\n",
       "11. 'LOC441239'\n",
       "12. 'LOC728715'\n",
       "\n",
       "\n"
      ],
      "text/plain": [
       " [1] \"LOC100996337\" \"LOC730183\"    \"LOC101928947\" \"LOC101927260\" \"LOC101929578\"\n",
       " [6] \"LOC101060024\" \"LOC390877\"    \"LOC101929256\" \"LOC101927160\" \"LOC101928021\"\n",
       "[11] \"LOC441239\"    \"LOC728715\"   "
      ]
     },
     "metadata": {},
     "output_type": "display_data"
    },
    {
     "data": {
      "text/html": [
       "'LOC728715'"
      ],
      "text/latex": [
       "'LOC728715'"
      ],
      "text/markdown": [
       "'LOC728715'"
      ],
      "text/plain": [
       "[1] \"LOC728715\""
      ]
     },
     "metadata": {},
     "output_type": "display_data"
    }
   ],
   "source": [
    "inncbihand_sumstats_notsc\n",
    "setdiff(inncbihand_sumstats_notsc, before)"
   ]
  },
  {
   "cell_type": "code",
   "execution_count": null,
   "id": "4fc854df-7ec4-4d82-a2e8-39fc712039c7",
   "metadata": {},
   "outputs": [],
   "source": []
  },
  {
   "cell_type": "markdown",
   "id": "558726b4-fa4b-4830-adcf-4dd3f58c366f",
   "metadata": {},
   "source": [
    "### See how much lack of genes can be explained by non-protein genes"
   ]
  },
  {
   "cell_type": "code",
   "execution_count": null,
   "id": "fa12a2ed-20a9-46c1-897a-f485164be0e0",
   "metadata": {
    "tags": []
   },
   "outputs": [],
   "source": [
    "# length(inhandfixedM10_notours)\n",
    "# length(grep(\"-AS\",inhandfixedM10_notours))\n",
    "# length(grep(\"[0-9].[0-9]\",inhandfixedM10_notours))\n",
    "\n",
    "# # remove antisense\n",
    "# still_not <- setdiff(inhandfixedM10_notours, \n",
    "#                      inhandfixedM10_notours[grep(\"-AS\",inhandfixedM10_notours)])\n",
    "# # remove X.X\n",
    "# still_not <- setdiff(still_not, \n",
    "#                      inhandfixedM10_notours[grep(\"[0-9].[0-9]\",inhandfixedM10_notours)])\n",
    "# length(still_not)\n",
    "#still_not\n",
    "\n",
    "length(inhandfixedM53_notours)\n",
    "length(grep(\"-AS\",inhandfixedM53_notours))\n",
    "length(grep(\"[0-9].[0-9]\",inhandfixedM53_notours))\n",
    "\n",
    "# remove antisense\n",
    "\n",
    "still_not <- setdiff(inhandfixedM53_notours, \n",
    "                     inhandfixedM53_notours[grep(\"-AS\",inhandfixedM53_notours)])\n",
    "# remove X.X\n",
    "still_not <- setdiff(still_not, \n",
    "                     inhandfixedM53_notours[grep(\"[0-9].[0-9]\",inhandfixedM53_notours)])\n",
    "length(still_not)\n",
    "#still_not\n"
   ]
  },
  {
   "cell_type": "code",
   "execution_count": null,
   "id": "4c834745-f855-41a8-802e-59501db9e31b",
   "metadata": {
    "tags": []
   },
   "outputs": [],
   "source": [
    "# see which genes are in hg37 but not hg38\n",
    "#intersect(still_not, setdiff(hg37_list, hg38_list))\n",
    "#length(setdiff(gene_list, hg37_list))\n",
    "length(intersect(genes_out_53$SYMBOL, setdiff(gene_list, hg37_list)))\n",
    "print(\"Which genes are in hg37 but not found in gene list, intersected with those found in genelist but not hg37\")\n",
    "length(intersect(still_not, setdiff(gene_list, hg37_list)))\n",
    "length(setdiff(genes_out_53$SYMBOL, hg37_list))\n",
    "length(setdiff(genes_out_53$SYMBOL, hg38_list))"
   ]
  },
  {
   "cell_type": "code",
   "execution_count": null,
   "id": "37ad6779-fbd6-491f-ab71-9b8f00f14214",
   "metadata": {},
   "outputs": [],
   "source": [
    "# A 0 indicates that the genes found in MAGMA but not the gene list "
   ]
  },
  {
   "cell_type": "code",
   "execution_count": null,
   "id": "78ae51e0-5120-4300-bfc8-36bf6509be0f",
   "metadata": {
    "tags": []
   },
   "outputs": [],
   "source": [
    "genes_out_53[1:2,]"
   ]
  },
  {
   "cell_type": "code",
   "execution_count": null,
   "id": "6af2e9d0-235a-4b99-9289-4b4e206aea5b",
   "metadata": {
    "tags": []
   },
   "outputs": [],
   "source": [
    "top_not <- setdiff(genes_out_53$SYMBOL[1:1000], gene_list)\n",
    "length(top_not)"
   ]
  },
  {
   "cell_type": "code",
   "execution_count": null,
   "id": "a2080c80-e4f0-4c26-9a7f-d36be870b303",
   "metadata": {
    "tags": []
   },
   "outputs": [],
   "source": [
    "length(gene_list)"
   ]
  },
  {
   "cell_type": "code",
   "execution_count": null,
   "id": "8fa248ca-9a7d-4f90-afa0-40ac55e4778b",
   "metadata": {
    "tags": []
   },
   "outputs": [],
   "source": [
    "length(setdiff(gene_list, hg37_list))\n",
    "length(setdiff(gene_list, hg38_list))\n",
    "length(intersect(setdiff(gene_list, hg37_list), \n",
    "                 setdiff(gene_list, hg38_list)))\n",
    "in_gene_list_not_magma <- intersect(setdiff(gene_list, hg37_list), \n",
    "                 setdiff(gene_list, hg38_list))"
   ]
  },
  {
   "cell_type": "code",
   "execution_count": null,
   "id": "8dd00f38-962c-4094-b95e-04386a595287",
   "metadata": {
    "tags": []
   },
   "outputs": [],
   "source": [
    "# see how much \n",
    "length(in_gene_list_not_magma)\n",
    "length(grep(\"-AS\",in_gene_list_not_magma))\n",
    "length(grep(\"[0-9].[0-9]\",in_gene_list_not_magma))\n",
    "length(grep(\"-IT1\",in_gene_list_not_magma))\n",
    "\n",
    "# remove antisense\n",
    "\n",
    "still_not <- setdiff(in_gene_list_not_magma, \n",
    "                     in_gene_list_not_magma[grep(\"-AS\",in_gene_list_not_magma)])\n",
    "# remove X.X\n",
    "still_not <- setdiff(still_not, \n",
    "                     in_gene_list_not_magma[grep(\"[0-9].[0-9]\",in_gene_list_not_magma)])\n",
    "still_not <- setdiff(still_not, \n",
    "                     in_gene_list_not_magma[grep(\"-IT1\",in_gene_list_not_magma)])\n",
    "length(still_not)\n",
    "still_not[301:400]\n"
   ]
  },
  {
   "cell_type": "code",
   "execution_count": null,
   "id": "30f3f17e-fbc7-4d9f-abcc-0ed82a9ee83f",
   "metadata": {
    "tags": []
   },
   "outputs": [],
   "source": [
    "test <- c(\"TCRGC2\", \"TARP\", \"TCRG\")\n",
    "test %in% genes_out_53$SYMBOL\n",
    "test %in% gene_list\n",
    "test %in% hg37_list\n",
    "# test %in% hg38_list"
   ]
  },
  {
   "cell_type": "markdown",
   "id": "7a31ac09-1b6a-46ed-97d8-6df6ce57b6ac",
   "metadata": {},
   "source": [
    "## Remove duplicates by keeping one with lowest p-value"
   ]
  },
  {
   "cell_type": "code",
   "execution_count": 75,
   "id": "5aa9d891-5c33-4566-ba81-fed5d4c80abc",
   "metadata": {
    "tags": []
   },
   "outputs": [],
   "source": [
    "genes_out$fixed <- fixed_gene_list_sumstats2"
   ]
  },
  {
   "cell_type": "code",
   "execution_count": 76,
   "id": "729c74d6-22bd-4aa8-8e58-3d896f10e7f8",
   "metadata": {
    "tags": []
   },
   "outputs": [
    {
     "data": {
      "text/html": [
       "<table class=\"dataframe\">\n",
       "<caption>A data.table: 10 × 11</caption>\n",
       "<thead>\n",
       "\t<tr><th scope=col>GENE</th><th scope=col>CHR</th><th scope=col>START</th><th scope=col>STOP</th><th scope=col>NSNPS</th><th scope=col>NPARAM</th><th scope=col>N</th><th scope=col>ZSTAT</th><th scope=col>P</th><th scope=col>SYMBOL</th><th scope=col>fixed</th></tr>\n",
       "\t<tr><th scope=col>&lt;int&gt;</th><th scope=col>&lt;int&gt;</th><th scope=col>&lt;int&gt;</th><th scope=col>&lt;int&gt;</th><th scope=col>&lt;int&gt;</th><th scope=col>&lt;int&gt;</th><th scope=col>&lt;int&gt;</th><th scope=col>&lt;dbl&gt;</th><th scope=col>&lt;dbl&gt;</th><th scope=col>&lt;chr&gt;</th><th scope=col>&lt;chr&gt;</th></tr>\n",
       "</thead>\n",
       "<tbody>\n",
       "\t<tr><td>     2214</td><td> 1</td><td>161501549</td><td>161530413</td><td>104</td><td>27</td><td>97173</td><td>5.5192</td><td>1.7032e-08</td><td>FCGR3A         </td><td>FCGR3B         </td></tr>\n",
       "\t<tr><td>     9103</td><td> 1</td><td>161541129</td><td>161581010</td><td>160</td><td>28</td><td>97173</td><td>4.0993</td><td>2.0720e-05</td><td>FCGR2C         </td><td>FCGR2B         </td></tr>\n",
       "\t<tr><td>     8663</td><td>16</td><td> 28689879</td><td> 28757051</td><td> 39</td><td>11</td><td>97173</td><td>3.9413</td><td>4.0515e-05</td><td>EIF3C          </td><td>EIF3C          </td></tr>\n",
       "\t<tr><td>   728689</td><td>16</td><td> 28380900</td><td> 28425162</td><td> 24</td><td> 4</td><td>97173</td><td>3.3034</td><td>4.7767e-04</td><td>EIF3CL         </td><td>EIF3C          </td></tr>\n",
       "\t<tr><td>   284697</td><td> 1</td><td> 92535862</td><td> 92623397</td><td>254</td><td>23</td><td>97173</td><td>3.1598</td><td>7.8940e-04</td><td>BTBD8          </td><td>BTBD8          </td></tr>\n",
       "\t<tr><td>     2213</td><td> 1</td><td>161622905</td><td>161658444</td><td>124</td><td>30</td><td>97173</td><td>3.1319</td><td>8.6831e-04</td><td>FCGR2B         </td><td>FCGR2B         </td></tr>\n",
       "\t<tr><td>100861540</td><td> 7</td><td> 99272302</td><td> 99342819</td><td>184</td><td>19</td><td>97173</td><td>3.0393</td><td>1.1857e-03</td><td>CYP3A7-CYP3A51P</td><td>CYP3A7-CYP3A51P</td></tr>\n",
       "\t<tr><td>     1551</td><td> 7</td><td> 99292660</td><td> 99342853</td><td>137</td><td>13</td><td>97173</td><td>3.0207</td><td>1.2610e-03</td><td>CYP3A7         </td><td>CYP3A7-CYP3A51P</td></tr>\n",
       "\t<tr><td>     2215</td><td> 1</td><td>161582986</td><td>161611753</td><td>259</td><td>18</td><td>97173</td><td>2.9532</td><td>1.5726e-03</td><td>FCGR3B         </td><td>FCGR3B         </td></tr>\n",
       "\t<tr><td>    23285</td><td> 1</td><td> 92622609</td><td> 92660280</td><td> 83</td><td>17</td><td>97173</td><td>2.8425</td><td>2.2378e-03</td><td>KIAA1107       </td><td>BTBD8          </td></tr>\n",
       "</tbody>\n",
       "</table>\n"
      ],
      "text/latex": [
       "A data.table: 10 × 11\n",
       "\\begin{tabular}{lllllllllll}\n",
       " GENE & CHR & START & STOP & NSNPS & NPARAM & N & ZSTAT & P & SYMBOL & fixed\\\\\n",
       " <int> & <int> & <int> & <int> & <int> & <int> & <int> & <dbl> & <dbl> & <chr> & <chr>\\\\\n",
       "\\hline\n",
       "\t      2214 &  1 & 161501549 & 161530413 & 104 & 27 & 97173 & 5.5192 & 1.7032e-08 & FCGR3A          & FCGR3B         \\\\\n",
       "\t      9103 &  1 & 161541129 & 161581010 & 160 & 28 & 97173 & 4.0993 & 2.0720e-05 & FCGR2C          & FCGR2B         \\\\\n",
       "\t      8663 & 16 &  28689879 &  28757051 &  39 & 11 & 97173 & 3.9413 & 4.0515e-05 & EIF3C           & EIF3C          \\\\\n",
       "\t    728689 & 16 &  28380900 &  28425162 &  24 &  4 & 97173 & 3.3034 & 4.7767e-04 & EIF3CL          & EIF3C          \\\\\n",
       "\t    284697 &  1 &  92535862 &  92623397 & 254 & 23 & 97173 & 3.1598 & 7.8940e-04 & BTBD8           & BTBD8          \\\\\n",
       "\t      2213 &  1 & 161622905 & 161658444 & 124 & 30 & 97173 & 3.1319 & 8.6831e-04 & FCGR2B          & FCGR2B         \\\\\n",
       "\t 100861540 &  7 &  99272302 &  99342819 & 184 & 19 & 97173 & 3.0393 & 1.1857e-03 & CYP3A7-CYP3A51P & CYP3A7-CYP3A51P\\\\\n",
       "\t      1551 &  7 &  99292660 &  99342853 & 137 & 13 & 97173 & 3.0207 & 1.2610e-03 & CYP3A7          & CYP3A7-CYP3A51P\\\\\n",
       "\t      2215 &  1 & 161582986 & 161611753 & 259 & 18 & 97173 & 2.9532 & 1.5726e-03 & FCGR3B          & FCGR3B         \\\\\n",
       "\t     23285 &  1 &  92622609 &  92660280 &  83 & 17 & 97173 & 2.8425 & 2.2378e-03 & KIAA1107        & BTBD8          \\\\\n",
       "\\end{tabular}\n"
      ],
      "text/markdown": [
       "\n",
       "A data.table: 10 × 11\n",
       "\n",
       "| GENE &lt;int&gt; | CHR &lt;int&gt; | START &lt;int&gt; | STOP &lt;int&gt; | NSNPS &lt;int&gt; | NPARAM &lt;int&gt; | N &lt;int&gt; | ZSTAT &lt;dbl&gt; | P &lt;dbl&gt; | SYMBOL &lt;chr&gt; | fixed &lt;chr&gt; |\n",
       "|---|---|---|---|---|---|---|---|---|---|---|\n",
       "|      2214 |  1 | 161501549 | 161530413 | 104 | 27 | 97173 | 5.5192 | 1.7032e-08 | FCGR3A          | FCGR3B          |\n",
       "|      9103 |  1 | 161541129 | 161581010 | 160 | 28 | 97173 | 4.0993 | 2.0720e-05 | FCGR2C          | FCGR2B          |\n",
       "|      8663 | 16 |  28689879 |  28757051 |  39 | 11 | 97173 | 3.9413 | 4.0515e-05 | EIF3C           | EIF3C           |\n",
       "|    728689 | 16 |  28380900 |  28425162 |  24 |  4 | 97173 | 3.3034 | 4.7767e-04 | EIF3CL          | EIF3C           |\n",
       "|    284697 |  1 |  92535862 |  92623397 | 254 | 23 | 97173 | 3.1598 | 7.8940e-04 | BTBD8           | BTBD8           |\n",
       "|      2213 |  1 | 161622905 | 161658444 | 124 | 30 | 97173 | 3.1319 | 8.6831e-04 | FCGR2B          | FCGR2B          |\n",
       "| 100861540 |  7 |  99272302 |  99342819 | 184 | 19 | 97173 | 3.0393 | 1.1857e-03 | CYP3A7-CYP3A51P | CYP3A7-CYP3A51P |\n",
       "|      1551 |  7 |  99292660 |  99342853 | 137 | 13 | 97173 | 3.0207 | 1.2610e-03 | CYP3A7          | CYP3A7-CYP3A51P |\n",
       "|      2215 |  1 | 161582986 | 161611753 | 259 | 18 | 97173 | 2.9532 | 1.5726e-03 | FCGR3B          | FCGR3B          |\n",
       "|     23285 |  1 |  92622609 |  92660280 |  83 | 17 | 97173 | 2.8425 | 2.2378e-03 | KIAA1107        | BTBD8           |\n",
       "\n"
      ],
      "text/plain": [
       "   GENE      CHR START     STOP      NSNPS NPARAM N     ZSTAT  P         \n",
       "1       2214  1  161501549 161530413 104   27     97173 5.5192 1.7032e-08\n",
       "2       9103  1  161541129 161581010 160   28     97173 4.0993 2.0720e-05\n",
       "3       8663 16   28689879  28757051  39   11     97173 3.9413 4.0515e-05\n",
       "4     728689 16   28380900  28425162  24    4     97173 3.3034 4.7767e-04\n",
       "5     284697  1   92535862  92623397 254   23     97173 3.1598 7.8940e-04\n",
       "6       2213  1  161622905 161658444 124   30     97173 3.1319 8.6831e-04\n",
       "7  100861540  7   99272302  99342819 184   19     97173 3.0393 1.1857e-03\n",
       "8       1551  7   99292660  99342853 137   13     97173 3.0207 1.2610e-03\n",
       "9       2215  1  161582986 161611753 259   18     97173 2.9532 1.5726e-03\n",
       "10     23285  1   92622609  92660280  83   17     97173 2.8425 2.2378e-03\n",
       "   SYMBOL          fixed          \n",
       "1  FCGR3A          FCGR3B         \n",
       "2  FCGR2C          FCGR2B         \n",
       "3  EIF3C           EIF3C          \n",
       "4  EIF3CL          EIF3C          \n",
       "5  BTBD8           BTBD8          \n",
       "6  FCGR2B          FCGR2B         \n",
       "7  CYP3A7-CYP3A51P CYP3A7-CYP3A51P\n",
       "8  CYP3A7          CYP3A7-CYP3A51P\n",
       "9  FCGR3B          FCGR3B         \n",
       "10 KIAA1107        BTBD8          "
      ]
     },
     "metadata": {},
     "output_type": "display_data"
    }
   ],
   "source": [
    "genes_out[genes_out$fixed %in% genes_out$fixed[duplicated(genes_out$fixed)][1:5],]\n"
   ]
  },
  {
   "cell_type": "code",
   "execution_count": 77,
   "id": "dee593b2-6a6c-42c2-a77c-2870e3d06224",
   "metadata": {
    "tags": []
   },
   "outputs": [
    {
     "data": {
      "text/html": [
       "690"
      ],
      "text/latex": [
       "690"
      ],
      "text/markdown": [
       "690"
      ],
      "text/plain": [
       "[1] 690"
      ]
     },
     "metadata": {},
     "output_type": "display_data"
    },
    {
     "data": {
      "text/html": [
       "<style>\n",
       ".list-inline {list-style: none; margin:0; padding: 0}\n",
       ".list-inline>li {display: inline-block}\n",
       ".list-inline>li:not(:last-child)::after {content: \"\\00b7\"; padding: 0 .5ex}\n",
       "</style>\n",
       "<ol class=list-inline><li>18065</li><li>11</li></ol>\n"
      ],
      "text/latex": [
       "\\begin{enumerate*}\n",
       "\\item 18065\n",
       "\\item 11\n",
       "\\end{enumerate*}\n"
      ],
      "text/markdown": [
       "1. 18065\n",
       "2. 11\n",
       "\n",
       "\n"
      ],
      "text/plain": [
       "[1] 18065    11"
      ]
     },
     "metadata": {},
     "output_type": "display_data"
    }
   ],
   "source": [
    "length(genes_out$fixed[duplicated(genes_out$fixed)])\n",
    "dim(genes_out)"
   ]
  },
  {
   "cell_type": "code",
   "execution_count": 78,
   "id": "76765676-7741-4962-a967-1163dc5a09c4",
   "metadata": {
    "tags": []
   },
   "outputs": [
    {
     "data": {
      "text/html": [
       "690"
      ],
      "text/latex": [
       "690"
      ],
      "text/markdown": [
       "690"
      ],
      "text/plain": [
       "[1] 690"
      ]
     },
     "metadata": {},
     "output_type": "display_data"
    },
    {
     "data": {
      "text/html": [
       "<style>\n",
       ".list-inline {list-style: none; margin:0; padding: 0}\n",
       ".list-inline>li {display: inline-block}\n",
       ".list-inline>li:not(:last-child)::after {content: \"\\00b7\"; padding: 0 .5ex}\n",
       "</style>\n",
       "<ol class=list-inline><li>18065</li><li>12</li></ol>\n"
      ],
      "text/latex": [
       "\\begin{enumerate*}\n",
       "\\item 18065\n",
       "\\item 12\n",
       "\\end{enumerate*}\n"
      ],
      "text/markdown": [
       "1. 18065\n",
       "2. 12\n",
       "\n",
       "\n"
      ],
      "text/plain": [
       "[1] 18065    12"
      ]
     },
     "metadata": {},
     "output_type": "display_data"
    },
    {
     "name": "stdout",
     "output_type": "stream",
     "text": [
      "[1] 690\n",
      "[1] 16706    12\n"
     ]
    },
    {
     "data": {
      "text/html": [
       "<style>\n",
       ".list-inline {list-style: none; margin:0; padding: 0}\n",
       ".list-inline>li {display: inline-block}\n",
       ".list-inline>li:not(:last-child)::after {content: \"\\00b7\"; padding: 0 .5ex}\n",
       "</style>\n",
       "<ol class=list-inline><li>17375</li><li>12</li></ol>\n"
      ],
      "text/latex": [
       "\\begin{enumerate*}\n",
       "\\item 17375\n",
       "\\item 12\n",
       "\\end{enumerate*}\n"
      ],
      "text/markdown": [
       "1. 17375\n",
       "2. 12\n",
       "\n",
       "\n"
      ],
      "text/plain": [
       "[1] 17375    12"
      ]
     },
     "metadata": {},
     "output_type": "display_data"
    }
   ],
   "source": [
    "# for any duplications, just keep the one with the lowest p-value\n",
    "remove_duplicate_genes <- function(df) {\n",
    "    repeats <- df$fixed[duplicated(df$fixed)]\n",
    "    print(length(repeats))\n",
    "non_dup <- df[!(df$fixed %in% repeats),]\n",
    "    print(dim(non_dup))\n",
    "seq_keep <- c()\n",
    "for (geneid in repeats) {\n",
    "    filtered <- df[df$fixed == geneid,]\n",
    "    filtered <- filtered[order(-filtered$P),]\n",
    "    seq_keep <- c(seq_keep, filtered[1,c(\"unique_id\")])\n",
    "    }\n",
    "fixeddf <- df[df$unique_id %in% seq_keep,]\n",
    "    fixeddf <- rbind(non_dup, fixeddf)\n",
    "    if (length(fixeddf$fixed[duplicated(fixeddf$fixed)]) > 0) {print(\"WARNING\")}\n",
    "    fixeddf\n",
    "    }\n",
    "\n",
    "length(genes_out$fixed[duplicated(genes_out$fixed)])\n",
    "# unique id\n",
    "genes_out$unique_id <- seq(1,nrow(genes_out))\n",
    "\n",
    "dim(genes_out)\n",
    "genes_out_nondup <- remove_duplicate_genes(genes_out)\n",
    "dim(genes_out_nondup)"
   ]
  },
  {
   "cell_type": "code",
   "execution_count": 79,
   "id": "f8116ca6-d68a-43c5-b778-6e695520ce5a",
   "metadata": {
    "tags": []
   },
   "outputs": [
    {
     "data": {
      "text/html": [
       "0"
      ],
      "text/latex": [
       "0"
      ],
      "text/markdown": [
       "0"
      ],
      "text/plain": [
       "[1] 0"
      ]
     },
     "metadata": {},
     "output_type": "display_data"
    }
   ],
   "source": [
    "length(genes_out_nondup$fixed[duplicated(genes_out_nondup$fixed)])"
   ]
  },
  {
   "cell_type": "markdown",
   "id": "93ef4ccb-8e38-48c6-b373-cc9d0bc0d846",
   "metadata": {},
   "source": [
    "## Save Files"
   ]
  },
  {
   "cell_type": "code",
   "execution_count": 80,
   "id": "7d6145b5-b7ae-4a60-93e7-b13e652a048f",
   "metadata": {
    "tags": []
   },
   "outputs": [],
   "source": [
    "# Now make a file of the Gene, and P values of the traits\n",
    "gene_pval <- genes_out_nondup[,c(\"fixed\", \"P\")]\n",
    "colnames(gene_pval) <- c(\"GENE\", \"RA\")\n",
    "\n",
    "gene_full <- genes_out_nondup[,c(\"fixed\", \"CHR\", \"START\", \n",
    "                          \"STOP\", \"NSNPS\", \"NPARAM\", \n",
    "                          \"N\", \"ZSTAT\", \"P\")]\n",
    "colnames(gene_full) <- c(\"GENE\", \"CHR\", \"START\", \n",
    "                          \"STOP\", \"NSNPS\", \"NPARAM\", \n",
    "                          \"N\", \"ZSTAT\", \"P\")"
   ]
  },
  {
   "cell_type": "code",
   "execution_count": 81,
   "id": "8a027a89-256e-4505-b012-ad428060a036",
   "metadata": {
    "tags": []
   },
   "outputs": [
    {
     "data": {
      "text/html": [
       "<style>\n",
       ".list-inline {list-style: none; margin:0; padding: 0}\n",
       ".list-inline>li {display: inline-block}\n",
       ".list-inline>li:not(:last-child)::after {content: \"\\00b7\"; padding: 0 .5ex}\n",
       "</style>\n",
       "<ol class=list-inline><li>17375</li><li>2</li></ol>\n"
      ],
      "text/latex": [
       "\\begin{enumerate*}\n",
       "\\item 17375\n",
       "\\item 2\n",
       "\\end{enumerate*}\n"
      ],
      "text/markdown": [
       "1. 17375\n",
       "2. 2\n",
       "\n",
       "\n"
      ],
      "text/plain": [
       "[1] 17375     2"
      ]
     },
     "metadata": {},
     "output_type": "display_data"
    },
    {
     "data": {
      "text/html": [
       "<style>\n",
       ".list-inline {list-style: none; margin:0; padding: 0}\n",
       ".list-inline>li {display: inline-block}\n",
       ".list-inline>li:not(:last-child)::after {content: \"\\00b7\"; padding: 0 .5ex}\n",
       "</style>\n",
       "<ol class=list-inline><li>17032</li><li>2</li></ol>\n"
      ],
      "text/latex": [
       "\\begin{enumerate*}\n",
       "\\item 17032\n",
       "\\item 2\n",
       "\\end{enumerate*}\n"
      ],
      "text/markdown": [
       "1. 17032\n",
       "2. 2\n",
       "\n",
       "\n"
      ],
      "text/plain": [
       "[1] 17032     2"
      ]
     },
     "metadata": {},
     "output_type": "display_data"
    }
   ],
   "source": [
    "# remove any ones not in the dataset\n",
    "final_gene_pval <- gene_pval[gene_pval$GENE %in% gene_list_RA,]\n",
    "dim(gene_pval)\n",
    "dim(final_gene_pval)"
   ]
  },
  {
   "cell_type": "code",
   "execution_count": 82,
   "id": "fb52d5d7-d77f-40bc-8869-2b6e27703a1b",
   "metadata": {
    "tags": []
   },
   "outputs": [],
   "source": [
    "# save files\n",
    "# save the files as RA_ENSEMBL_Pval_04-18-23.tsv & RA_ENSEMBL_04-18-23_Z.tsv\n",
    "dir <- \"/Users/hopekirby/Desktop/SCRNA-GWAS-Benchmarking/output/MAGMA/RA/\"\n",
    "write.table(gene_full, \n",
    "            paste0(dir, \"RA_10kb_full_nodups_07-09-23.tsv\"), sep='\\t', quote=FALSE, row.names=FALSE)\n",
    "write.table(gene_pval, \n",
    "            paste0(dir, \"RA_10kb_Pval_full_nodups_07-09-23.tsv\"), sep='\\t', quote=FALSE, row.names=FALSE)\n",
    "\n",
    "write.table(final_gene_pval, \n",
    "            paste0(dir, \"RA_10kb_Pval_onlyinrna_nodups_07-09-23.tsv\"), sep='\\t', quote=FALSE, row.names=FALSE)\n",
    "\n"
   ]
  }
 ],
 "metadata": {
  "kernelspec": {
   "display_name": "R",
   "language": "R",
   "name": "ir"
  },
  "language_info": {
   "codemirror_mode": "r",
   "file_extension": ".r",
   "mimetype": "text/x-r-source",
   "name": "R",
   "pygments_lexer": "r",
   "version": "4.3.0"
  }
 },
 "nbformat": 4,
 "nbformat_minor": 5
}
