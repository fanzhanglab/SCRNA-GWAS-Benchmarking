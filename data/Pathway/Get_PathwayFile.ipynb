{
 "cells": [
  {
   "cell_type": "markdown",
   "id": "ea653382-d1f4-4dfd-95ee-86ec9d9ee6c7",
   "metadata": {},
   "source": [
    "## Get a pathway file based on V14 but using the same filtering as scGWAS original authors\n",
    "\n",
    "The filtering described by the original authors is below with our annotations of how we changed anything, if at all:\n",
    "* \"We collected the gene–gene relationship data from PathwayCommons (v12, data access date: 12/12/2019) to construct the background network. The data downloaded originally had 1,851,006 interaction pairs that were curated and integrated from the public pathway and interaction databases.\"\n",
    "    * We downloaded this data from v14 (data access data: 09/04/2024) and it originally had 2,484,222 interaction pairs.\n",
    "* \"We excluded those interactions that were annotated as in-complex-with, because those genes tended to be co-expressed and might inflate the results.\"\n",
    "    * We followed the same methodology but also ended up removing any interactions based on non-gene interactions as well.\n",
    "* \"We further excluded 2291 ribosomal genes and housekeeping genes defined by the HSIAO_HOUSEKEEPING_GENES set from MSigDB.\"\n",
    "    * We removed the housekeeping genes using the same file they used (from their github)\n",
    "    * Although unable to get the same ribosomal genes they used, we curated a list of 639 ribosomal genes according to HGNC and hand annotation. We also removed 64 Polymerase genes, totaling to removing 1,112 genes.\n",
    "    * We also removed the following genes from the final list given they can sometimes be considered housekeeping genes: HSPA1B (Heat shock protein 70 family member 1B), PSMD3 (Proteasome 26S subunit, non-ATPase 3), ACTRT2 (Actin-related protein T2), TST (Thiosulfate sulfurtransferase), HSPA1L (Heat shock protein family A member 1 like), PABPN1L (Poly(A) binding protein nuclear 1 like)\n",
    "\n",
    "* \"In addition, for each gene–gene pair, we examined their genomic locations and excluded those pairs that were located within 50 kb of each other... Furthermore, we excluded all pairs whose interacting genes are located in the MHC region (chr6:26000000_34000000, hg19) due to the complex LD in this region.\"\"\n",
    "    * We did the same except that we used the hg38 MHC region\n",
    "\n",
    "We ended 1,124,417 interaction pairs compared to their 805,375. This led to 560 genes being added that were not considered previously, none that clearly show housekeeping or ribosomal annotations."
   ]
  },
  {
   "cell_type": "code",
   "execution_count": 1,
   "id": "75376dd2-2dfd-46e9-a43e-b87b1ca978a1",
   "metadata": {},
   "outputs": [],
   "source": [
    "library(data.table)"
   ]
  },
  {
   "cell_type": "code",
   "execution_count": 2,
   "id": "7cb23883-6700-4ec7-a1cd-d25221bf5263",
   "metadata": {},
   "outputs": [
    {
     "data": {
      "text/html": [
       "<table class=\"dataframe\">\n",
       "<caption>A data.table: 2 × 7</caption>\n",
       "<thead>\n",
       "\t<tr><th scope=col>PARTICIPANT_A</th><th scope=col>INTERACTION_TYPE</th><th scope=col>PARTICIPANT_B</th><th scope=col>INTERACTION_DATA_SOURCE</th><th scope=col>INTERACTION_PUBMED_ID</th><th scope=col>PATHWAY_NAMES</th><th scope=col>MEDIATOR_IDS</th></tr>\n",
       "\t<tr><th scope=col>&lt;chr&gt;</th><th scope=col>&lt;chr&gt;</th><th scope=col>&lt;chr&gt;</th><th scope=col>&lt;chr&gt;</th><th scope=col>&lt;chr&gt;</th><th scope=col>&lt;chr&gt;</th><th scope=col>&lt;chr&gt;</th></tr>\n",
       "</thead>\n",
       "<tbody>\n",
       "\t<tr><td>A1BG</td><td>controls-expression-of</td><td>A2M  </td><td>pid    </td><td>12456685;7678052;9794795</td><td>IL6-mediated signaling events</td><td>pid:pid_74043;pid:pid_74038                                                      </td></tr>\n",
       "\t<tr><td>A1BG</td><td>interacts-with        </td><td>ABCC6</td><td>BioGRID</td><td>21988832                </td><td>                             </td><td>biogrid:MolecularInteraction_bebab183-9762-4322-b91f-e9a69a0c9e97___null__162374_</td></tr>\n",
       "</tbody>\n",
       "</table>\n"
      ],
      "text/latex": [
       "A data.table: 2 × 7\n",
       "\\begin{tabular}{lllllll}\n",
       " PARTICIPANT\\_A & INTERACTION\\_TYPE & PARTICIPANT\\_B & INTERACTION\\_DATA\\_SOURCE & INTERACTION\\_PUBMED\\_ID & PATHWAY\\_NAMES & MEDIATOR\\_IDS\\\\\n",
       " <chr> & <chr> & <chr> & <chr> & <chr> & <chr> & <chr>\\\\\n",
       "\\hline\n",
       "\t A1BG & controls-expression-of & A2M   & pid     & 12456685;7678052;9794795 & IL6-mediated signaling events & pid:pid\\_74043;pid:pid\\_74038                                                      \\\\\n",
       "\t A1BG & interacts-with         & ABCC6 & BioGRID & 21988832                 &                               & biogrid:MolecularInteraction\\_bebab183-9762-4322-b91f-e9a69a0c9e97\\_\\_\\_null\\_\\_162374\\_\\\\\n",
       "\\end{tabular}\n"
      ],
      "text/markdown": [
       "\n",
       "A data.table: 2 × 7\n",
       "\n",
       "| PARTICIPANT_A &lt;chr&gt; | INTERACTION_TYPE &lt;chr&gt; | PARTICIPANT_B &lt;chr&gt; | INTERACTION_DATA_SOURCE &lt;chr&gt; | INTERACTION_PUBMED_ID &lt;chr&gt; | PATHWAY_NAMES &lt;chr&gt; | MEDIATOR_IDS &lt;chr&gt; |\n",
       "|---|---|---|---|---|---|---|\n",
       "| A1BG | controls-expression-of | A2M   | pid     | 12456685;7678052;9794795 | IL6-mediated signaling events | pid:pid_74043;pid:pid_74038                                                       |\n",
       "| A1BG | interacts-with         | ABCC6 | BioGRID | 21988832                 | <!----> | biogrid:MolecularInteraction_bebab183-9762-4322-b91f-e9a69a0c9e97___null__162374_ |\n",
       "\n"
      ],
      "text/plain": [
       "  PARTICIPANT_A INTERACTION_TYPE       PARTICIPANT_B INTERACTION_DATA_SOURCE\n",
       "1 A1BG          controls-expression-of A2M           pid                    \n",
       "2 A1BG          interacts-with         ABCC6         BioGRID                \n",
       "  INTERACTION_PUBMED_ID    PATHWAY_NAMES                \n",
       "1 12456685;7678052;9794795 IL6-mediated signaling events\n",
       "2 21988832                                              \n",
       "  MEDIATOR_IDS                                                                     \n",
       "1 pid:pid_74043;pid:pid_74038                                                      \n",
       "2 biogrid:MolecularInteraction_bebab183-9762-4322-b91f-e9a69a0c9e97___null__162374_"
      ]
     },
     "metadata": {},
     "output_type": "display_data"
    }
   ],
   "source": [
    "pc_hgnc <- fread(\"~/Downloads/pc-hgnc.txt.gz\", fill=TRUE)#, fill=TRUE)\n",
    "pc_hgnc[1:2,]\n",
    "# downloaded from https://download.baderlab.org/PathwayCommons/PC2/v14/"
   ]
  },
  {
   "cell_type": "code",
   "execution_count": 3,
   "id": "4c218952-a2b3-4b94-a0fa-0fd66b177ebe",
   "metadata": {},
   "outputs": [
    {
     "data": {
      "text/html": [
       "<table class=\"dataframe\">\n",
       "<caption>A data.table: 1 × 7</caption>\n",
       "<thead>\n",
       "\t<tr><th scope=col>PARTICIPANT_A</th><th scope=col>INTERACTION_TYPE</th><th scope=col>PARTICIPANT_B</th><th scope=col>INTERACTION_DATA_SOURCE</th><th scope=col>INTERACTION_PUBMED_ID</th><th scope=col>PATHWAY_NAMES</th><th scope=col>MEDIATOR_IDS</th></tr>\n",
       "\t<tr><th scope=col>&lt;chr&gt;</th><th scope=col>&lt;chr&gt;</th><th scope=col>&lt;chr&gt;</th><th scope=col>&lt;chr&gt;</th><th scope=col>&lt;chr&gt;</th><th scope=col>&lt;chr&gt;</th><th scope=col>&lt;chr&gt;</th></tr>\n",
       "</thead>\n",
       "<tbody>\n",
       "\t<tr><td>PARTICIPANT</td><td>PARTICIPANT_TYPE</td><td>PARTICIPANT_NAME</td><td>UNIFICATION_XREF</td><td>RELATIONSHIP_XREF</td><td></td><td></td></tr>\n",
       "</tbody>\n",
       "</table>\n"
      ],
      "text/latex": [
       "A data.table: 1 × 7\n",
       "\\begin{tabular}{lllllll}\n",
       " PARTICIPANT\\_A & INTERACTION\\_TYPE & PARTICIPANT\\_B & INTERACTION\\_DATA\\_SOURCE & INTERACTION\\_PUBMED\\_ID & PATHWAY\\_NAMES & MEDIATOR\\_IDS\\\\\n",
       " <chr> & <chr> & <chr> & <chr> & <chr> & <chr> & <chr>\\\\\n",
       "\\hline\n",
       "\t PARTICIPANT & PARTICIPANT\\_TYPE & PARTICIPANT\\_NAME & UNIFICATION\\_XREF & RELATIONSHIP\\_XREF &  & \\\\\n",
       "\\end{tabular}\n"
      ],
      "text/markdown": [
       "\n",
       "A data.table: 1 × 7\n",
       "\n",
       "| PARTICIPANT_A &lt;chr&gt; | INTERACTION_TYPE &lt;chr&gt; | PARTICIPANT_B &lt;chr&gt; | INTERACTION_DATA_SOURCE &lt;chr&gt; | INTERACTION_PUBMED_ID &lt;chr&gt; | PATHWAY_NAMES &lt;chr&gt; | MEDIATOR_IDS &lt;chr&gt; |\n",
       "|---|---|---|---|---|---|---|\n",
       "| PARTICIPANT | PARTICIPANT_TYPE | PARTICIPANT_NAME | UNIFICATION_XREF | RELATIONSHIP_XREF | <!----> | <!----> |\n",
       "\n"
      ],
      "text/plain": [
       "  PARTICIPANT_A INTERACTION_TYPE PARTICIPANT_B    INTERACTION_DATA_SOURCE\n",
       "1 PARTICIPANT   PARTICIPANT_TYPE PARTICIPANT_NAME UNIFICATION_XREF       \n",
       "  INTERACTION_PUBMED_ID PATHWAY_NAMES MEDIATOR_IDS\n",
       "1 RELATIONSHIP_XREF                               "
      ]
     },
     "metadata": {},
     "output_type": "display_data"
    },
    {
     "data": {
      "text/html": [
       "<table class=\"dataframe\">\n",
       "<caption>A data.table: 2 × 5</caption>\n",
       "<thead>\n",
       "\t<tr><th scope=col>PARTICIPANT_A</th><th scope=col>INTERACTION_TYPE</th><th scope=col>PARTICIPANT_B</th><th scope=col>INTERACTION_DATA_SOURCE</th><th scope=col>INTERACTION_PUBMED_ID</th></tr>\n",
       "\t<tr><th scope=col>&lt;chr&gt;</th><th scope=col>&lt;chr&gt;</th><th scope=col>&lt;chr&gt;</th><th scope=col>&lt;chr&gt;</th><th scope=col>&lt;chr&gt;</th></tr>\n",
       "</thead>\n",
       "<tbody>\n",
       "\t<tr><td>chebi:31403</td><td>SmallMoleculeReference</td><td>cinnarizine   </td><td>chebi:CHEBI:31403</td><td></td></tr>\n",
       "\t<tr><td>SNORD121B  </td><td>RnaReference          </td><td>SNORD121B mRNA</td><td>                 </td><td></td></tr>\n",
       "</tbody>\n",
       "</table>\n"
      ],
      "text/latex": [
       "A data.table: 2 × 5\n",
       "\\begin{tabular}{lllll}\n",
       " PARTICIPANT\\_A & INTERACTION\\_TYPE & PARTICIPANT\\_B & INTERACTION\\_DATA\\_SOURCE & INTERACTION\\_PUBMED\\_ID\\\\\n",
       " <chr> & <chr> & <chr> & <chr> & <chr>\\\\\n",
       "\\hline\n",
       "\t chebi:31403 & SmallMoleculeReference & cinnarizine    & chebi:CHEBI:31403 & \\\\\n",
       "\t SNORD121B   & RnaReference           & SNORD121B mRNA &                   & \\\\\n",
       "\\end{tabular}\n"
      ],
      "text/markdown": [
       "\n",
       "A data.table: 2 × 5\n",
       "\n",
       "| PARTICIPANT_A &lt;chr&gt; | INTERACTION_TYPE &lt;chr&gt; | PARTICIPANT_B &lt;chr&gt; | INTERACTION_DATA_SOURCE &lt;chr&gt; | INTERACTION_PUBMED_ID &lt;chr&gt; |\n",
       "|---|---|---|---|---|\n",
       "| chebi:31403 | SmallMoleculeReference | cinnarizine    | chebi:CHEBI:31403 | <!----> |\n",
       "| SNORD121B   | RnaReference           | SNORD121B mRNA | <!----> | <!----> |\n",
       "\n"
      ],
      "text/plain": [
       "  PARTICIPANT_A INTERACTION_TYPE       PARTICIPANT_B  INTERACTION_DATA_SOURCE\n",
       "1 chebi:31403   SmallMoleculeReference cinnarizine    chebi:CHEBI:31403      \n",
       "2 SNORD121B     RnaReference           SNORD121B mRNA                        \n",
       "  INTERACTION_PUBMED_ID\n",
       "1                      \n",
       "2                      "
      ]
     },
     "metadata": {},
     "output_type": "display_data"
    },
    {
     "data": {
      "text/html": [
       "<style>\n",
       ".list-inline {list-style: none; margin:0; padding: 0}\n",
       ".list-inline>li {display: inline-block}\n",
       ".list-inline>li:not(:last-child)::after {content: \"\\00b7\"; padding: 0 .5ex}\n",
       "</style>\n",
       "<ol class=list-inline><li>'SmallMoleculeReference'</li><li>'RnaReference'</li><li>'DnaRegionReference;ProteinReference;RnaReference'</li><li>'ProteinReference;RnaReference;RnaRegionReference'</li><li>'ProteinReference;RnaReference'</li><li>'DnaRegionReference;ProteinReference;RnaReference;RnaRegionReference'</li><li>'DnaReference;ProteinReference;RnaReference;RnaRegionReference'</li><li>'DnaReference;ProteinReference;RnaReference'</li><li>'DnaReference;DnaRegionReference;ProteinReference;RnaReference'</li><li>'RnaReference;RnaRegionReference'</li><li>'ProteinReference'</li><li>'DnaRegionReference;RnaReference'</li><li>'ProteinReference;RnaRegionReference'</li><li>'RnaRegionReference'</li><li>'DnaReference;DnaRegionReference;ProteinReference;RnaReference;RnaRegionReference'</li><li>'DnaReference;DnaRegionReference;ProteinReference'</li><li>'DnaRegionReference'</li><li>'DnaRegionReference;ProteinReference'</li><li>'DnaReference;ProteinReference'</li><li>'DnaReference;RnaReference;RnaRegionReference'</li><li>'DnaRegionReference;ProteinReference;RnaRegionReference'</li><li>'DnaReference;RnaReference'</li><li>'DnaRegionReference;RnaReference;RnaRegionReference'</li><li>'DnaReference;ProteinReference;RnaRegionReference'</li><li>'DnaReference'</li></ol>\n"
      ],
      "text/latex": [
       "\\begin{enumerate*}\n",
       "\\item 'SmallMoleculeReference'\n",
       "\\item 'RnaReference'\n",
       "\\item 'DnaRegionReference;ProteinReference;RnaReference'\n",
       "\\item 'ProteinReference;RnaReference;RnaRegionReference'\n",
       "\\item 'ProteinReference;RnaReference'\n",
       "\\item 'DnaRegionReference;ProteinReference;RnaReference;RnaRegionReference'\n",
       "\\item 'DnaReference;ProteinReference;RnaReference;RnaRegionReference'\n",
       "\\item 'DnaReference;ProteinReference;RnaReference'\n",
       "\\item 'DnaReference;DnaRegionReference;ProteinReference;RnaReference'\n",
       "\\item 'RnaReference;RnaRegionReference'\n",
       "\\item 'ProteinReference'\n",
       "\\item 'DnaRegionReference;RnaReference'\n",
       "\\item 'ProteinReference;RnaRegionReference'\n",
       "\\item 'RnaRegionReference'\n",
       "\\item 'DnaReference;DnaRegionReference;ProteinReference;RnaReference;RnaRegionReference'\n",
       "\\item 'DnaReference;DnaRegionReference;ProteinReference'\n",
       "\\item 'DnaRegionReference'\n",
       "\\item 'DnaRegionReference;ProteinReference'\n",
       "\\item 'DnaReference;ProteinReference'\n",
       "\\item 'DnaReference;RnaReference;RnaRegionReference'\n",
       "\\item 'DnaRegionReference;ProteinReference;RnaRegionReference'\n",
       "\\item 'DnaReference;RnaReference'\n",
       "\\item 'DnaRegionReference;RnaReference;RnaRegionReference'\n",
       "\\item 'DnaReference;ProteinReference;RnaRegionReference'\n",
       "\\item 'DnaReference'\n",
       "\\end{enumerate*}\n"
      ],
      "text/markdown": [
       "1. 'SmallMoleculeReference'\n",
       "2. 'RnaReference'\n",
       "3. 'DnaRegionReference;ProteinReference;RnaReference'\n",
       "4. 'ProteinReference;RnaReference;RnaRegionReference'\n",
       "5. 'ProteinReference;RnaReference'\n",
       "6. 'DnaRegionReference;ProteinReference;RnaReference;RnaRegionReference'\n",
       "7. 'DnaReference;ProteinReference;RnaReference;RnaRegionReference'\n",
       "8. 'DnaReference;ProteinReference;RnaReference'\n",
       "9. 'DnaReference;DnaRegionReference;ProteinReference;RnaReference'\n",
       "10. 'RnaReference;RnaRegionReference'\n",
       "11. 'ProteinReference'\n",
       "12. 'DnaRegionReference;RnaReference'\n",
       "13. 'ProteinReference;RnaRegionReference'\n",
       "14. 'RnaRegionReference'\n",
       "15. 'DnaReference;DnaRegionReference;ProteinReference;RnaReference;RnaRegionReference'\n",
       "16. 'DnaReference;DnaRegionReference;ProteinReference'\n",
       "17. 'DnaRegionReference'\n",
       "18. 'DnaRegionReference;ProteinReference'\n",
       "19. 'DnaReference;ProteinReference'\n",
       "20. 'DnaReference;RnaReference;RnaRegionReference'\n",
       "21. 'DnaRegionReference;ProteinReference;RnaRegionReference'\n",
       "22. 'DnaReference;RnaReference'\n",
       "23. 'DnaRegionReference;RnaReference;RnaRegionReference'\n",
       "24. 'DnaReference;ProteinReference;RnaRegionReference'\n",
       "25. 'DnaReference'\n",
       "\n",
       "\n"
      ],
      "text/plain": [
       " [1] \"SmallMoleculeReference\"                                                          \n",
       " [2] \"RnaReference\"                                                                    \n",
       " [3] \"DnaRegionReference;ProteinReference;RnaReference\"                                \n",
       " [4] \"ProteinReference;RnaReference;RnaRegionReference\"                                \n",
       " [5] \"ProteinReference;RnaReference\"                                                   \n",
       " [6] \"DnaRegionReference;ProteinReference;RnaReference;RnaRegionReference\"             \n",
       " [7] \"DnaReference;ProteinReference;RnaReference;RnaRegionReference\"                   \n",
       " [8] \"DnaReference;ProteinReference;RnaReference\"                                      \n",
       " [9] \"DnaReference;DnaRegionReference;ProteinReference;RnaReference\"                   \n",
       "[10] \"RnaReference;RnaRegionReference\"                                                 \n",
       "[11] \"ProteinReference\"                                                                \n",
       "[12] \"DnaRegionReference;RnaReference\"                                                 \n",
       "[13] \"ProteinReference;RnaRegionReference\"                                             \n",
       "[14] \"RnaRegionReference\"                                                              \n",
       "[15] \"DnaReference;DnaRegionReference;ProteinReference;RnaReference;RnaRegionReference\"\n",
       "[16] \"DnaReference;DnaRegionReference;ProteinReference\"                                \n",
       "[17] \"DnaRegionReference\"                                                              \n",
       "[18] \"DnaRegionReference;ProteinReference\"                                             \n",
       "[19] \"DnaReference;ProteinReference\"                                                   \n",
       "[20] \"DnaReference;RnaReference;RnaRegionReference\"                                    \n",
       "[21] \"DnaRegionReference;ProteinReference;RnaRegionReference\"                          \n",
       "[22] \"DnaReference;RnaReference\"                                                       \n",
       "[23] \"DnaRegionReference;RnaReference;RnaRegionReference\"                              \n",
       "[24] \"DnaReference;ProteinReference;RnaRegionReference\"                                \n",
       "[25] \"DnaReference\"                                                                    "
      ]
     },
     "metadata": {},
     "output_type": "display_data"
    }
   ],
   "source": [
    "# split according to metadata (the file has the interactions AND metadata on each participant)\n",
    "\n",
    "pc_hgnc[2484223,]\n",
    "metadata = pc_hgnc[2484224:2524907,1:5]\n",
    "\n",
    "metadata[1:2,1:5]\n",
    "colnames(metadata) = c(\"PARTICIPANT\", \"PARTICIPANT_TYPE\", \"PARTICIPANT_NAME\", \"UNIFICATION_XREF\", \"RELATIONSHIP_XREF\")\n",
    "unique(metadata$PARTICIPANT_TYPE)\n",
    "pc_hgnc = pc_hgnc[1:2484222,]"
   ]
  },
  {
   "cell_type": "markdown",
   "id": "50feb8b2-76cb-4930-a4b5-9e85b95351fb",
   "metadata": {},
   "source": [
    "## 1. Remove those in complex with "
   ]
  },
  {
   "cell_type": "code",
   "execution_count": 4,
   "id": "092a66a5-f06b-456f-8207-b6af532f7d62",
   "metadata": {},
   "outputs": [
    {
     "data": {
      "text/html": [
       "<style>\n",
       ".list-inline {list-style: none; margin:0; padding: 0}\n",
       ".list-inline>li {display: inline-block}\n",
       ".list-inline>li:not(:last-child)::after {content: \"\\00b7\"; padding: 0 .5ex}\n",
       "</style>\n",
       "<ol class=list-inline><li>''</li><li>'catalysis-precedes'</li><li>'chemical-affects'</li><li>'consumption-controlled-by'</li><li>'controls-expression-of'</li><li>'controls-phosphorylation-of'</li><li>'controls-production-of'</li><li>'controls-state-change-of'</li><li>'controls-transport-of'</li><li>'controls-transport-of-chemical'</li><li>'in-complex-with'</li><li>'interacts-with'</li><li>'reacts-with'</li><li>'used-to-produce'</li></ol>\n"
      ],
      "text/latex": [
       "\\begin{enumerate*}\n",
       "\\item ''\n",
       "\\item 'catalysis-precedes'\n",
       "\\item 'chemical-affects'\n",
       "\\item 'consumption-controlled-by'\n",
       "\\item 'controls-expression-of'\n",
       "\\item 'controls-phosphorylation-of'\n",
       "\\item 'controls-production-of'\n",
       "\\item 'controls-state-change-of'\n",
       "\\item 'controls-transport-of'\n",
       "\\item 'controls-transport-of-chemical'\n",
       "\\item 'in-complex-with'\n",
       "\\item 'interacts-with'\n",
       "\\item 'reacts-with'\n",
       "\\item 'used-to-produce'\n",
       "\\end{enumerate*}\n"
      ],
      "text/markdown": [
       "1. ''\n",
       "2. 'catalysis-precedes'\n",
       "3. 'chemical-affects'\n",
       "4. 'consumption-controlled-by'\n",
       "5. 'controls-expression-of'\n",
       "6. 'controls-phosphorylation-of'\n",
       "7. 'controls-production-of'\n",
       "8. 'controls-state-change-of'\n",
       "9. 'controls-transport-of'\n",
       "10. 'controls-transport-of-chemical'\n",
       "11. 'in-complex-with'\n",
       "12. 'interacts-with'\n",
       "13. 'reacts-with'\n",
       "14. 'used-to-produce'\n",
       "\n",
       "\n"
      ],
      "text/plain": [
       " [1] \"\"                               \"catalysis-precedes\"            \n",
       " [3] \"chemical-affects\"               \"consumption-controlled-by\"     \n",
       " [5] \"controls-expression-of\"         \"controls-phosphorylation-of\"   \n",
       " [7] \"controls-production-of\"         \"controls-state-change-of\"      \n",
       " [9] \"controls-transport-of\"          \"controls-transport-of-chemical\"\n",
       "[11] \"in-complex-with\"                \"interacts-with\"                \n",
       "[13] \"reacts-with\"                    \"used-to-produce\"               "
      ]
     },
     "metadata": {},
     "output_type": "display_data"
    },
    {
     "data": {
      "text/html": [
       "2484222"
      ],
      "text/latex": [
       "2484222"
      ],
      "text/markdown": [
       "2484222"
      ],
      "text/plain": [
       "[1] 2484222"
      ]
     },
     "metadata": {},
     "output_type": "display_data"
    },
    {
     "data": {
      "text/html": [
       "2279905"
      ],
      "text/latex": [
       "2279905"
      ],
      "text/markdown": [
       "2279905"
      ],
      "text/plain": [
       "[1] 2279905"
      ]
     },
     "metadata": {},
     "output_type": "display_data"
    },
    {
     "name": "stdout",
     "output_type": "stream",
     "text": [
      "\n",
      "# Pairs lost due to in-complex-with: 204317"
     ]
    }
   ],
   "source": [
    "sort(unique(pc_hgnc$INTERACTION_TYPE))\n",
    "old = nrow(pc_hgnc)\n",
    "old\n",
    "# remove the in-complex-with\n",
    "pc_hgnc <- pc_hgnc[pc_hgnc$INTERACTION_TYPE != \"in-complex-with\",]\n",
    "nrow(pc_hgnc)\n",
    "cat(\"\\n# Pairs lost due to in-complex-with:\", old-nrow(pc_hgnc))"
   ]
  },
  {
   "cell_type": "markdown",
   "id": "d4745b8f-9d94-4500-bf75-b63db58ad463",
   "metadata": {},
   "source": [
    "## 1. Remove housekeeping genes\n",
    "- Use the HSIAO_HOUSEKEEPING_GENES_new.txt found on their github "
   ]
  },
  {
   "cell_type": "code",
   "execution_count": 5,
   "id": "7a8b5e03-1c20-4835-9af9-ecdf1378ff35",
   "metadata": {},
   "outputs": [
    {
     "name": "stdout",
     "output_type": "stream",
     "text": [
      "\n",
      "# Housekeeping Genes: 405"
     ]
    },
    {
     "data": {
      "text/html": [
       "2179584"
      ],
      "text/latex": [
       "2179584"
      ],
      "text/markdown": [
       "2179584"
      ],
      "text/plain": [
       "[1] 2179584"
      ]
     },
     "metadata": {},
     "output_type": "display_data"
    },
    {
     "data": {
      "text/html": [
       "2053927"
      ],
      "text/latex": [
       "2053927"
      ],
      "text/markdown": [
       "2053927"
      ],
      "text/plain": [
       "[1] 2053927"
      ]
     },
     "metadata": {},
     "output_type": "display_data"
    },
    {
     "name": "stdout",
     "output_type": "stream",
     "text": [
      "\n",
      "# Pairs lost due to housekeeping: 225978"
     ]
    }
   ],
   "source": [
    "\n",
    "# elcude houseeping genes\n",
    "old = nrow(pc_hgnc)\n",
    "housekeep <- fread(\"~/Downloads/HSIAO_HOUSEKEEPING_GENES_new.txt\", \n",
    "                  header=FALSE)\n",
    "housekeep = housekeep$V1\n",
    "cat(\"\\n# Housekeeping Genes:\", length(housekeep))\n",
    "pc_hgnc <- pc_hgnc[!pc_hgnc$PARTICIPANT_A %in% housekeep,]\n",
    "nrow(pc_hgnc)\n",
    "pc_hgnc <- pc_hgnc[!pc_hgnc$PARTICIPANT_B %in% housekeep,]\n",
    "nrow(pc_hgnc)\n",
    "cat(\"\\n# Pairs lost due to housekeeping:\", old-nrow(pc_hgnc))"
   ]
  },
  {
   "cell_type": "markdown",
   "id": "0488fb4e-926b-4fd0-9dcf-bb286a34e19a",
   "metadata": {},
   "source": [
    "## 2. Remove ribosomal proteins and RNAs"
   ]
  },
  {
   "cell_type": "code",
   "execution_count": 6,
   "id": "a23ac792-eeb3-4a6b-870d-bc676246e6f2",
   "metadata": {},
   "outputs": [
    {
     "data": {
      "text/html": [
       "<table class=\"dataframe\">\n",
       "<caption>A data.table: 1 × 7</caption>\n",
       "<thead>\n",
       "\t<tr><th scope=col>HGNC ID (gene)</th><th scope=col>Approved symbol</th><th scope=col>Approved name</th><th scope=col>Previous symbols</th><th scope=col>Aliases</th><th scope=col>Chromosome</th><th scope=col>Group</th></tr>\n",
       "\t<tr><th scope=col>&lt;chr&gt;</th><th scope=col>&lt;chr&gt;</th><th scope=col>&lt;chr&gt;</th><th scope=col>&lt;chr&gt;</th><th scope=col>&lt;chr&gt;</th><th scope=col>&lt;chr&gt;</th><th scope=col>&lt;chr&gt;</th></tr>\n",
       "</thead>\n",
       "<tbody>\n",
       "\t<tr><td>HGNC:14275</td><td>MRPL1</td><td>mitochondrial ribosomal protein L1</td><td></td><td>BM022,uL1m</td><td>4q21.1</td><td>Large subunit mitochondrial ribosomal proteins</td></tr>\n",
       "</tbody>\n",
       "</table>\n"
      ],
      "text/latex": [
       "A data.table: 1 × 7\n",
       "\\begin{tabular}{lllllll}\n",
       " HGNC ID (gene) & Approved symbol & Approved name & Previous symbols & Aliases & Chromosome & Group\\\\\n",
       " <chr> & <chr> & <chr> & <chr> & <chr> & <chr> & <chr>\\\\\n",
       "\\hline\n",
       "\t HGNC:14275 & MRPL1 & mitochondrial ribosomal protein L1 &  & BM022,uL1m & 4q21.1 & Large subunit mitochondrial ribosomal proteins\\\\\n",
       "\\end{tabular}\n"
      ],
      "text/markdown": [
       "\n",
       "A data.table: 1 × 7\n",
       "\n",
       "| HGNC ID (gene) &lt;chr&gt; | Approved symbol &lt;chr&gt; | Approved name &lt;chr&gt; | Previous symbols &lt;chr&gt; | Aliases &lt;chr&gt; | Chromosome &lt;chr&gt; | Group &lt;chr&gt; |\n",
       "|---|---|---|---|---|---|---|\n",
       "| HGNC:14275 | MRPL1 | mitochondrial ribosomal protein L1 | <!----> | BM022,uL1m | 4q21.1 | Large subunit mitochondrial ribosomal proteins |\n",
       "\n"
      ],
      "text/plain": [
       "  HGNC ID (gene) Approved symbol Approved name                     \n",
       "1 HGNC:14275     MRPL1           mitochondrial ribosomal protein L1\n",
       "  Previous symbols Aliases    Chromosome\n",
       "1                  BM022,uL1m 4q21.1    \n",
       "  Group                                         \n",
       "1 Large subunit mitochondrial ribosomal proteins"
      ]
     },
     "metadata": {},
     "output_type": "display_data"
    },
    {
     "data": {
      "text/html": [
       "<table class=\"dataframe\">\n",
       "<caption>A data.table: 1 × 7</caption>\n",
       "<thead>\n",
       "\t<tr><th scope=col>HGNC ID (gene)</th><th scope=col>Approved symbol</th><th scope=col>Approved name</th><th scope=col>Previous symbols</th><th scope=col>Aliases</th><th scope=col>Chromosome</th><th scope=col>Group</th></tr>\n",
       "\t<tr><th scope=col>&lt;chr&gt;</th><th scope=col>&lt;chr&gt;</th><th scope=col>&lt;chr&gt;</th><th scope=col>&lt;chr&gt;</th><th scope=col>&lt;chr&gt;</th><th scope=col>&lt;chr&gt;</th><th scope=col>&lt;chr&gt;</th></tr>\n",
       "</thead>\n",
       "<tbody>\n",
       "\t<tr><td>HGNC:34362</td><td>RNA5S1</td><td>RNA, 5S ribosomal 1</td><td>RN5S1</td><td></td><td>1q42.13</td><td>5S ribosomal RNAs</td></tr>\n",
       "</tbody>\n",
       "</table>\n"
      ],
      "text/latex": [
       "A data.table: 1 × 7\n",
       "\\begin{tabular}{lllllll}\n",
       " HGNC ID (gene) & Approved symbol & Approved name & Previous symbols & Aliases & Chromosome & Group\\\\\n",
       " <chr> & <chr> & <chr> & <chr> & <chr> & <chr> & <chr>\\\\\n",
       "\\hline\n",
       "\t HGNC:34362 & RNA5S1 & RNA, 5S ribosomal 1 & RN5S1 &  & 1q42.13 & 5S ribosomal RNAs\\\\\n",
       "\\end{tabular}\n"
      ],
      "text/markdown": [
       "\n",
       "A data.table: 1 × 7\n",
       "\n",
       "| HGNC ID (gene) &lt;chr&gt; | Approved symbol &lt;chr&gt; | Approved name &lt;chr&gt; | Previous symbols &lt;chr&gt; | Aliases &lt;chr&gt; | Chromosome &lt;chr&gt; | Group &lt;chr&gt; |\n",
       "|---|---|---|---|---|---|---|\n",
       "| HGNC:34362 | RNA5S1 | RNA, 5S ribosomal 1 | RN5S1 | <!----> | 1q42.13 | 5S ribosomal RNAs |\n",
       "\n"
      ],
      "text/plain": [
       "  HGNC ID (gene) Approved symbol Approved name       Previous symbols Aliases\n",
       "1 HGNC:34362     RNA5S1          RNA, 5S ribosomal 1 RN5S1                   \n",
       "  Chromosome Group            \n",
       "1 1q42.13    5S ribosomal RNAs"
      ]
     },
     "metadata": {},
     "output_type": "display_data"
    },
    {
     "data": {
      "text/html": [
       "64"
      ],
      "text/latex": [
       "64"
      ],
      "text/markdown": [
       "64"
      ],
      "text/plain": [
       "[1] 64"
      ]
     },
     "metadata": {},
     "output_type": "display_data"
    },
    {
     "data": {
      "text/html": [
       "247"
      ],
      "text/latex": [
       "247"
      ],
      "text/markdown": [
       "247"
      ],
      "text/plain": [
       "[1] 247"
      ]
     },
     "metadata": {},
     "output_type": "display_data"
    },
    {
     "data": {
      "text/html": [
       "235"
      ],
      "text/latex": [
       "235"
      ],
      "text/markdown": [
       "235"
      ],
      "text/plain": [
       "[1] 235"
      ]
     },
     "metadata": {},
     "output_type": "display_data"
    },
    {
     "data": {
      "text/html": [
       "2026780"
      ],
      "text/latex": [
       "2026780"
      ],
      "text/markdown": [
       "2026780"
      ],
      "text/plain": [
       "[1] 2026780"
      ]
     },
     "metadata": {},
     "output_type": "display_data"
    },
    {
     "data": {
      "text/html": [
       "639"
      ],
      "text/latex": [
       "639"
      ],
      "text/markdown": [
       "639"
      ],
      "text/plain": [
       "[1] 639"
      ]
     },
     "metadata": {},
     "output_type": "display_data"
    },
    {
     "data": {
      "text/html": [
       "404"
      ],
      "text/latex": [
       "404"
      ],
      "text/markdown": [
       "404"
      ],
      "text/plain": [
       "[1] 404"
      ]
     },
     "metadata": {},
     "output_type": "display_data"
    },
    {
     "data": {
      "text/html": [
       "2021379"
      ],
      "text/latex": [
       "2021379"
      ],
      "text/markdown": [
       "2021379"
      ],
      "text/plain": [
       "[1] 2021379"
      ]
     },
     "metadata": {},
     "output_type": "display_data"
    },
    {
     "name": "stdout",
     "output_type": "stream",
     "text": [
      "\n",
      "# Pairs lost due to ribosomal: 32548"
     ]
    }
   ],
   "source": [
    "old = nrow(pc_hgnc)\n",
    "rib_prots <- fread(\"~/Downloads/ribosomal_proteins_HGNC_9.4.24.csv\", skip=1, header=TRUE)\n",
    "rib_prots[1,]\n",
    "rib_prots = rib_prots[[\"Approved symbol\"]]\n",
    "rib_RNAs <- fread(\"~/Downloads/ribosomal_RNAs_HGNC_9.4.24.csv\", skip=1, header=TRUE)\n",
    "rib_RNAs[1,]\n",
    "rib_RNAs = rib_RNAs[[\"Approved symbol\"]]\n",
    "length(rib_RNAs)\n",
    "length(rib_prots)\n",
    "rib_genes = union(rib_RNAs, rib_prots)\n",
    "length(rib_genes)\n",
    "\n",
    "pc_hgnc <- pc_hgnc[!pc_hgnc$PARTICIPANT_A %in% rib_genes,]\n",
    "pc_hgnc <- pc_hgnc[!pc_hgnc$PARTICIPANT_B %in% rib_genes,]\n",
    "nrow(pc_hgnc)\n",
    "\n",
    "# hand annotated the remaining ribosomal genes not captured in these files from HGNC\n",
    "rem_rib_genes = unique(pc_hgnc$PARTICIPANT_A[grep(\"^RPS|^RPL|^RPP\", pc_hgnc$PARTICIPANT_A)])\n",
    "rem_rib_genes = union(rem_rib_genes, \n",
    "                      unique(pc_hgnc$PARTICIPANT_B[grep(\"^RPS|^RPL|^RPP\", pc_hgnc$PARTICIPANT_B)]))\n",
    "#rem_rib_genes\n",
    "rib_genes = union(rib_genes, rem_rib_genes)\n",
    "length(rib_genes)\n",
    "length(rem_rib_genes)\n",
    "pc_hgnc <- pc_hgnc[!pc_hgnc$PARTICIPANT_A %in% rem_rib_genes,]\n",
    "pc_hgnc <- pc_hgnc[!pc_hgnc$PARTICIPANT_B %in% rem_rib_genes,]\n",
    "nrow(pc_hgnc)\n",
    "cat(\"\\n# Pairs lost due to ribosomal:\", old-nrow(pc_hgnc))\n"
   ]
  },
  {
   "cell_type": "code",
   "execution_count": 7,
   "id": "cc835c4e-7527-40c0-a49b-67f05d7a7aa2",
   "metadata": {},
   "outputs": [
    {
     "data": {
      "text/html": [
       "<style>\n",
       ".list-inline {list-style: none; margin:0; padding: 0}\n",
       ".list-inline>li {display: inline-block}\n",
       ".list-inline>li:not(:last-child)::after {content: \"\\00b7\"; padding: 0 .5ex}\n",
       "</style>\n",
       "<ol class=list-inline><li>'RPL12P2'</li><li>'RPL13AP2'</li><li>'RPL18AP3'</li><li>'RPL18P11'</li><li>'RPL23AP32'</li><li>'RPL23AP5'</li><li>'RPL23AP64'</li><li>'RPL27AP6'</li><li>'RPL29P11'</li><li>'RPL36A-HNRNPH2'</li><li>'RPL37AP8'</li><li>'RPL39P5'</li><li>'RPL4P5'</li><li>'RPL6P1'</li><li>'RPL7AP27'</li><li>'RPL7AP66'</li><li>'RPL9P8'</li><li>'RPLP0P2'</li><li>'RPLP0P6'</li><li>'RPP14'</li><li>'RPP21'</li><li>'RPP25L'</li><li>'RPP25'</li><li>'RPP30'</li><li>'RPP38'</li><li>'RPP40'</li><li>'RPS10-NUDT3'</li><li>'RPS10P5'</li><li>'RPS14P3'</li><li>'RPS15AP21'</li><li>'RPS15P2'</li><li>'RPS19BP1'</li><li>'RPS20P14'</li><li>'RPS26P11'</li><li>'RPS26P50'</li><li>'RPS2P32'</li><li>'RPS2P46'</li><li>'RPS2P5'</li><li>'RPS3P6'</li><li>'RPS3P7'</li><li>'RPS4XP17'</li><li>'RPS6KA1'</li><li>'RPS6KA2'</li><li>'RPS6KA3'</li><li>'RPS6KA4'</li><li>'RPS6KA5'</li><li>'RPS6KA6'</li><li>'RPS6KB1'</li><li>'RPS6KB2'</li><li>'RPS6KC1'</li><li>'RPS6KL1'</li><li>'RPSA2'</li><li>'RPSAP14'</li><li>'RPSAP15'</li><li>'RPSAP26'</li><li>'RPL12P1'</li><li>'RPL13AP5'</li><li>'RPPH1'</li><li>'RPS2P45'</li><li>'RPL34-DT'</li><li>'RPS7P4'</li><li>'RPS7P5'</li><li>'RPL29P30'</li><li>'RPL36AP37'</li><li>'RPL10P16'</li><li>'RPL13P12'</li><li>'RPL21P16'</li><li>'RPL21P19'</li><li>'RPL30P8'</li><li>'RPL7AP9'</li><li>'RPL7P32'</li><li>'RPS15AP25'</li><li>'RPS26P54'</li><li>'RPSAP55'</li><li>'RPL26P30'</li><li>'RPL32P18'</li><li>'RPL32P3'</li><li>'RPSAP52'</li><li>'RPL32P20'</li><li>'RPL36P14'</li><li>'RPS12P22'</li><li>'RPS12P23'</li><li>'RPS12P4'</li><li>'RPS25P6'</li><li>'RPS27P19'</li><li>'RPSAP19'</li><li>'RPSAP56'</li><li>'RPL21P68'</li><li>'RPL21P87'</li><li>'RPL23AP82'</li><li>'RPL29P2'</li><li>'RPLP0P1'</li><li>'RPS15AP10'</li><li>'RPL10P12'</li><li>'RPL21P44'</li><li>'RPL27P2'</li><li>'RPL29P15'</li><li>'RPS2P35'</li><li>'RPL13AP20'</li><li>'RPL13AP6'</li><li>'RPL21P28'</li><li>'RPL23AP7'</li><li>'RPL23AP87'</li><li>'RPLP2P3'</li><li>'RPS26P35'</li><li>'RPS27P29'</li><li>'RPL35P5'</li><li>'RPS18P5'</li><li>'RPL21P97'</li><li>'RPL23AP37'</li><li>'RPL13AP3'</li><li>'RPL12P14'</li><li>'RPL12P19'</li><li>'RPL12P32'</li><li>'RPL12P35'</li><li>'RPS10P11'</li><li>'RPS10P13'</li><li>'RPS10P22'</li><li>'RPS10P4'</li><li>'RPS10P7'</li><li>'RPS18P12'</li><li>'RPS25P8'</li><li>'RPSAP18'</li><li>'RPSAP29'</li><li>'RPSAP61'</li><li>'RPSAP8'</li><li>'RPSAP9'</li><li>'RPL23AP42'</li><li>'RPL24P4'</li><li>'RPL13AP17'</li><li>'RPL18P4'</li><li>'RPL15P11'</li><li>'RPL17P33'</li><li>'RPL17P50'</li><li>'RPL21P62'</li><li>'RPL26P11'</li><li>'RPL7AP36'</li><li>'RPS27AP17'</li><li>'RPS2P18'</li><li>'RPS2P28'</li><li>'RPSAP30'</li><li>'RPSAP47'</li><li>'RPL7P23'</li><li>'RPL3P4'</li><li>'RPL41P5'</li><li>'RPL6P27'</li><li>'RPL7AP6'</li><li>'RPL7P1'</li><li>'RPL7P9'</li><li>'RPS13P2'</li><li>'RPS28P7'</li><li>'RPL23AP53'</li><li>'RPS4XP21'</li><li>'RPS17P16'</li><li>'RPS15P5'</li><li>'RPL26P32'</li><li>'RPL7P26'</li><li>'RPL14P1'</li><li>'RPL23AP44'</li><li>'RPS24P9'</li><li>'RPS8P10'</li><li>'RPL36AP33'</li><li>'RPL10AP2'</li><li>'RPL10P9'</li><li>'RPL17P7'</li><li>'RPS3AP47'</li><li>'RPS16P5'</li><li>'RPS26P57'</li><li>'RPL10P7'</li><li>'RPL12P27'</li><li>'RPL23AP93'</li><li>'RPL7P24'</li><li>'RPL7P50'</li><li>'RPP38-DT'</li><li>'RPS26P21'</li><li>'RPS2P36'</li><li>'RPS7P12'</li><li>'RPL23P8'</li><li>'RPL5P29'</li><li>'RPSAP12'</li><li>'RPSAP28'</li><li>'RPSAP31'</li><li>'RPSAP3'</li><li>'RPS4XP3'</li><li>'RPL10P8'</li><li>'RPLP2P1'</li><li>'RPS4XP9'</li><li>'RPS4XP2'</li><li>'RPL22P11'</li><li>'RPS18P9'</li><li>'RPL10AP3'</li><li>'RPL21P131'</li><li>'RPS17P10'</li><li>'RPS10P2'</li><li>'RPS26P31'</li><li>'RPL31P46'</li><li>'RPL12P38'</li><li>'RPL13AP25'</li><li>'RPL21P110'</li><li>'RPL21P12'</li><li>⋯</li><li>'RPL3P2'</li><li>'RPL7AP11'</li><li>'RPL26L1-AS1'</li><li>'RPL7AP25'</li><li>'RPL7AP65'</li><li>'RPL19P12'</li><li>'RPL10AP6'</li><li>'RPL10P13'</li><li>'RPL10P6'</li><li>'RPL13AP16'</li><li>'RPL15P5'</li><li>'RPL17P18'</li><li>'RPL17P22'</li><li>'RPL17P36'</li><li>'RPL17P39'</li><li>'RPL17P8'</li><li>'RPL17P9'</li><li>'RPL18AP16'</li><li>'RPL18AP6'</li><li>'RPL21P105'</li><li>'RPL21P119'</li><li>'RPL21P125'</li><li>'RPL21P14'</li><li>'RPL21P20'</li><li>'RPL21P29'</li><li>'RPL21P37'</li><li>'RPL21P39'</li><li>'RPL21P45'</li><li>'RPL21P46'</li><li>'RPL21P53'</li><li>'RPL21P61'</li><li>'RPL21P80'</li><li>'RPL21P98'</li><li>'RPL23AP21'</li><li>'RPL23AP24'</li><li>'RPL23AP43'</li><li>'RPL23AP57'</li><li>'RPL23AP61'</li><li>'RPL23AP63'</li><li>'RPL23AP74'</li><li>'RPL26P12'</li><li>'RPL26P19'</li><li>'RPL26P33'</li><li>'RPL29P12'</li><li>'RPL29P6'</li><li>'RPL29P9'</li><li>'RPL31P17'</li><li>'RPL31P49'</li><li>'RPL35P2'</li><li>'RPL36AP49'</li><li>'RPL36P5'</li><li>'RPL39P32'</li><li>'RPL3P7'</li><li>'RPL4P2'</li><li>'RPL6P10'</li><li>'RPL6P19'</li><li>'RPL6P20'</li><li>'RPL7AP26'</li><li>'RPL7AP62'</li><li>'RPL7AP70'</li><li>'RPL9P18'</li><li>'RPL9P25'</li><li>'RPL9P32'</li><li>'RPLP1P4'</li><li>'RPS10P14'</li><li>'RPS10P9'</li><li>'RPS12P29'</li><li>'RPS15AP17'</li><li>'RPS15AP19'</li><li>'RPS15AP24'</li><li>'RPS15P1'</li><li>'RPS15P4'</li><li>'RPS16P10'</li><li>'RPS16P1'</li><li>'RPS23P8'</li><li>'RPS26P15'</li><li>'RPS26P25'</li><li>'RPS26P2'</li><li>'RPS26P55'</li><li>'RPS26P8'</li><li>'RPS27AP11'</li><li>'RPS27AP12'</li><li>'RPS27P13'</li><li>'RPS27P21'</li><li>'RPS27P23'</li><li>'RPS27P6'</li><li>'RPS28P4'</li><li>'RPS28P6'</li><li>'RPS29P10'</li><li>'RPS29P11'</li><li>'RPS29P14'</li><li>'RPS29P16'</li><li>'RPS29P17'</li><li>'RPS29P18'</li><li>'RPS29P3'</li><li>'RPS2P11'</li><li>'RPS2P17'</li><li>'RPS2P21'</li><li>'RPS2P29'</li><li>'RPS2P48'</li><li>'RPS2P51'</li><li>'RPS2P8'</li><li>'RPS3AP13'</li><li>'RPS3AP44'</li><li>'RPS3P3'</li><li>'RPS6P1'</li><li>'RPS7P11'</li><li>'RPS8P8'</li><li>'RPS9P4'</li><li>'RPSAP39'</li><li>'RPSAP46'</li><li>'RPSAP49'</li><li>'RPL13P5'</li><li>'RPL37P6'</li><li>'RPS17P5'</li><li>'RPL21P4'</li><li>'RPL23AP1'</li><li>'RPL7P22'</li><li>'RPL23AP97'</li><li>'RPL35AP26'</li><li>'RPL7P38'</li><li>'RPLP1P6'</li><li>'RPL7AP45'</li><li>'RPS6KA2-IT1'</li><li>'RPL12P18'</li><li>'RPL15P20'</li><li>'RPL23AP45'</li><li>'RPL36AP44'</li><li>'RPL39P10'</li><li>'RPS11P5'</li><li>'RPL13P8'</li><li>'RPL32P29'</li><li>'RPL7AP37'</li><li>'RPS3P2'</li><li>'RPL34P2'</li><li>'RPS3AP6'</li><li>'POLB'</li><li>'POLDIP3'</li><li>'POLDIP2'</li><li>'POLR2B'</li><li>'POLR2E'</li><li>'POLG'</li><li>'POLRMT'</li><li>'POLR1G'</li><li>'POLR2J'</li><li>'POLR1H'</li><li>'POLD1'</li><li>'POLR1B'</li><li>'POLR2C'</li><li>'POLR1C'</li><li>'POLE'</li><li>'POLR2A'</li><li>'POLR3E'</li><li>'POLM'</li><li>'POLR1E'</li><li>'POLH'</li><li>'POLA1'</li><li>'POLA2'</li><li>'POLR2D'</li><li>'RPAP3'</li><li>'POLR2M'</li><li>'POLG2'</li><li>'POLE2'</li><li>'POLD3'</li><li>'POLR1A'</li><li>'POLD4'</li><li>'POLR3G'</li><li>'POLR3K'</li><li>'POLR1D'</li><li>'POLR3A'</li><li>'RPAP2'</li><li>'POLD2'</li><li>'RPAP1'</li><li>'POLR3C'</li><li>'POLE3'</li><li>'POLQ'</li><li>'POLR3F'</li><li>'POLR3B'</li><li>'POLK'</li><li>'POLR3H'</li><li>'POLI'</li><li>'POLL'</li><li>'POLR2F'</li><li>'POLR2K'</li><li>'POLE4'</li><li>'POLR1F'</li><li>'POLR2G'</li><li>'POLR2H'</li><li>'POLR2I'</li><li>'POLR3D'</li><li>'POLN'</li><li>'POLR2J2'</li><li>'POLR2J3'</li><li>'POLR3GL'</li><li>'POLR2MP1'</li><li>'POLR1HASP'</li><li>'POLR2J4'</li><li>'POLH-AS1'</li><li>'POLRMTP1'</li><li>'POLD2P1'</li></ol>\n"
      ],
      "text/latex": [
       "\\begin{enumerate*}\n",
       "\\item 'RPL12P2'\n",
       "\\item 'RPL13AP2'\n",
       "\\item 'RPL18AP3'\n",
       "\\item 'RPL18P11'\n",
       "\\item 'RPL23AP32'\n",
       "\\item 'RPL23AP5'\n",
       "\\item 'RPL23AP64'\n",
       "\\item 'RPL27AP6'\n",
       "\\item 'RPL29P11'\n",
       "\\item 'RPL36A-HNRNPH2'\n",
       "\\item 'RPL37AP8'\n",
       "\\item 'RPL39P5'\n",
       "\\item 'RPL4P5'\n",
       "\\item 'RPL6P1'\n",
       "\\item 'RPL7AP27'\n",
       "\\item 'RPL7AP66'\n",
       "\\item 'RPL9P8'\n",
       "\\item 'RPLP0P2'\n",
       "\\item 'RPLP0P6'\n",
       "\\item 'RPP14'\n",
       "\\item 'RPP21'\n",
       "\\item 'RPP25L'\n",
       "\\item 'RPP25'\n",
       "\\item 'RPP30'\n",
       "\\item 'RPP38'\n",
       "\\item 'RPP40'\n",
       "\\item 'RPS10-NUDT3'\n",
       "\\item 'RPS10P5'\n",
       "\\item 'RPS14P3'\n",
       "\\item 'RPS15AP21'\n",
       "\\item 'RPS15P2'\n",
       "\\item 'RPS19BP1'\n",
       "\\item 'RPS20P14'\n",
       "\\item 'RPS26P11'\n",
       "\\item 'RPS26P50'\n",
       "\\item 'RPS2P32'\n",
       "\\item 'RPS2P46'\n",
       "\\item 'RPS2P5'\n",
       "\\item 'RPS3P6'\n",
       "\\item 'RPS3P7'\n",
       "\\item 'RPS4XP17'\n",
       "\\item 'RPS6KA1'\n",
       "\\item 'RPS6KA2'\n",
       "\\item 'RPS6KA3'\n",
       "\\item 'RPS6KA4'\n",
       "\\item 'RPS6KA5'\n",
       "\\item 'RPS6KA6'\n",
       "\\item 'RPS6KB1'\n",
       "\\item 'RPS6KB2'\n",
       "\\item 'RPS6KC1'\n",
       "\\item 'RPS6KL1'\n",
       "\\item 'RPSA2'\n",
       "\\item 'RPSAP14'\n",
       "\\item 'RPSAP15'\n",
       "\\item 'RPSAP26'\n",
       "\\item 'RPL12P1'\n",
       "\\item 'RPL13AP5'\n",
       "\\item 'RPPH1'\n",
       "\\item 'RPS2P45'\n",
       "\\item 'RPL34-DT'\n",
       "\\item 'RPS7P4'\n",
       "\\item 'RPS7P5'\n",
       "\\item 'RPL29P30'\n",
       "\\item 'RPL36AP37'\n",
       "\\item 'RPL10P16'\n",
       "\\item 'RPL13P12'\n",
       "\\item 'RPL21P16'\n",
       "\\item 'RPL21P19'\n",
       "\\item 'RPL30P8'\n",
       "\\item 'RPL7AP9'\n",
       "\\item 'RPL7P32'\n",
       "\\item 'RPS15AP25'\n",
       "\\item 'RPS26P54'\n",
       "\\item 'RPSAP55'\n",
       "\\item 'RPL26P30'\n",
       "\\item 'RPL32P18'\n",
       "\\item 'RPL32P3'\n",
       "\\item 'RPSAP52'\n",
       "\\item 'RPL32P20'\n",
       "\\item 'RPL36P14'\n",
       "\\item 'RPS12P22'\n",
       "\\item 'RPS12P23'\n",
       "\\item 'RPS12P4'\n",
       "\\item 'RPS25P6'\n",
       "\\item 'RPS27P19'\n",
       "\\item 'RPSAP19'\n",
       "\\item 'RPSAP56'\n",
       "\\item 'RPL21P68'\n",
       "\\item 'RPL21P87'\n",
       "\\item 'RPL23AP82'\n",
       "\\item 'RPL29P2'\n",
       "\\item 'RPLP0P1'\n",
       "\\item 'RPS15AP10'\n",
       "\\item 'RPL10P12'\n",
       "\\item 'RPL21P44'\n",
       "\\item 'RPL27P2'\n",
       "\\item 'RPL29P15'\n",
       "\\item 'RPS2P35'\n",
       "\\item 'RPL13AP20'\n",
       "\\item 'RPL13AP6'\n",
       "\\item 'RPL21P28'\n",
       "\\item 'RPL23AP7'\n",
       "\\item 'RPL23AP87'\n",
       "\\item 'RPLP2P3'\n",
       "\\item 'RPS26P35'\n",
       "\\item 'RPS27P29'\n",
       "\\item 'RPL35P5'\n",
       "\\item 'RPS18P5'\n",
       "\\item 'RPL21P97'\n",
       "\\item 'RPL23AP37'\n",
       "\\item 'RPL13AP3'\n",
       "\\item 'RPL12P14'\n",
       "\\item 'RPL12P19'\n",
       "\\item 'RPL12P32'\n",
       "\\item 'RPL12P35'\n",
       "\\item 'RPS10P11'\n",
       "\\item 'RPS10P13'\n",
       "\\item 'RPS10P22'\n",
       "\\item 'RPS10P4'\n",
       "\\item 'RPS10P7'\n",
       "\\item 'RPS18P12'\n",
       "\\item 'RPS25P8'\n",
       "\\item 'RPSAP18'\n",
       "\\item 'RPSAP29'\n",
       "\\item 'RPSAP61'\n",
       "\\item 'RPSAP8'\n",
       "\\item 'RPSAP9'\n",
       "\\item 'RPL23AP42'\n",
       "\\item 'RPL24P4'\n",
       "\\item 'RPL13AP17'\n",
       "\\item 'RPL18P4'\n",
       "\\item 'RPL15P11'\n",
       "\\item 'RPL17P33'\n",
       "\\item 'RPL17P50'\n",
       "\\item 'RPL21P62'\n",
       "\\item 'RPL26P11'\n",
       "\\item 'RPL7AP36'\n",
       "\\item 'RPS27AP17'\n",
       "\\item 'RPS2P18'\n",
       "\\item 'RPS2P28'\n",
       "\\item 'RPSAP30'\n",
       "\\item 'RPSAP47'\n",
       "\\item 'RPL7P23'\n",
       "\\item 'RPL3P4'\n",
       "\\item 'RPL41P5'\n",
       "\\item 'RPL6P27'\n",
       "\\item 'RPL7AP6'\n",
       "\\item 'RPL7P1'\n",
       "\\item 'RPL7P9'\n",
       "\\item 'RPS13P2'\n",
       "\\item 'RPS28P7'\n",
       "\\item 'RPL23AP53'\n",
       "\\item 'RPS4XP21'\n",
       "\\item 'RPS17P16'\n",
       "\\item 'RPS15P5'\n",
       "\\item 'RPL26P32'\n",
       "\\item 'RPL7P26'\n",
       "\\item 'RPL14P1'\n",
       "\\item 'RPL23AP44'\n",
       "\\item 'RPS24P9'\n",
       "\\item 'RPS8P10'\n",
       "\\item 'RPL36AP33'\n",
       "\\item 'RPL10AP2'\n",
       "\\item 'RPL10P9'\n",
       "\\item 'RPL17P7'\n",
       "\\item 'RPS3AP47'\n",
       "\\item 'RPS16P5'\n",
       "\\item 'RPS26P57'\n",
       "\\item 'RPL10P7'\n",
       "\\item 'RPL12P27'\n",
       "\\item 'RPL23AP93'\n",
       "\\item 'RPL7P24'\n",
       "\\item 'RPL7P50'\n",
       "\\item 'RPP38-DT'\n",
       "\\item 'RPS26P21'\n",
       "\\item 'RPS2P36'\n",
       "\\item 'RPS7P12'\n",
       "\\item 'RPL23P8'\n",
       "\\item 'RPL5P29'\n",
       "\\item 'RPSAP12'\n",
       "\\item 'RPSAP28'\n",
       "\\item 'RPSAP31'\n",
       "\\item 'RPSAP3'\n",
       "\\item 'RPS4XP3'\n",
       "\\item 'RPL10P8'\n",
       "\\item 'RPLP2P1'\n",
       "\\item 'RPS4XP9'\n",
       "\\item 'RPS4XP2'\n",
       "\\item 'RPL22P11'\n",
       "\\item 'RPS18P9'\n",
       "\\item 'RPL10AP3'\n",
       "\\item 'RPL21P131'\n",
       "\\item 'RPS17P10'\n",
       "\\item 'RPS10P2'\n",
       "\\item 'RPS26P31'\n",
       "\\item 'RPL31P46'\n",
       "\\item 'RPL12P38'\n",
       "\\item 'RPL13AP25'\n",
       "\\item 'RPL21P110'\n",
       "\\item 'RPL21P12'\n",
       "\\item ⋯\n",
       "\\item 'RPL3P2'\n",
       "\\item 'RPL7AP11'\n",
       "\\item 'RPL26L1-AS1'\n",
       "\\item 'RPL7AP25'\n",
       "\\item 'RPL7AP65'\n",
       "\\item 'RPL19P12'\n",
       "\\item 'RPL10AP6'\n",
       "\\item 'RPL10P13'\n",
       "\\item 'RPL10P6'\n",
       "\\item 'RPL13AP16'\n",
       "\\item 'RPL15P5'\n",
       "\\item 'RPL17P18'\n",
       "\\item 'RPL17P22'\n",
       "\\item 'RPL17P36'\n",
       "\\item 'RPL17P39'\n",
       "\\item 'RPL17P8'\n",
       "\\item 'RPL17P9'\n",
       "\\item 'RPL18AP16'\n",
       "\\item 'RPL18AP6'\n",
       "\\item 'RPL21P105'\n",
       "\\item 'RPL21P119'\n",
       "\\item 'RPL21P125'\n",
       "\\item 'RPL21P14'\n",
       "\\item 'RPL21P20'\n",
       "\\item 'RPL21P29'\n",
       "\\item 'RPL21P37'\n",
       "\\item 'RPL21P39'\n",
       "\\item 'RPL21P45'\n",
       "\\item 'RPL21P46'\n",
       "\\item 'RPL21P53'\n",
       "\\item 'RPL21P61'\n",
       "\\item 'RPL21P80'\n",
       "\\item 'RPL21P98'\n",
       "\\item 'RPL23AP21'\n",
       "\\item 'RPL23AP24'\n",
       "\\item 'RPL23AP43'\n",
       "\\item 'RPL23AP57'\n",
       "\\item 'RPL23AP61'\n",
       "\\item 'RPL23AP63'\n",
       "\\item 'RPL23AP74'\n",
       "\\item 'RPL26P12'\n",
       "\\item 'RPL26P19'\n",
       "\\item 'RPL26P33'\n",
       "\\item 'RPL29P12'\n",
       "\\item 'RPL29P6'\n",
       "\\item 'RPL29P9'\n",
       "\\item 'RPL31P17'\n",
       "\\item 'RPL31P49'\n",
       "\\item 'RPL35P2'\n",
       "\\item 'RPL36AP49'\n",
       "\\item 'RPL36P5'\n",
       "\\item 'RPL39P32'\n",
       "\\item 'RPL3P7'\n",
       "\\item 'RPL4P2'\n",
       "\\item 'RPL6P10'\n",
       "\\item 'RPL6P19'\n",
       "\\item 'RPL6P20'\n",
       "\\item 'RPL7AP26'\n",
       "\\item 'RPL7AP62'\n",
       "\\item 'RPL7AP70'\n",
       "\\item 'RPL9P18'\n",
       "\\item 'RPL9P25'\n",
       "\\item 'RPL9P32'\n",
       "\\item 'RPLP1P4'\n",
       "\\item 'RPS10P14'\n",
       "\\item 'RPS10P9'\n",
       "\\item 'RPS12P29'\n",
       "\\item 'RPS15AP17'\n",
       "\\item 'RPS15AP19'\n",
       "\\item 'RPS15AP24'\n",
       "\\item 'RPS15P1'\n",
       "\\item 'RPS15P4'\n",
       "\\item 'RPS16P10'\n",
       "\\item 'RPS16P1'\n",
       "\\item 'RPS23P8'\n",
       "\\item 'RPS26P15'\n",
       "\\item 'RPS26P25'\n",
       "\\item 'RPS26P2'\n",
       "\\item 'RPS26P55'\n",
       "\\item 'RPS26P8'\n",
       "\\item 'RPS27AP11'\n",
       "\\item 'RPS27AP12'\n",
       "\\item 'RPS27P13'\n",
       "\\item 'RPS27P21'\n",
       "\\item 'RPS27P23'\n",
       "\\item 'RPS27P6'\n",
       "\\item 'RPS28P4'\n",
       "\\item 'RPS28P6'\n",
       "\\item 'RPS29P10'\n",
       "\\item 'RPS29P11'\n",
       "\\item 'RPS29P14'\n",
       "\\item 'RPS29P16'\n",
       "\\item 'RPS29P17'\n",
       "\\item 'RPS29P18'\n",
       "\\item 'RPS29P3'\n",
       "\\item 'RPS2P11'\n",
       "\\item 'RPS2P17'\n",
       "\\item 'RPS2P21'\n",
       "\\item 'RPS2P29'\n",
       "\\item 'RPS2P48'\n",
       "\\item 'RPS2P51'\n",
       "\\item 'RPS2P8'\n",
       "\\item 'RPS3AP13'\n",
       "\\item 'RPS3AP44'\n",
       "\\item 'RPS3P3'\n",
       "\\item 'RPS6P1'\n",
       "\\item 'RPS7P11'\n",
       "\\item 'RPS8P8'\n",
       "\\item 'RPS9P4'\n",
       "\\item 'RPSAP39'\n",
       "\\item 'RPSAP46'\n",
       "\\item 'RPSAP49'\n",
       "\\item 'RPL13P5'\n",
       "\\item 'RPL37P6'\n",
       "\\item 'RPS17P5'\n",
       "\\item 'RPL21P4'\n",
       "\\item 'RPL23AP1'\n",
       "\\item 'RPL7P22'\n",
       "\\item 'RPL23AP97'\n",
       "\\item 'RPL35AP26'\n",
       "\\item 'RPL7P38'\n",
       "\\item 'RPLP1P6'\n",
       "\\item 'RPL7AP45'\n",
       "\\item 'RPS6KA2-IT1'\n",
       "\\item 'RPL12P18'\n",
       "\\item 'RPL15P20'\n",
       "\\item 'RPL23AP45'\n",
       "\\item 'RPL36AP44'\n",
       "\\item 'RPL39P10'\n",
       "\\item 'RPS11P5'\n",
       "\\item 'RPL13P8'\n",
       "\\item 'RPL32P29'\n",
       "\\item 'RPL7AP37'\n",
       "\\item 'RPS3P2'\n",
       "\\item 'RPL34P2'\n",
       "\\item 'RPS3AP6'\n",
       "\\item 'POLB'\n",
       "\\item 'POLDIP3'\n",
       "\\item 'POLDIP2'\n",
       "\\item 'POLR2B'\n",
       "\\item 'POLR2E'\n",
       "\\item 'POLG'\n",
       "\\item 'POLRMT'\n",
       "\\item 'POLR1G'\n",
       "\\item 'POLR2J'\n",
       "\\item 'POLR1H'\n",
       "\\item 'POLD1'\n",
       "\\item 'POLR1B'\n",
       "\\item 'POLR2C'\n",
       "\\item 'POLR1C'\n",
       "\\item 'POLE'\n",
       "\\item 'POLR2A'\n",
       "\\item 'POLR3E'\n",
       "\\item 'POLM'\n",
       "\\item 'POLR1E'\n",
       "\\item 'POLH'\n",
       "\\item 'POLA1'\n",
       "\\item 'POLA2'\n",
       "\\item 'POLR2D'\n",
       "\\item 'RPAP3'\n",
       "\\item 'POLR2M'\n",
       "\\item 'POLG2'\n",
       "\\item 'POLE2'\n",
       "\\item 'POLD3'\n",
       "\\item 'POLR1A'\n",
       "\\item 'POLD4'\n",
       "\\item 'POLR3G'\n",
       "\\item 'POLR3K'\n",
       "\\item 'POLR1D'\n",
       "\\item 'POLR3A'\n",
       "\\item 'RPAP2'\n",
       "\\item 'POLD2'\n",
       "\\item 'RPAP1'\n",
       "\\item 'POLR3C'\n",
       "\\item 'POLE3'\n",
       "\\item 'POLQ'\n",
       "\\item 'POLR3F'\n",
       "\\item 'POLR3B'\n",
       "\\item 'POLK'\n",
       "\\item 'POLR3H'\n",
       "\\item 'POLI'\n",
       "\\item 'POLL'\n",
       "\\item 'POLR2F'\n",
       "\\item 'POLR2K'\n",
       "\\item 'POLE4'\n",
       "\\item 'POLR1F'\n",
       "\\item 'POLR2G'\n",
       "\\item 'POLR2H'\n",
       "\\item 'POLR2I'\n",
       "\\item 'POLR3D'\n",
       "\\item 'POLN'\n",
       "\\item 'POLR2J2'\n",
       "\\item 'POLR2J3'\n",
       "\\item 'POLR3GL'\n",
       "\\item 'POLR2MP1'\n",
       "\\item 'POLR1HASP'\n",
       "\\item 'POLR2J4'\n",
       "\\item 'POLH-AS1'\n",
       "\\item 'POLRMTP1'\n",
       "\\item 'POLD2P1'\n",
       "\\end{enumerate*}\n"
      ],
      "text/markdown": [
       "1. 'RPL12P2'\n",
       "2. 'RPL13AP2'\n",
       "3. 'RPL18AP3'\n",
       "4. 'RPL18P11'\n",
       "5. 'RPL23AP32'\n",
       "6. 'RPL23AP5'\n",
       "7. 'RPL23AP64'\n",
       "8. 'RPL27AP6'\n",
       "9. 'RPL29P11'\n",
       "10. 'RPL36A-HNRNPH2'\n",
       "11. 'RPL37AP8'\n",
       "12. 'RPL39P5'\n",
       "13. 'RPL4P5'\n",
       "14. 'RPL6P1'\n",
       "15. 'RPL7AP27'\n",
       "16. 'RPL7AP66'\n",
       "17. 'RPL9P8'\n",
       "18. 'RPLP0P2'\n",
       "19. 'RPLP0P6'\n",
       "20. 'RPP14'\n",
       "21. 'RPP21'\n",
       "22. 'RPP25L'\n",
       "23. 'RPP25'\n",
       "24. 'RPP30'\n",
       "25. 'RPP38'\n",
       "26. 'RPP40'\n",
       "27. 'RPS10-NUDT3'\n",
       "28. 'RPS10P5'\n",
       "29. 'RPS14P3'\n",
       "30. 'RPS15AP21'\n",
       "31. 'RPS15P2'\n",
       "32. 'RPS19BP1'\n",
       "33. 'RPS20P14'\n",
       "34. 'RPS26P11'\n",
       "35. 'RPS26P50'\n",
       "36. 'RPS2P32'\n",
       "37. 'RPS2P46'\n",
       "38. 'RPS2P5'\n",
       "39. 'RPS3P6'\n",
       "40. 'RPS3P7'\n",
       "41. 'RPS4XP17'\n",
       "42. 'RPS6KA1'\n",
       "43. 'RPS6KA2'\n",
       "44. 'RPS6KA3'\n",
       "45. 'RPS6KA4'\n",
       "46. 'RPS6KA5'\n",
       "47. 'RPS6KA6'\n",
       "48. 'RPS6KB1'\n",
       "49. 'RPS6KB2'\n",
       "50. 'RPS6KC1'\n",
       "51. 'RPS6KL1'\n",
       "52. 'RPSA2'\n",
       "53. 'RPSAP14'\n",
       "54. 'RPSAP15'\n",
       "55. 'RPSAP26'\n",
       "56. 'RPL12P1'\n",
       "57. 'RPL13AP5'\n",
       "58. 'RPPH1'\n",
       "59. 'RPS2P45'\n",
       "60. 'RPL34-DT'\n",
       "61. 'RPS7P4'\n",
       "62. 'RPS7P5'\n",
       "63. 'RPL29P30'\n",
       "64. 'RPL36AP37'\n",
       "65. 'RPL10P16'\n",
       "66. 'RPL13P12'\n",
       "67. 'RPL21P16'\n",
       "68. 'RPL21P19'\n",
       "69. 'RPL30P8'\n",
       "70. 'RPL7AP9'\n",
       "71. 'RPL7P32'\n",
       "72. 'RPS15AP25'\n",
       "73. 'RPS26P54'\n",
       "74. 'RPSAP55'\n",
       "75. 'RPL26P30'\n",
       "76. 'RPL32P18'\n",
       "77. 'RPL32P3'\n",
       "78. 'RPSAP52'\n",
       "79. 'RPL32P20'\n",
       "80. 'RPL36P14'\n",
       "81. 'RPS12P22'\n",
       "82. 'RPS12P23'\n",
       "83. 'RPS12P4'\n",
       "84. 'RPS25P6'\n",
       "85. 'RPS27P19'\n",
       "86. 'RPSAP19'\n",
       "87. 'RPSAP56'\n",
       "88. 'RPL21P68'\n",
       "89. 'RPL21P87'\n",
       "90. 'RPL23AP82'\n",
       "91. 'RPL29P2'\n",
       "92. 'RPLP0P1'\n",
       "93. 'RPS15AP10'\n",
       "94. 'RPL10P12'\n",
       "95. 'RPL21P44'\n",
       "96. 'RPL27P2'\n",
       "97. 'RPL29P15'\n",
       "98. 'RPS2P35'\n",
       "99. 'RPL13AP20'\n",
       "100. 'RPL13AP6'\n",
       "101. 'RPL21P28'\n",
       "102. 'RPL23AP7'\n",
       "103. 'RPL23AP87'\n",
       "104. 'RPLP2P3'\n",
       "105. 'RPS26P35'\n",
       "106. 'RPS27P29'\n",
       "107. 'RPL35P5'\n",
       "108. 'RPS18P5'\n",
       "109. 'RPL21P97'\n",
       "110. 'RPL23AP37'\n",
       "111. 'RPL13AP3'\n",
       "112. 'RPL12P14'\n",
       "113. 'RPL12P19'\n",
       "114. 'RPL12P32'\n",
       "115. 'RPL12P35'\n",
       "116. 'RPS10P11'\n",
       "117. 'RPS10P13'\n",
       "118. 'RPS10P22'\n",
       "119. 'RPS10P4'\n",
       "120. 'RPS10P7'\n",
       "121. 'RPS18P12'\n",
       "122. 'RPS25P8'\n",
       "123. 'RPSAP18'\n",
       "124. 'RPSAP29'\n",
       "125. 'RPSAP61'\n",
       "126. 'RPSAP8'\n",
       "127. 'RPSAP9'\n",
       "128. 'RPL23AP42'\n",
       "129. 'RPL24P4'\n",
       "130. 'RPL13AP17'\n",
       "131. 'RPL18P4'\n",
       "132. 'RPL15P11'\n",
       "133. 'RPL17P33'\n",
       "134. 'RPL17P50'\n",
       "135. 'RPL21P62'\n",
       "136. 'RPL26P11'\n",
       "137. 'RPL7AP36'\n",
       "138. 'RPS27AP17'\n",
       "139. 'RPS2P18'\n",
       "140. 'RPS2P28'\n",
       "141. 'RPSAP30'\n",
       "142. 'RPSAP47'\n",
       "143. 'RPL7P23'\n",
       "144. 'RPL3P4'\n",
       "145. 'RPL41P5'\n",
       "146. 'RPL6P27'\n",
       "147. 'RPL7AP6'\n",
       "148. 'RPL7P1'\n",
       "149. 'RPL7P9'\n",
       "150. 'RPS13P2'\n",
       "151. 'RPS28P7'\n",
       "152. 'RPL23AP53'\n",
       "153. 'RPS4XP21'\n",
       "154. 'RPS17P16'\n",
       "155. 'RPS15P5'\n",
       "156. 'RPL26P32'\n",
       "157. 'RPL7P26'\n",
       "158. 'RPL14P1'\n",
       "159. 'RPL23AP44'\n",
       "160. 'RPS24P9'\n",
       "161. 'RPS8P10'\n",
       "162. 'RPL36AP33'\n",
       "163. 'RPL10AP2'\n",
       "164. 'RPL10P9'\n",
       "165. 'RPL17P7'\n",
       "166. 'RPS3AP47'\n",
       "167. 'RPS16P5'\n",
       "168. 'RPS26P57'\n",
       "169. 'RPL10P7'\n",
       "170. 'RPL12P27'\n",
       "171. 'RPL23AP93'\n",
       "172. 'RPL7P24'\n",
       "173. 'RPL7P50'\n",
       "174. 'RPP38-DT'\n",
       "175. 'RPS26P21'\n",
       "176. 'RPS2P36'\n",
       "177. 'RPS7P12'\n",
       "178. 'RPL23P8'\n",
       "179. 'RPL5P29'\n",
       "180. 'RPSAP12'\n",
       "181. 'RPSAP28'\n",
       "182. 'RPSAP31'\n",
       "183. 'RPSAP3'\n",
       "184. 'RPS4XP3'\n",
       "185. 'RPL10P8'\n",
       "186. 'RPLP2P1'\n",
       "187. 'RPS4XP9'\n",
       "188. 'RPS4XP2'\n",
       "189. 'RPL22P11'\n",
       "190. 'RPS18P9'\n",
       "191. 'RPL10AP3'\n",
       "192. 'RPL21P131'\n",
       "193. 'RPS17P10'\n",
       "194. 'RPS10P2'\n",
       "195. 'RPS26P31'\n",
       "196. 'RPL31P46'\n",
       "197. 'RPL12P38'\n",
       "198. 'RPL13AP25'\n",
       "199. 'RPL21P110'\n",
       "200. 'RPL21P12'\n",
       "201. ⋯\n",
       "202. 'RPL3P2'\n",
       "203. 'RPL7AP11'\n",
       "204. 'RPL26L1-AS1'\n",
       "205. 'RPL7AP25'\n",
       "206. 'RPL7AP65'\n",
       "207. 'RPL19P12'\n",
       "208. 'RPL10AP6'\n",
       "209. 'RPL10P13'\n",
       "210. 'RPL10P6'\n",
       "211. 'RPL13AP16'\n",
       "212. 'RPL15P5'\n",
       "213. 'RPL17P18'\n",
       "214. 'RPL17P22'\n",
       "215. 'RPL17P36'\n",
       "216. 'RPL17P39'\n",
       "217. 'RPL17P8'\n",
       "218. 'RPL17P9'\n",
       "219. 'RPL18AP16'\n",
       "220. 'RPL18AP6'\n",
       "221. 'RPL21P105'\n",
       "222. 'RPL21P119'\n",
       "223. 'RPL21P125'\n",
       "224. 'RPL21P14'\n",
       "225. 'RPL21P20'\n",
       "226. 'RPL21P29'\n",
       "227. 'RPL21P37'\n",
       "228. 'RPL21P39'\n",
       "229. 'RPL21P45'\n",
       "230. 'RPL21P46'\n",
       "231. 'RPL21P53'\n",
       "232. 'RPL21P61'\n",
       "233. 'RPL21P80'\n",
       "234. 'RPL21P98'\n",
       "235. 'RPL23AP21'\n",
       "236. 'RPL23AP24'\n",
       "237. 'RPL23AP43'\n",
       "238. 'RPL23AP57'\n",
       "239. 'RPL23AP61'\n",
       "240. 'RPL23AP63'\n",
       "241. 'RPL23AP74'\n",
       "242. 'RPL26P12'\n",
       "243. 'RPL26P19'\n",
       "244. 'RPL26P33'\n",
       "245. 'RPL29P12'\n",
       "246. 'RPL29P6'\n",
       "247. 'RPL29P9'\n",
       "248. 'RPL31P17'\n",
       "249. 'RPL31P49'\n",
       "250. 'RPL35P2'\n",
       "251. 'RPL36AP49'\n",
       "252. 'RPL36P5'\n",
       "253. 'RPL39P32'\n",
       "254. 'RPL3P7'\n",
       "255. 'RPL4P2'\n",
       "256. 'RPL6P10'\n",
       "257. 'RPL6P19'\n",
       "258. 'RPL6P20'\n",
       "259. 'RPL7AP26'\n",
       "260. 'RPL7AP62'\n",
       "261. 'RPL7AP70'\n",
       "262. 'RPL9P18'\n",
       "263. 'RPL9P25'\n",
       "264. 'RPL9P32'\n",
       "265. 'RPLP1P4'\n",
       "266. 'RPS10P14'\n",
       "267. 'RPS10P9'\n",
       "268. 'RPS12P29'\n",
       "269. 'RPS15AP17'\n",
       "270. 'RPS15AP19'\n",
       "271. 'RPS15AP24'\n",
       "272. 'RPS15P1'\n",
       "273. 'RPS15P4'\n",
       "274. 'RPS16P10'\n",
       "275. 'RPS16P1'\n",
       "276. 'RPS23P8'\n",
       "277. 'RPS26P15'\n",
       "278. 'RPS26P25'\n",
       "279. 'RPS26P2'\n",
       "280. 'RPS26P55'\n",
       "281. 'RPS26P8'\n",
       "282. 'RPS27AP11'\n",
       "283. 'RPS27AP12'\n",
       "284. 'RPS27P13'\n",
       "285. 'RPS27P21'\n",
       "286. 'RPS27P23'\n",
       "287. 'RPS27P6'\n",
       "288. 'RPS28P4'\n",
       "289. 'RPS28P6'\n",
       "290. 'RPS29P10'\n",
       "291. 'RPS29P11'\n",
       "292. 'RPS29P14'\n",
       "293. 'RPS29P16'\n",
       "294. 'RPS29P17'\n",
       "295. 'RPS29P18'\n",
       "296. 'RPS29P3'\n",
       "297. 'RPS2P11'\n",
       "298. 'RPS2P17'\n",
       "299. 'RPS2P21'\n",
       "300. 'RPS2P29'\n",
       "301. 'RPS2P48'\n",
       "302. 'RPS2P51'\n",
       "303. 'RPS2P8'\n",
       "304. 'RPS3AP13'\n",
       "305. 'RPS3AP44'\n",
       "306. 'RPS3P3'\n",
       "307. 'RPS6P1'\n",
       "308. 'RPS7P11'\n",
       "309. 'RPS8P8'\n",
       "310. 'RPS9P4'\n",
       "311. 'RPSAP39'\n",
       "312. 'RPSAP46'\n",
       "313. 'RPSAP49'\n",
       "314. 'RPL13P5'\n",
       "315. 'RPL37P6'\n",
       "316. 'RPS17P5'\n",
       "317. 'RPL21P4'\n",
       "318. 'RPL23AP1'\n",
       "319. 'RPL7P22'\n",
       "320. 'RPL23AP97'\n",
       "321. 'RPL35AP26'\n",
       "322. 'RPL7P38'\n",
       "323. 'RPLP1P6'\n",
       "324. 'RPL7AP45'\n",
       "325. 'RPS6KA2-IT1'\n",
       "326. 'RPL12P18'\n",
       "327. 'RPL15P20'\n",
       "328. 'RPL23AP45'\n",
       "329. 'RPL36AP44'\n",
       "330. 'RPL39P10'\n",
       "331. 'RPS11P5'\n",
       "332. 'RPL13P8'\n",
       "333. 'RPL32P29'\n",
       "334. 'RPL7AP37'\n",
       "335. 'RPS3P2'\n",
       "336. 'RPL34P2'\n",
       "337. 'RPS3AP6'\n",
       "338. 'POLB'\n",
       "339. 'POLDIP3'\n",
       "340. 'POLDIP2'\n",
       "341. 'POLR2B'\n",
       "342. 'POLR2E'\n",
       "343. 'POLG'\n",
       "344. 'POLRMT'\n",
       "345. 'POLR1G'\n",
       "346. 'POLR2J'\n",
       "347. 'POLR1H'\n",
       "348. 'POLD1'\n",
       "349. 'POLR1B'\n",
       "350. 'POLR2C'\n",
       "351. 'POLR1C'\n",
       "352. 'POLE'\n",
       "353. 'POLR2A'\n",
       "354. 'POLR3E'\n",
       "355. 'POLM'\n",
       "356. 'POLR1E'\n",
       "357. 'POLH'\n",
       "358. 'POLA1'\n",
       "359. 'POLA2'\n",
       "360. 'POLR2D'\n",
       "361. 'RPAP3'\n",
       "362. 'POLR2M'\n",
       "363. 'POLG2'\n",
       "364. 'POLE2'\n",
       "365. 'POLD3'\n",
       "366. 'POLR1A'\n",
       "367. 'POLD4'\n",
       "368. 'POLR3G'\n",
       "369. 'POLR3K'\n",
       "370. 'POLR1D'\n",
       "371. 'POLR3A'\n",
       "372. 'RPAP2'\n",
       "373. 'POLD2'\n",
       "374. 'RPAP1'\n",
       "375. 'POLR3C'\n",
       "376. 'POLE3'\n",
       "377. 'POLQ'\n",
       "378. 'POLR3F'\n",
       "379. 'POLR3B'\n",
       "380. 'POLK'\n",
       "381. 'POLR3H'\n",
       "382. 'POLI'\n",
       "383. 'POLL'\n",
       "384. 'POLR2F'\n",
       "385. 'POLR2K'\n",
       "386. 'POLE4'\n",
       "387. 'POLR1F'\n",
       "388. 'POLR2G'\n",
       "389. 'POLR2H'\n",
       "390. 'POLR2I'\n",
       "391. 'POLR3D'\n",
       "392. 'POLN'\n",
       "393. 'POLR2J2'\n",
       "394. 'POLR2J3'\n",
       "395. 'POLR3GL'\n",
       "396. 'POLR2MP1'\n",
       "397. 'POLR1HASP'\n",
       "398. 'POLR2J4'\n",
       "399. 'POLH-AS1'\n",
       "400. 'POLRMTP1'\n",
       "401. 'POLD2P1'\n",
       "\n",
       "\n"
      ],
      "text/plain": [
       "  [1] \"RPL12P2\"        \"RPL13AP2\"       \"RPL18AP3\"       \"RPL18P11\"      \n",
       "  [5] \"RPL23AP32\"      \"RPL23AP5\"       \"RPL23AP64\"      \"RPL27AP6\"      \n",
       "  [9] \"RPL29P11\"       \"RPL36A-HNRNPH2\" \"RPL37AP8\"       \"RPL39P5\"       \n",
       " [13] \"RPL4P5\"         \"RPL6P1\"         \"RPL7AP27\"       \"RPL7AP66\"      \n",
       " [17] \"RPL9P8\"         \"RPLP0P2\"        \"RPLP0P6\"        \"RPP14\"         \n",
       " [21] \"RPP21\"          \"RPP25L\"         \"RPP25\"          \"RPP30\"         \n",
       " [25] \"RPP38\"          \"RPP40\"          \"RPS10-NUDT3\"    \"RPS10P5\"       \n",
       " [29] \"RPS14P3\"        \"RPS15AP21\"      \"RPS15P2\"        \"RPS19BP1\"      \n",
       " [33] \"RPS20P14\"       \"RPS26P11\"       \"RPS26P50\"       \"RPS2P32\"       \n",
       " [37] \"RPS2P46\"        \"RPS2P5\"         \"RPS3P6\"         \"RPS3P7\"        \n",
       " [41] \"RPS4XP17\"       \"RPS6KA1\"        \"RPS6KA2\"        \"RPS6KA3\"       \n",
       " [45] \"RPS6KA4\"        \"RPS6KA5\"        \"RPS6KA6\"        \"RPS6KB1\"       \n",
       " [49] \"RPS6KB2\"        \"RPS6KC1\"        \"RPS6KL1\"        \"RPSA2\"         \n",
       " [53] \"RPSAP14\"        \"RPSAP15\"        \"RPSAP26\"        \"RPL12P1\"       \n",
       " [57] \"RPL13AP5\"       \"RPPH1\"          \"RPS2P45\"        \"RPL34-DT\"      \n",
       " [61] \"RPS7P4\"         \"RPS7P5\"         \"RPL29P30\"       \"RPL36AP37\"     \n",
       " [65] \"RPL10P16\"       \"RPL13P12\"       \"RPL21P16\"       \"RPL21P19\"      \n",
       " [69] \"RPL30P8\"        \"RPL7AP9\"        \"RPL7P32\"        \"RPS15AP25\"     \n",
       " [73] \"RPS26P54\"       \"RPSAP55\"        \"RPL26P30\"       \"RPL32P18\"      \n",
       " [77] \"RPL32P3\"        \"RPSAP52\"        \"RPL32P20\"       \"RPL36P14\"      \n",
       " [81] \"RPS12P22\"       \"RPS12P23\"       \"RPS12P4\"        \"RPS25P6\"       \n",
       " [85] \"RPS27P19\"       \"RPSAP19\"        \"RPSAP56\"        \"RPL21P68\"      \n",
       " [89] \"RPL21P87\"       \"RPL23AP82\"      \"RPL29P2\"        \"RPLP0P1\"       \n",
       " [93] \"RPS15AP10\"      \"RPL10P12\"       \"RPL21P44\"       \"RPL27P2\"       \n",
       " [97] \"RPL29P15\"       \"RPS2P35\"        \"RPL13AP20\"      \"RPL13AP6\"      \n",
       "[101] \"RPL21P28\"       \"RPL23AP7\"       \"RPL23AP87\"      \"RPLP2P3\"       \n",
       "[105] \"RPS26P35\"       \"RPS27P29\"       \"RPL35P5\"        \"RPS18P5\"       \n",
       "[109] \"RPL21P97\"       \"RPL23AP37\"      \"RPL13AP3\"       \"RPL12P14\"      \n",
       "[113] \"RPL12P19\"       \"RPL12P32\"       \"RPL12P35\"       \"RPS10P11\"      \n",
       "[117] \"RPS10P13\"       \"RPS10P22\"       \"RPS10P4\"        \"RPS10P7\"       \n",
       "[121] \"RPS18P12\"       \"RPS25P8\"        \"RPSAP18\"        \"RPSAP29\"       \n",
       "[125] \"RPSAP61\"        \"RPSAP8\"         \"RPSAP9\"         \"RPL23AP42\"     \n",
       "[129] \"RPL24P4\"        \"RPL13AP17\"      \"RPL18P4\"        \"RPL15P11\"      \n",
       "[133] \"RPL17P33\"       \"RPL17P50\"       \"RPL21P62\"       \"RPL26P11\"      \n",
       "[137] \"RPL7AP36\"       \"RPS27AP17\"      \"RPS2P18\"        \"RPS2P28\"       \n",
       "[141] \"RPSAP30\"        \"RPSAP47\"        \"RPL7P23\"        \"RPL3P4\"        \n",
       "[145] \"RPL41P5\"        \"RPL6P27\"        \"RPL7AP6\"        \"RPL7P1\"        \n",
       "[149] \"RPL7P9\"         \"RPS13P2\"        \"RPS28P7\"        \"RPL23AP53\"     \n",
       "[153] \"RPS4XP21\"       \"RPS17P16\"       \"RPS15P5\"        \"RPL26P32\"      \n",
       "[157] \"RPL7P26\"        \"RPL14P1\"        \"RPL23AP44\"      \"RPS24P9\"       \n",
       "[161] \"RPS8P10\"        \"RPL36AP33\"      \"RPL10AP2\"       \"RPL10P9\"       \n",
       "[165] \"RPL17P7\"        \"RPS3AP47\"       \"RPS16P5\"        \"RPS26P57\"      \n",
       "[169] \"RPL10P7\"        \"RPL12P27\"       \"RPL23AP93\"      \"RPL7P24\"       \n",
       "[173] \"RPL7P50\"        \"RPP38-DT\"       \"RPS26P21\"       \"RPS2P36\"       \n",
       "[177] \"RPS7P12\"        \"RPL23P8\"        \"RPL5P29\"        \"RPSAP12\"       \n",
       "[181] \"RPSAP28\"        \"RPSAP31\"        \"RPSAP3\"         \"RPS4XP3\"       \n",
       "[185] \"RPL10P8\"        \"RPLP2P1\"        \"RPS4XP9\"        \"RPS4XP2\"       \n",
       "[189] \"RPL22P11\"       \"RPS18P9\"        \"RPL10AP3\"       \"RPL21P131\"     \n",
       "[193] \"RPS17P10\"       \"RPS10P2\"        \"RPS26P31\"       \"RPL31P46\"      \n",
       "[197] \"RPL12P38\"       \"RPL13AP25\"      \"RPL21P110\"      \"RPL21P12\"      \n",
       "[201] \"RPL21P13\"       \"RPL23AP52\"      \"RPL26P6\"        \"RPL27AP\"       \n",
       "[205] \"RPL5P30\"        \"RPL7P4\"         \"RPS12P26\"       \"RPS4XP16\"      \n",
       "[209] \"RPS4XP1\"        \"RPL11P1\"        \"RPL23AP49\"      \"RPL32P27\"      \n",
       "[213] \"RPL15P17\"       \"RPL19P9\"        \"RPL23P6\"        \"RPL7P59\"       \n",
       "[217] \"RPLP0P10\"       \"RPLP0P5\"        \"RPS29P9\"        \"RPS2P20\"       \n",
       "[221] \"RPS3AP25\"       \"RPL11P3\"        \"RPL31P44\"       \"RPL41P1\"       \n",
       "[225] \"RPL4P6\"         \"RPL5P17\"        \"RPL7AP34\"       \"RPL7AP8\"       \n",
       "[229] \"RPL7P16\"        \"RPS6KB2-AS1\"    \"RPS6P25\"        \"RPL13AP7\"      \n",
       "[233] \"RPL26P36\"       \"RPL27P8\"        \"RPL28P5\"        \"RPS15AP11\"     \n",
       "[237] \"RPS2P40\"        \"RPS2P9\"         \"RPS8P7\"         \"RPL18P13\"      \n",
       "[241] \"RPL31P11\"       \"RPL39P40\"       \"RPL5P12\"        \"RPL7AP10\"      \n",
       "[245] \"RPL7L1P3\"       \"RPL9P11\"        \"RPS2P37\"        \"RPS27P25\"      \n",
       "[249] \"RPL15P3\"        \"RPL17P34\"       \"RPL23AP65\"      \"RPL35P1\"       \n",
       "[253] \"RPL5P23\"        \"RPL7AP30\"       \"RPS15AP12\"      \"RPS15AP1\"      \n",
       "[257] \"RPS2P55\"        \"RPS3AP38\"       \"RPS4XP11\"       \"RPS4XP14\"      \n",
       "[261] \"RPS4XP6\"        \"RPL10P15\"       \"RPL23AP92\"      \"RPL34P34\"      \n",
       "[265] \"RPS7P1\"         \"RPL23AP15\"      \"RPS20P22\"       \"RPL22P1\"       \n",
       "[269] \"RPL3P2\"         \"RPL7AP11\"       \"RPL26L1-AS1\"    \"RPL7AP25\"      \n",
       "[273] \"RPL7AP65\"       \"RPL19P12\"       \"RPL10AP6\"       \"RPL10P13\"      \n",
       "[277] \"RPL10P6\"        \"RPL13AP16\"      \"RPL15P5\"        \"RPL17P18\"      \n",
       "[281] \"RPL17P22\"       \"RPL17P36\"       \"RPL17P39\"       \"RPL17P8\"       \n",
       "[285] \"RPL17P9\"        \"RPL18AP16\"      \"RPL18AP6\"       \"RPL21P105\"     \n",
       "[289] \"RPL21P119\"      \"RPL21P125\"      \"RPL21P14\"       \"RPL21P20\"      \n",
       "[293] \"RPL21P29\"       \"RPL21P37\"       \"RPL21P39\"       \"RPL21P45\"      \n",
       "[297] \"RPL21P46\"       \"RPL21P53\"       \"RPL21P61\"       \"RPL21P80\"      \n",
       "[301] \"RPL21P98\"       \"RPL23AP21\"      \"RPL23AP24\"      \"RPL23AP43\"     \n",
       "[305] \"RPL23AP57\"      \"RPL23AP61\"      \"RPL23AP63\"      \"RPL23AP74\"     \n",
       "[309] \"RPL26P12\"       \"RPL26P19\"       \"RPL26P33\"       \"RPL29P12\"      \n",
       "[313] \"RPL29P6\"        \"RPL29P9\"        \"RPL31P17\"       \"RPL31P49\"      \n",
       "[317] \"RPL35P2\"        \"RPL36AP49\"      \"RPL36P5\"        \"RPL39P32\"      \n",
       "[321] \"RPL3P7\"         \"RPL4P2\"         \"RPL6P10\"        \"RPL6P19\"       \n",
       "[325] \"RPL6P20\"        \"RPL7AP26\"       \"RPL7AP62\"       \"RPL7AP70\"      \n",
       "[329] \"RPL9P18\"        \"RPL9P25\"        \"RPL9P32\"        \"RPLP1P4\"       \n",
       "[333] \"RPS10P14\"       \"RPS10P9\"        \"RPS12P29\"       \"RPS15AP17\"     \n",
       "[337] \"RPS15AP19\"      \"RPS15AP24\"      \"RPS15P1\"        \"RPS15P4\"       \n",
       "[341] \"RPS16P10\"       \"RPS16P1\"        \"RPS23P8\"        \"RPS26P15\"      \n",
       "[345] \"RPS26P25\"       \"RPS26P2\"        \"RPS26P55\"       \"RPS26P8\"       \n",
       "[349] \"RPS27AP11\"      \"RPS27AP12\"      \"RPS27P13\"       \"RPS27P21\"      \n",
       "[353] \"RPS27P23\"       \"RPS27P6\"        \"RPS28P4\"        \"RPS28P6\"       \n",
       "[357] \"RPS29P10\"       \"RPS29P11\"       \"RPS29P14\"       \"RPS29P16\"      \n",
       "[361] \"RPS29P17\"       \"RPS29P18\"       \"RPS29P3\"        \"RPS2P11\"       \n",
       "[365] \"RPS2P17\"        \"RPS2P21\"        \"RPS2P29\"        \"RPS2P48\"       \n",
       "[369] \"RPS2P51\"        \"RPS2P8\"         \"RPS3AP13\"       \"RPS3AP44\"      \n",
       "[373] \"RPS3P3\"         \"RPS6P1\"         \"RPS7P11\"        \"RPS8P8\"        \n",
       "[377] \"RPS9P4\"         \"RPSAP39\"        \"RPSAP46\"        \"RPSAP49\"       \n",
       "[381] \"RPL13P5\"        \"RPL37P6\"        \"RPS17P5\"        \"RPL21P4\"       \n",
       "[385] \"RPL23AP1\"       \"RPL7P22\"        \"RPL23AP97\"      \"RPL35AP26\"     \n",
       "[389] \"RPL7P38\"        \"RPLP1P6\"        \"RPL7AP45\"       \"RPS6KA2-IT1\"   \n",
       "[393] \"RPL12P18\"       \"RPL15P20\"       \"RPL23AP45\"      \"RPL36AP44\"     \n",
       "[397] \"RPL39P10\"       \"RPS11P5\"        \"RPL13P8\"        \"RPL32P29\"      \n",
       "[401] \"RPL7AP37\"       \"RPS3P2\"         \"RPL34P2\"        \"RPS3AP6\"       \n",
       "[405] \"POLB\"           \"POLDIP3\"        \"POLDIP2\"        \"POLR2B\"        \n",
       "[409] \"POLR2E\"         \"POLG\"           \"POLRMT\"         \"POLR1G\"        \n",
       "[413] \"POLR2J\"         \"POLR1H\"         \"POLD1\"          \"POLR1B\"        \n",
       "[417] \"POLR2C\"         \"POLR1C\"         \"POLE\"           \"POLR2A\"        \n",
       "[421] \"POLR3E\"         \"POLM\"           \"POLR1E\"         \"POLH\"          \n",
       "[425] \"POLA1\"          \"POLA2\"          \"POLR2D\"         \"RPAP3\"         \n",
       "[429] \"POLR2M\"         \"POLG2\"          \"POLE2\"          \"POLD3\"         \n",
       "[433] \"POLR1A\"         \"POLD4\"          \"POLR3G\"         \"POLR3K\"        \n",
       "[437] \"POLR1D\"         \"POLR3A\"         \"RPAP2\"          \"POLD2\"         \n",
       "[441] \"RPAP1\"          \"POLR3C\"         \"POLE3\"          \"POLQ\"          \n",
       "[445] \"POLR3F\"         \"POLR3B\"         \"POLK\"           \"POLR3H\"        \n",
       "[449] \"POLI\"           \"POLL\"           \"POLR2F\"         \"POLR2K\"        \n",
       "[453] \"POLE4\"          \"POLR1F\"         \"POLR2G\"         \"POLR2H\"        \n",
       "[457] \"POLR2I\"         \"POLR3D\"         \"POLN\"           \"POLR2J2\"       \n",
       "[461] \"POLR2J3\"        \"POLR3GL\"        \"POLR2MP1\"       \"POLR1HASP\"     \n",
       "[465] \"POLR2J4\"        \"POLH-AS1\"       \"POLRMTP1\"       \"POLD2P1\"       "
      ]
     },
     "metadata": {},
     "output_type": "display_data"
    },
    {
     "data": {
      "text/html": [
       "468"
      ],
      "text/latex": [
       "468"
      ],
      "text/markdown": [
       "468"
      ],
      "text/plain": [
       "[1] 468"
      ]
     },
     "metadata": {},
     "output_type": "display_data"
    },
    {
     "data": {
      "text/html": [
       "2008231"
      ],
      "text/latex": [
       "2008231"
      ],
      "text/markdown": [
       "2008231"
      ],
      "text/plain": [
       "[1] 2008231"
      ]
     },
     "metadata": {},
     "output_type": "display_data"
    },
    {
     "name": "stdout",
     "output_type": "stream",
     "text": [
      "\n",
      "# Pairs lost due to polymerase genes: 13148"
     ]
    }
   ],
   "source": [
    "# Polymerase genes\n",
    "old = nrow(pc_hgnc)\n",
    "rnapol_genes = unique(pc_hgnc$PARTICIPANT_A[grep(\"^RPAP|^POL\", pc_hgnc$PARTICIPANT_A)])\n",
    "rnapol_genes = union(rem_rib_genes, \n",
    "                      unique(pc_hgnc$PARTICIPANT_B[grep(\"^RPAP|^POL\", pc_hgnc$PARTICIPANT_B)]))\n",
    "rnapol_genes\n",
    "length(rnapol_genes)\n",
    "pc_hgnc <- pc_hgnc[!pc_hgnc$PARTICIPANT_A %in% rnapol_genes,]\n",
    "pc_hgnc <- pc_hgnc[!pc_hgnc$PARTICIPANT_B %in% rnapol_genes,]\n",
    "nrow(pc_hgnc)\n",
    "\n",
    "cat(\"\\n# Pairs lost due to polymerase genes:\", old-nrow(pc_hgnc))"
   ]
  },
  {
   "cell_type": "markdown",
   "id": "adab29a1-aa9f-4b33-8b2f-12466c0b71a6",
   "metadata": {},
   "source": [
    "## 3. Exclude pairs within 50kb of each other and in MHC complex"
   ]
  },
  {
   "cell_type": "markdown",
   "id": "216ef4c5-d9d5-4c2d-adbc-e73b133e97c4",
   "metadata": {},
   "source": [
    "### A. Get the hg38 based loci (using same input as MAGMA)"
   ]
  },
  {
   "cell_type": "code",
   "execution_count": 8,
   "id": "c08e4b5f-3adb-4740-9424-de255ce17af3",
   "metadata": {},
   "outputs": [
    {
     "data": {
      "text/html": [
       "<table class=\"dataframe\">\n",
       "<caption>A data.table: 2 × 6</caption>\n",
       "<thead>\n",
       "\t<tr><th scope=col>V1</th><th scope=col>V2</th><th scope=col>V3</th><th scope=col>V4</th><th scope=col>V5</th><th scope=col>V6</th></tr>\n",
       "\t<tr><th scope=col>&lt;int&gt;</th><th scope=col>&lt;chr&gt;</th><th scope=col>&lt;int&gt;</th><th scope=col>&lt;int&gt;</th><th scope=col>&lt;chr&gt;</th><th scope=col>&lt;chr&gt;</th></tr>\n",
       "</thead>\n",
       "<tbody>\n",
       "\t<tr><td>    79501</td><td>1</td><td> 69091</td><td> 70008</td><td>+</td><td>OR4F5       </td></tr>\n",
       "\t<tr><td>100996442</td><td>1</td><td>141934</td><td>174394</td><td>-</td><td>LOC100996442</td></tr>\n",
       "</tbody>\n",
       "</table>\n"
      ],
      "text/latex": [
       "A data.table: 2 × 6\n",
       "\\begin{tabular}{llllll}\n",
       " V1 & V2 & V3 & V4 & V5 & V6\\\\\n",
       " <int> & <chr> & <int> & <int> & <chr> & <chr>\\\\\n",
       "\\hline\n",
       "\t     79501 & 1 &  69091 &  70008 & + & OR4F5       \\\\\n",
       "\t 100996442 & 1 & 141934 & 174394 & - & LOC100996442\\\\\n",
       "\\end{tabular}\n"
      ],
      "text/markdown": [
       "\n",
       "A data.table: 2 × 6\n",
       "\n",
       "| V1 &lt;int&gt; | V2 &lt;chr&gt; | V3 &lt;int&gt; | V4 &lt;int&gt; | V5 &lt;chr&gt; | V6 &lt;chr&gt; |\n",
       "|---|---|---|---|---|---|\n",
       "|     79501 | 1 |  69091 |  70008 | + | OR4F5        |\n",
       "| 100996442 | 1 | 141934 | 174394 | - | LOC100996442 |\n",
       "\n"
      ],
      "text/plain": [
       "  V1        V2 V3     V4     V5 V6          \n",
       "1     79501 1   69091  70008 +  OR4F5       \n",
       "2 100996442 1  141934 174394 -  LOC100996442"
      ]
     },
     "metadata": {},
     "output_type": "display_data"
    }
   ],
   "source": [
    "loci <- fread(\"~/Desktop/SC_GWAS_Bench/data/MAGMA/NCBI38/NCBI38.gene.loc\")\n",
    "loci[1:2,]"
   ]
  },
  {
   "cell_type": "code",
   "execution_count": 9,
   "id": "330b9a9b-d303-4dbd-9cb5-a47b6bb0e6f8",
   "metadata": {},
   "outputs": [
    {
     "data": {
      "text/html": [
       "<style>\n",
       ".list-inline {list-style: none; margin:0; padding: 0}\n",
       ".list-inline>li {display: inline-block}\n",
       ".list-inline>li:not(:last-child)::after {content: \"\\00b7\"; padding: 0 .5ex}\n",
       "</style>\n",
       "<ol class=list-inline><li>1136672</li><li>7</li></ol>\n"
      ],
      "text/latex": [
       "\\begin{enumerate*}\n",
       "\\item 1136672\n",
       "\\item 7\n",
       "\\end{enumerate*}\n"
      ],
      "text/markdown": [
       "1. 1136672\n",
       "2. 7\n",
       "\n",
       "\n"
      ],
      "text/plain": [
       "[1] 1136672       7"
      ]
     },
     "metadata": {},
     "output_type": "display_data"
    },
    {
     "name": "stdout",
     "output_type": "stream",
     "text": [
      "\n",
      "# Pairs lost due to not being in MAGMA loci: 871559"
     ]
    }
   ],
   "source": [
    "# see which ones can be kept cuz MAGMA equivalent\n",
    "old = nrow(pc_hgnc)\n",
    "pc_hgnc_magma <- pc_hgnc[pc_hgnc$PARTICIPANT_A %in% loci$V6 & pc_hgnc$PARTICIPANT_B %in% loci$V6,]\n",
    "dim(pc_hgnc_magma)\n",
    "\n",
    "loci_partA = loci[loci$V6 %in% pc_hgnc$PARTICIPANT_A,]\n",
    "loci_partA = loci_partA[order(loci_partA$V6),]\n",
    "colnames(loci_partA) = c(\"Orig_Name\", \"A_Chrom\", \"A_Start\", \"A_End\", \"Strand\", \"A_Gene\")\n",
    "\n",
    "loci_partB = loci[loci$V6 %in% pc_hgnc$PARTICIPANT_B,]\n",
    "loci_partB = loci_partB[order(loci_partB$V6),]\n",
    "colnames(loci_partB) = c(\"Orig_Name\", \"B_Chrom\", \"B_Start\", \"B_End\", \"Strand\", \"B_Gene\")\n",
    "cat(\"\\n# Pairs lost due to not being in MAGMA loci:\", old-nrow(pc_hgnc_magma))"
   ]
  },
  {
   "cell_type": "code",
   "execution_count": 10,
   "id": "6855d882-571b-4e84-897e-d46822c5d070",
   "metadata": {},
   "outputs": [
    {
     "data": {
      "text/html": [
       "<table class=\"dataframe\">\n",
       "<caption>A data.table: 0 × 6</caption>\n",
       "<thead>\n",
       "\t<tr><th scope=col>Orig_Name</th><th scope=col>A_Chrom</th><th scope=col>A_Start</th><th scope=col>A_End</th><th scope=col>Strand</th><th scope=col>A_Gene</th></tr>\n",
       "\t<tr><th scope=col>&lt;int&gt;</th><th scope=col>&lt;chr&gt;</th><th scope=col>&lt;int&gt;</th><th scope=col>&lt;int&gt;</th><th scope=col>&lt;chr&gt;</th><th scope=col>&lt;chr&gt;</th></tr>\n",
       "</thead>\n",
       "<tbody>\n",
       "</tbody>\n",
       "</table>\n"
      ],
      "text/latex": [
       "A data.table: 0 × 6\n",
       "\\begin{tabular}{llllll}\n",
       " Orig\\_Name & A\\_Chrom & A\\_Start & A\\_End & Strand & A\\_Gene\\\\\n",
       " <int> & <chr> & <int> & <int> & <chr> & <chr>\\\\\n",
       "\\hline\n",
       "\\end{tabular}\n"
      ],
      "text/markdown": [
       "\n",
       "A data.table: 0 × 6\n",
       "\n",
       "| Orig_Name &lt;int&gt; | A_Chrom &lt;chr&gt; | A_Start &lt;int&gt; | A_End &lt;int&gt; | Strand &lt;chr&gt; | A_Gene &lt;chr&gt; |\n",
       "|---|---|---|---|---|---|\n",
       "\n"
      ],
      "text/plain": [
       "     Orig_Name A_Chrom A_Start A_End Strand A_Gene"
      ]
     },
     "metadata": {},
     "output_type": "display_data"
    },
    {
     "data": {
      "text/html": [
       "<table class=\"dataframe\">\n",
       "<caption>A data.table: 3 × 13</caption>\n",
       "<thead>\n",
       "\t<tr><th scope=col>PARTICIPANT_B</th><th scope=col>PARTICIPANT_A</th><th scope=col>INTERACTION_TYPE</th><th scope=col>INTERACTION_DATA_SOURCE</th><th scope=col>INTERACTION_PUBMED_ID</th><th scope=col>PATHWAY_NAMES</th><th scope=col>MEDIATOR_IDS</th><th scope=col>A_Chrom</th><th scope=col>A_Start</th><th scope=col>A_End</th><th scope=col>B_Chrom</th><th scope=col>B_Start</th><th scope=col>B_End</th></tr>\n",
       "\t<tr><th scope=col>&lt;chr&gt;</th><th scope=col>&lt;chr&gt;</th><th scope=col>&lt;chr&gt;</th><th scope=col>&lt;chr&gt;</th><th scope=col>&lt;chr&gt;</th><th scope=col>&lt;chr&gt;</th><th scope=col>&lt;chr&gt;</th><th scope=col>&lt;chr&gt;</th><th scope=col>&lt;int&gt;</th><th scope=col>&lt;int&gt;</th><th scope=col>&lt;chr&gt;</th><th scope=col>&lt;int&gt;</th><th scope=col>&lt;int&gt;</th></tr>\n",
       "</thead>\n",
       "<tbody>\n",
       "\t<tr><td>A1BG</td><td>ABCG2</td><td>controls-state-change-of</td><td>CTD</td><td>23896426;37660740                                                                                 </td><td></td><td>ctdbase:chemical_mesh_d002104;ctdbase:ABU_MESH_D002104;ctdbase:B_4750700;ctdbase:RXN_8494535                                                                                                                        </td><td>4 </td><td>88090264</td><td>88231417</td><td>19</td><td>58346806</td><td>58353499</td></tr>\n",
       "\t<tr><td>A1BG</td><td>ATP7A</td><td>controls-state-change-of</td><td>CTD</td><td>11350187;14985339;15467011;15923132;21336677;23345593;23776592;23896426;24522273;25247420;32278528</td><td></td><td>ctdbase:REC_6713796;ctdbase:ABU_3770939;ctdbase:ABU_3792340;ctdbase:UPT_6713802;ctdbase:ABU_3770941;ctdbase:chemical_mesh_d003300;ctdbase:ABU_4940882;ctdbase:ABU_MESH_D003300;ctdbase:B_4750526;ctdbase:ABU_3727198</td><td>X </td><td>77910656</td><td>78050395</td><td>19</td><td>58346806</td><td>58353499</td></tr>\n",
       "\t<tr><td>A1BG</td><td>ATP7B</td><td>controls-state-change-of</td><td>CTD</td><td>16549536;23896426;24368744;24522273;32278528                                                      </td><td></td><td>ctdbase:ABU_4773668;ctdbase:ABU_4772080;ctdbase:ABU_3767626;ctdbase:ABU_4773673;ctdbase:ABU_4773671;ctdbase:UPT_6713798;ctdbase:chemical_mesh_d003300;ctdbase:ABU_MESH_D003300;ctdbase:REC_6713792;ctdbase:B_4750526</td><td>13</td><td>51891086</td><td>52012099</td><td>19</td><td>58346806</td><td>58353499</td></tr>\n",
       "</tbody>\n",
       "</table>\n"
      ],
      "text/latex": [
       "A data.table: 3 × 13\n",
       "\\begin{tabular}{lllllllllllll}\n",
       " PARTICIPANT\\_B & PARTICIPANT\\_A & INTERACTION\\_TYPE & INTERACTION\\_DATA\\_SOURCE & INTERACTION\\_PUBMED\\_ID & PATHWAY\\_NAMES & MEDIATOR\\_IDS & A\\_Chrom & A\\_Start & A\\_End & B\\_Chrom & B\\_Start & B\\_End\\\\\n",
       " <chr> & <chr> & <chr> & <chr> & <chr> & <chr> & <chr> & <chr> & <int> & <int> & <chr> & <int> & <int>\\\\\n",
       "\\hline\n",
       "\t A1BG & ABCG2 & controls-state-change-of & CTD & 23896426;37660740                                                                                  &  & ctdbase:chemical\\_mesh\\_d002104;ctdbase:ABU\\_MESH\\_D002104;ctdbase:B\\_4750700;ctdbase:RXN\\_8494535                                                                                                                         & 4  & 88090264 & 88231417 & 19 & 58346806 & 58353499\\\\\n",
       "\t A1BG & ATP7A & controls-state-change-of & CTD & 11350187;14985339;15467011;15923132;21336677;23345593;23776592;23896426;24522273;25247420;32278528 &  & ctdbase:REC\\_6713796;ctdbase:ABU\\_3770939;ctdbase:ABU\\_3792340;ctdbase:UPT\\_6713802;ctdbase:ABU\\_3770941;ctdbase:chemical\\_mesh\\_d003300;ctdbase:ABU\\_4940882;ctdbase:ABU\\_MESH\\_D003300;ctdbase:B\\_4750526;ctdbase:ABU\\_3727198 & X  & 77910656 & 78050395 & 19 & 58346806 & 58353499\\\\\n",
       "\t A1BG & ATP7B & controls-state-change-of & CTD & 16549536;23896426;24368744;24522273;32278528                                                       &  & ctdbase:ABU\\_4773668;ctdbase:ABU\\_4772080;ctdbase:ABU\\_3767626;ctdbase:ABU\\_4773673;ctdbase:ABU\\_4773671;ctdbase:UPT\\_6713798;ctdbase:chemical\\_mesh\\_d003300;ctdbase:ABU\\_MESH\\_D003300;ctdbase:REC\\_6713792;ctdbase:B\\_4750526 & 13 & 51891086 & 52012099 & 19 & 58346806 & 58353499\\\\\n",
       "\\end{tabular}\n"
      ],
      "text/markdown": [
       "\n",
       "A data.table: 3 × 13\n",
       "\n",
       "| PARTICIPANT_B &lt;chr&gt; | PARTICIPANT_A &lt;chr&gt; | INTERACTION_TYPE &lt;chr&gt; | INTERACTION_DATA_SOURCE &lt;chr&gt; | INTERACTION_PUBMED_ID &lt;chr&gt; | PATHWAY_NAMES &lt;chr&gt; | MEDIATOR_IDS &lt;chr&gt; | A_Chrom &lt;chr&gt; | A_Start &lt;int&gt; | A_End &lt;int&gt; | B_Chrom &lt;chr&gt; | B_Start &lt;int&gt; | B_End &lt;int&gt; |\n",
       "|---|---|---|---|---|---|---|---|---|---|---|---|---|\n",
       "| A1BG | ABCG2 | controls-state-change-of | CTD | 23896426;37660740                                                                                  | <!----> | ctdbase:chemical_mesh_d002104;ctdbase:ABU_MESH_D002104;ctdbase:B_4750700;ctdbase:RXN_8494535                                                                                                                         | 4  | 88090264 | 88231417 | 19 | 58346806 | 58353499 |\n",
       "| A1BG | ATP7A | controls-state-change-of | CTD | 11350187;14985339;15467011;15923132;21336677;23345593;23776592;23896426;24522273;25247420;32278528 | <!----> | ctdbase:REC_6713796;ctdbase:ABU_3770939;ctdbase:ABU_3792340;ctdbase:UPT_6713802;ctdbase:ABU_3770941;ctdbase:chemical_mesh_d003300;ctdbase:ABU_4940882;ctdbase:ABU_MESH_D003300;ctdbase:B_4750526;ctdbase:ABU_3727198 | X  | 77910656 | 78050395 | 19 | 58346806 | 58353499 |\n",
       "| A1BG | ATP7B | controls-state-change-of | CTD | 16549536;23896426;24368744;24522273;32278528                                                       | <!----> | ctdbase:ABU_4773668;ctdbase:ABU_4772080;ctdbase:ABU_3767626;ctdbase:ABU_4773673;ctdbase:ABU_4773671;ctdbase:UPT_6713798;ctdbase:chemical_mesh_d003300;ctdbase:ABU_MESH_D003300;ctdbase:REC_6713792;ctdbase:B_4750526 | 13 | 51891086 | 52012099 | 19 | 58346806 | 58353499 |\n",
       "\n"
      ],
      "text/plain": [
       "  PARTICIPANT_B PARTICIPANT_A INTERACTION_TYPE         INTERACTION_DATA_SOURCE\n",
       "1 A1BG          ABCG2         controls-state-change-of CTD                    \n",
       "2 A1BG          ATP7A         controls-state-change-of CTD                    \n",
       "3 A1BG          ATP7B         controls-state-change-of CTD                    \n",
       "  INTERACTION_PUBMED_ID                                                                             \n",
       "1 23896426;37660740                                                                                 \n",
       "2 11350187;14985339;15467011;15923132;21336677;23345593;23776592;23896426;24522273;25247420;32278528\n",
       "3 16549536;23896426;24368744;24522273;32278528                                                      \n",
       "  PATHWAY_NAMES\n",
       "1              \n",
       "2              \n",
       "3              \n",
       "  MEDIATOR_IDS                                                                                                                                                                                                        \n",
       "1 ctdbase:chemical_mesh_d002104;ctdbase:ABU_MESH_D002104;ctdbase:B_4750700;ctdbase:RXN_8494535                                                                                                                        \n",
       "2 ctdbase:REC_6713796;ctdbase:ABU_3770939;ctdbase:ABU_3792340;ctdbase:UPT_6713802;ctdbase:ABU_3770941;ctdbase:chemical_mesh_d003300;ctdbase:ABU_4940882;ctdbase:ABU_MESH_D003300;ctdbase:B_4750526;ctdbase:ABU_3727198\n",
       "3 ctdbase:ABU_4773668;ctdbase:ABU_4772080;ctdbase:ABU_3767626;ctdbase:ABU_4773673;ctdbase:ABU_4773671;ctdbase:UPT_6713798;ctdbase:chemical_mesh_d003300;ctdbase:ABU_MESH_D003300;ctdbase:REC_6713792;ctdbase:B_4750526\n",
       "  A_Chrom A_Start  A_End    B_Chrom B_Start  B_End   \n",
       "1 4       88090264 88231417 19      58346806 58353499\n",
       "2 X       77910656 78050395 19      58346806 58353499\n",
       "3 13      51891086 52012099 19      58346806 58353499"
      ]
     },
     "metadata": {},
     "output_type": "display_data"
    }
   ],
   "source": [
    "pc_hgnc_magma_new <- merge(pc_hgnc_magma, loci_partA[,c(\"A_Chrom\", \"A_Start\", \"A_End\", \"A_Gene\")], by.x = \"PARTICIPANT_A\", by.y = \"A_Gene\", all.x = TRUE)\n",
    "pc_hgnc_magma_new <- merge(pc_hgnc_magma_new, loci_partB[,c(\"B_Chrom\", \"B_Start\", \"B_End\", \"B_Gene\")], by.x = \"PARTICIPANT_B\", by.y = \"B_Gene\", all.x = TRUE)\n",
    "loci_partA[loci_partA$V6 == \"Gene\",]\n",
    "pc_hgnc_magma_new[1:3,]"
   ]
  },
  {
   "cell_type": "code",
   "execution_count": 11,
   "id": "554258fa-5870-432a-9700-2ccaa3e51813",
   "metadata": {},
   "outputs": [
    {
     "data": {
      "text/html": [
       "<style>\n",
       ".list-inline {list-style: none; margin:0; padding: 0}\n",
       ".list-inline>li {display: inline-block}\n",
       ".list-inline>li:not(:last-child)::after {content: \"\\00b7\"; padding: 0 .5ex}\n",
       "</style>\n",
       "<ol class=list-inline><li>''</li><li>'catalysis-precedes'</li><li>'chemical-affects'</li><li>'consumption-controlled-by'</li><li>'controls-expression-of'</li><li>'controls-phosphorylation-of'</li><li>'controls-production-of'</li><li>'controls-state-change-of'</li><li>'controls-transport-of'</li><li>'controls-transport-of-chemical'</li><li>'interacts-with'</li><li>'reacts-with'</li><li>'used-to-produce'</li></ol>\n"
      ],
      "text/latex": [
       "\\begin{enumerate*}\n",
       "\\item ''\n",
       "\\item 'catalysis-precedes'\n",
       "\\item 'chemical-affects'\n",
       "\\item 'consumption-controlled-by'\n",
       "\\item 'controls-expression-of'\n",
       "\\item 'controls-phosphorylation-of'\n",
       "\\item 'controls-production-of'\n",
       "\\item 'controls-state-change-of'\n",
       "\\item 'controls-transport-of'\n",
       "\\item 'controls-transport-of-chemical'\n",
       "\\item 'interacts-with'\n",
       "\\item 'reacts-with'\n",
       "\\item 'used-to-produce'\n",
       "\\end{enumerate*}\n"
      ],
      "text/markdown": [
       "1. ''\n",
       "2. 'catalysis-precedes'\n",
       "3. 'chemical-affects'\n",
       "4. 'consumption-controlled-by'\n",
       "5. 'controls-expression-of'\n",
       "6. 'controls-phosphorylation-of'\n",
       "7. 'controls-production-of'\n",
       "8. 'controls-state-change-of'\n",
       "9. 'controls-transport-of'\n",
       "10. 'controls-transport-of-chemical'\n",
       "11. 'interacts-with'\n",
       "12. 'reacts-with'\n",
       "13. 'used-to-produce'\n",
       "\n",
       "\n"
      ],
      "text/plain": [
       " [1] \"\"                               \"catalysis-precedes\"            \n",
       " [3] \"chemical-affects\"               \"consumption-controlled-by\"     \n",
       " [5] \"controls-expression-of\"         \"controls-phosphorylation-of\"   \n",
       " [7] \"controls-production-of\"         \"controls-state-change-of\"      \n",
       " [9] \"controls-transport-of\"          \"controls-transport-of-chemical\"\n",
       "[11] \"interacts-with\"                 \"reacts-with\"                   \n",
       "[13] \"used-to-produce\"               "
      ]
     },
     "metadata": {},
     "output_type": "display_data"
    },
    {
     "data": {
      "text/html": [
       "<style>\n",
       ".list-inline {list-style: none; margin:0; padding: 0}\n",
       ".list-inline>li {display: inline-block}\n",
       ".list-inline>li:not(:last-child)::after {content: \"\\00b7\"; padding: 0 .5ex}\n",
       "</style>\n",
       "<ol class=list-inline><li>'catalysis-precedes'</li><li>'controls-expression-of'</li><li>'controls-phosphorylation-of'</li><li>'controls-state-change-of'</li><li>'controls-transport-of'</li><li>'interacts-with'</li></ol>\n"
      ],
      "text/latex": [
       "\\begin{enumerate*}\n",
       "\\item 'catalysis-precedes'\n",
       "\\item 'controls-expression-of'\n",
       "\\item 'controls-phosphorylation-of'\n",
       "\\item 'controls-state-change-of'\n",
       "\\item 'controls-transport-of'\n",
       "\\item 'interacts-with'\n",
       "\\end{enumerate*}\n"
      ],
      "text/markdown": [
       "1. 'catalysis-precedes'\n",
       "2. 'controls-expression-of'\n",
       "3. 'controls-phosphorylation-of'\n",
       "4. 'controls-state-change-of'\n",
       "5. 'controls-transport-of'\n",
       "6. 'interacts-with'\n",
       "\n",
       "\n"
      ],
      "text/plain": [
       "[1] \"catalysis-precedes\"          \"controls-expression-of\"     \n",
       "[3] \"controls-phosphorylation-of\" \"controls-state-change-of\"   \n",
       "[5] \"controls-transport-of\"       \"interacts-with\"             "
      ]
     },
     "metadata": {},
     "output_type": "display_data"
    }
   ],
   "source": [
    "sort(unique(pc_hgnc$INTERACTION_TYPE))\n",
    "sort(unique(pc_hgnc_magma_new$INTERACTION_TYPE))"
   ]
  },
  {
   "cell_type": "markdown",
   "id": "5eb32943-09cc-4208-a62b-d61ddbc014f0",
   "metadata": {},
   "source": [
    "### B. Remove those gene pairs overlapping and/or within 50kb of each other"
   ]
  },
  {
   "cell_type": "code",
   "execution_count": 12,
   "id": "6e9cdcf2-0689-4b39-9a1f-987d3c34eb5a",
   "metadata": {},
   "outputs": [
    {
     "data": {
      "text/html": [
       "61649"
      ],
      "text/latex": [
       "61649"
      ],
      "text/markdown": [
       "61649"
      ],
      "text/plain": [
       "[1] 61649"
      ]
     },
     "metadata": {},
     "output_type": "display_data"
    },
    {
     "data": {
      "text/html": [
       "<style>\n",
       ".list-inline {list-style: none; margin:0; padding: 0}\n",
       ".list-inline>li {display: inline-block}\n",
       ".list-inline>li:not(:last-child)::after {content: \"\\00b7\"; padding: 0 .5ex}\n",
       "</style>\n",
       "<ol class=list-inline><li>165</li><li>18</li></ol>\n"
      ],
      "text/latex": [
       "\\begin{enumerate*}\n",
       "\\item 165\n",
       "\\item 18\n",
       "\\end{enumerate*}\n"
      ],
      "text/markdown": [
       "1. 165\n",
       "2. 18\n",
       "\n",
       "\n"
      ],
      "text/plain": [
       "[1] 165  18"
      ]
     },
     "metadata": {},
     "output_type": "display_data"
    },
    {
     "data": {
      "text/html": [
       "<style>\n",
       ".list-inline {list-style: none; margin:0; padding: 0}\n",
       ".list-inline>li {display: inline-block}\n",
       ".list-inline>li:not(:last-child)::after {content: \"\\00b7\"; padding: 0 .5ex}\n",
       "</style>\n",
       "<ol class=list-inline><li>868</li><li>18</li></ol>\n"
      ],
      "text/latex": [
       "\\begin{enumerate*}\n",
       "\\item 868\n",
       "\\item 18\n",
       "\\end{enumerate*}\n"
      ],
      "text/markdown": [
       "1. 868\n",
       "2. 18\n",
       "\n",
       "\n"
      ],
      "text/plain": [
       "[1] 868  18"
      ]
     },
     "metadata": {},
     "output_type": "display_data"
    },
    {
     "data": {
      "text/html": [
       "<table class=\"dataframe\">\n",
       "<caption>A data.table: 3 × 18</caption>\n",
       "<thead>\n",
       "\t<tr><th scope=col>PARTICIPANT_B</th><th scope=col>PARTICIPANT_A</th><th scope=col>INTERACTION_TYPE</th><th scope=col>INTERACTION_DATA_SOURCE</th><th scope=col>INTERACTION_PUBMED_ID</th><th scope=col>PATHWAY_NAMES</th><th scope=col>MEDIATOR_IDS</th><th scope=col>A_Chrom</th><th scope=col>A_Start</th><th scope=col>A_End</th><th scope=col>B_Chrom</th><th scope=col>B_Start</th><th scope=col>B_End</th><th scope=col>unique_id</th><th scope=col>DIFF1</th><th scope=col>DIFF2</th><th scope=col>DIFF3</th><th scope=col>DIFF4</th></tr>\n",
       "\t<tr><th scope=col>&lt;chr&gt;</th><th scope=col>&lt;chr&gt;</th><th scope=col>&lt;chr&gt;</th><th scope=col>&lt;chr&gt;</th><th scope=col>&lt;chr&gt;</th><th scope=col>&lt;chr&gt;</th><th scope=col>&lt;chr&gt;</th><th scope=col>&lt;chr&gt;</th><th scope=col>&lt;int&gt;</th><th scope=col>&lt;int&gt;</th><th scope=col>&lt;chr&gt;</th><th scope=col>&lt;int&gt;</th><th scope=col>&lt;int&gt;</th><th scope=col>&lt;int&gt;</th><th scope=col>&lt;int&gt;</th><th scope=col>&lt;int&gt;</th><th scope=col>&lt;int&gt;</th><th scope=col>&lt;int&gt;</th></tr>\n",
       "</thead>\n",
       "<tbody>\n",
       "\t<tr><td>ABCA10</td><td>ABCA5 </td><td>catalysis-precedes</td><td>Reactome</td><td>11178988;11309290;11435397;11478798;11606068;12150964;12183068;12504089;12821155;24831815</td><td>ABC transporters in lipid homeostasis</td><td>reactome:Catalysis2;http://bioregistry.io/reactome:R-HSA-8848053;reactome:Catalysis6;http://bioregistry.io/reactome:R-HSA-1454928</td><td>17</td><td>69244435</td><td>69327182</td><td>17</td><td>69148007</td><td>69244815</td><td>1310</td><td>96428</td><td>  380</td><td> 82367</td><td>179175</td></tr>\n",
       "\t<tr><td>ABCA6 </td><td>ABCA10</td><td>interacts-with    </td><td>BioGRID </td><td>33961781                                                                                 </td><td>                                     </td><td>biogrid:MolecularInteraction_c754f6e2-156a-4282-8a92-8b5716e31917___null__816562_                                                </td><td>17</td><td>69148007</td><td>69244815</td><td>17</td><td>69078089</td><td>69141992</td><td>1352</td><td>69918</td><td> 6015</td><td>102823</td><td>166726</td></tr>\n",
       "\t<tr><td>ABCC12</td><td>ABCC11</td><td>interacts-with    </td><td>BioGRID </td><td>33961781                                                                                 </td><td>                                     </td><td>biogrid:MolecularInteraction_0814948a-71c8-44f3-96a1-b7676f60558c___null__843848_                                                </td><td>16</td><td>48166910</td><td>48235177</td><td>16</td><td>48082973</td><td>48146770</td><td>1709</td><td>83937</td><td>20140</td><td> 88407</td><td>152204</td></tr>\n",
       "</tbody>\n",
       "</table>\n"
      ],
      "text/latex": [
       "A data.table: 3 × 18\n",
       "\\begin{tabular}{llllllllllllllllll}\n",
       " PARTICIPANT\\_B & PARTICIPANT\\_A & INTERACTION\\_TYPE & INTERACTION\\_DATA\\_SOURCE & INTERACTION\\_PUBMED\\_ID & PATHWAY\\_NAMES & MEDIATOR\\_IDS & A\\_Chrom & A\\_Start & A\\_End & B\\_Chrom & B\\_Start & B\\_End & unique\\_id & DIFF1 & DIFF2 & DIFF3 & DIFF4\\\\\n",
       " <chr> & <chr> & <chr> & <chr> & <chr> & <chr> & <chr> & <chr> & <int> & <int> & <chr> & <int> & <int> & <int> & <int> & <int> & <int> & <int>\\\\\n",
       "\\hline\n",
       "\t ABCA10 & ABCA5  & catalysis-precedes & Reactome & 11178988;11309290;11435397;11478798;11606068;12150964;12183068;12504089;12821155;24831815 & ABC transporters in lipid homeostasis & reactome:Catalysis2;http://bioregistry.io/reactome:R-HSA-8848053;reactome:Catalysis6;http://bioregistry.io/reactome:R-HSA-1454928 & 17 & 69244435 & 69327182 & 17 & 69148007 & 69244815 & 1310 & 96428 &   380 &  82367 & 179175\\\\\n",
       "\t ABCA6  & ABCA10 & interacts-with     & BioGRID  & 33961781                                                                                  &                                       & biogrid:MolecularInteraction\\_c754f6e2-156a-4282-8a92-8b5716e31917\\_\\_\\_null\\_\\_816562\\_                                                 & 17 & 69148007 & 69244815 & 17 & 69078089 & 69141992 & 1352 & 69918 &  6015 & 102823 & 166726\\\\\n",
       "\t ABCC12 & ABCC11 & interacts-with     & BioGRID  & 33961781                                                                                  &                                       & biogrid:MolecularInteraction\\_0814948a-71c8-44f3-96a1-b7676f60558c\\_\\_\\_null\\_\\_843848\\_                                                 & 16 & 48166910 & 48235177 & 16 & 48082973 & 48146770 & 1709 & 83937 & 20140 &  88407 & 152204\\\\\n",
       "\\end{tabular}\n"
      ],
      "text/markdown": [
       "\n",
       "A data.table: 3 × 18\n",
       "\n",
       "| PARTICIPANT_B &lt;chr&gt; | PARTICIPANT_A &lt;chr&gt; | INTERACTION_TYPE &lt;chr&gt; | INTERACTION_DATA_SOURCE &lt;chr&gt; | INTERACTION_PUBMED_ID &lt;chr&gt; | PATHWAY_NAMES &lt;chr&gt; | MEDIATOR_IDS &lt;chr&gt; | A_Chrom &lt;chr&gt; | A_Start &lt;int&gt; | A_End &lt;int&gt; | B_Chrom &lt;chr&gt; | B_Start &lt;int&gt; | B_End &lt;int&gt; | unique_id &lt;int&gt; | DIFF1 &lt;int&gt; | DIFF2 &lt;int&gt; | DIFF3 &lt;int&gt; | DIFF4 &lt;int&gt; |\n",
       "|---|---|---|---|---|---|---|---|---|---|---|---|---|---|---|---|---|---|\n",
       "| ABCA10 | ABCA5  | catalysis-precedes | Reactome | 11178988;11309290;11435397;11478798;11606068;12150964;12183068;12504089;12821155;24831815 | ABC transporters in lipid homeostasis | reactome:Catalysis2;http://bioregistry.io/reactome:R-HSA-8848053;reactome:Catalysis6;http://bioregistry.io/reactome:R-HSA-1454928 | 17 | 69244435 | 69327182 | 17 | 69148007 | 69244815 | 1310 | 96428 |   380 |  82367 | 179175 |\n",
       "| ABCA6  | ABCA10 | interacts-with     | BioGRID  | 33961781                                                                                  | <!----> | biogrid:MolecularInteraction_c754f6e2-156a-4282-8a92-8b5716e31917___null__816562_                                                 | 17 | 69148007 | 69244815 | 17 | 69078089 | 69141992 | 1352 | 69918 |  6015 | 102823 | 166726 |\n",
       "| ABCC12 | ABCC11 | interacts-with     | BioGRID  | 33961781                                                                                  | <!----> | biogrid:MolecularInteraction_0814948a-71c8-44f3-96a1-b7676f60558c___null__843848_                                                 | 16 | 48166910 | 48235177 | 16 | 48082973 | 48146770 | 1709 | 83937 | 20140 |  88407 | 152204 |\n",
       "\n"
      ],
      "text/plain": [
       "  PARTICIPANT_B PARTICIPANT_A INTERACTION_TYPE   INTERACTION_DATA_SOURCE\n",
       "1 ABCA10        ABCA5         catalysis-precedes Reactome               \n",
       "2 ABCA6         ABCA10        interacts-with     BioGRID                \n",
       "3 ABCC12        ABCC11        interacts-with     BioGRID                \n",
       "  INTERACTION_PUBMED_ID                                                                    \n",
       "1 11178988;11309290;11435397;11478798;11606068;12150964;12183068;12504089;12821155;24831815\n",
       "2 33961781                                                                                 \n",
       "3 33961781                                                                                 \n",
       "  PATHWAY_NAMES                        \n",
       "1 ABC transporters in lipid homeostasis\n",
       "2                                      \n",
       "3                                      \n",
       "  MEDIATOR_IDS                                                                                                                     \n",
       "1 reactome:Catalysis2;http://bioregistry.io/reactome:R-HSA-8848053;reactome:Catalysis6;http://bioregistry.io/reactome:R-HSA-1454928\n",
       "2 biogrid:MolecularInteraction_c754f6e2-156a-4282-8a92-8b5716e31917___null__816562_                                                \n",
       "3 biogrid:MolecularInteraction_0814948a-71c8-44f3-96a1-b7676f60558c___null__843848_                                                \n",
       "  A_Chrom A_Start  A_End    B_Chrom B_Start  B_End    unique_id DIFF1 DIFF2\n",
       "1 17      69244435 69327182 17      69148007 69244815 1310      96428   380\n",
       "2 17      69148007 69244815 17      69078089 69141992 1352      69918  6015\n",
       "3 16      48166910 48235177 16      48082973 48146770 1709      83937 20140\n",
       "  DIFF3  DIFF4 \n",
       "1  82367 179175\n",
       "2 102823 166726\n",
       "3  88407 152204"
      ]
     },
     "metadata": {},
     "output_type": "display_data"
    },
    {
     "data": {
      "text/html": [
       "870"
      ],
      "text/latex": [
       "870"
      ],
      "text/markdown": [
       "870"
      ],
      "text/plain": [
       "[1] 870"
      ]
     },
     "metadata": {},
     "output_type": "display_data"
    }
   ],
   "source": [
    "# remove those that are within 50kb of one another\n",
    "# add unique id\n",
    "pc_hgnc_magma_new$unique_id = seq(1, nrow(pc_hgnc_magma_new))\n",
    "# get those that should be removed\n",
    "## see which have same chromosome\n",
    "remove = pc_hgnc_magma_new[pc_hgnc_magma_new$A_Chrom == pc_hgnc_magma_new$B_Chrom,]\n",
    "nrow(remove)\n",
    "## Get the distances between them\n",
    "remove$DIFF1 = abs(remove$A_Start - remove$B_Start)\n",
    "remove$DIFF2 = abs(remove$A_Start - remove$B_End)\n",
    "remove$DIFF3 = abs(remove$A_End - remove$B_End)\n",
    "remove$DIFF4 = abs(remove$A_End - remove$B_Start)\n",
    "\n",
    "# get those overlapping\n",
    "overlap <- remove[(remove$A_Start <= remove$B_End) & (remove$B_Start <= remove$A_End), ]\n",
    "dim(overlap)\n",
    "## get those within 50kb\n",
    "remove = remove[remove$DIFF1 < 50000 | remove$DIFF2 < 50000 | remove$DIFF3 < 50000 | remove$DIFF4 < 50000,]\n",
    "dim(remove)\n",
    "\n",
    "remove[1:3,]\n",
    "\n",
    "remove_ids = union(overlap$unique_id, remove$unique_id)\n",
    "length(remove_ids)\n",
    "\n"
   ]
  },
  {
   "cell_type": "code",
   "execution_count": 13,
   "id": "f12a2829-3036-41a4-b4a0-146e46b6dd1c",
   "metadata": {},
   "outputs": [
    {
     "data": {
      "text/html": [
       "1135802"
      ],
      "text/latex": [
       "1135802"
      ],
      "text/markdown": [
       "1135802"
      ],
      "text/plain": [
       "[1] 1135802"
      ]
     },
     "metadata": {},
     "output_type": "display_data"
    },
    {
     "name": "stdout",
     "output_type": "stream",
     "text": [
      "\n",
      "# Pairs lost due to overlap or within 50kb: 870"
     ]
    }
   ],
   "source": [
    "# only keep those not overlapping significantly\n",
    "old = nrow(pc_hgnc_magma_new)\n",
    "pc_hgnc_magma_new <- pc_hgnc_magma_new[!pc_hgnc_magma_new$unique_id %in% remove_ids,]\n",
    "nrow(pc_hgnc_magma_new)\n",
    "cat(\"\\n# Pairs lost due to overlap or within 50kb:\", old-nrow(pc_hgnc_magma_new))"
   ]
  },
  {
   "cell_type": "markdown",
   "id": "4b3bf97d-8020-4e36-a928-5618dfc06987",
   "metadata": {},
   "source": [
    "### C. Remove those within the MHC region"
   ]
  },
  {
   "cell_type": "code",
   "execution_count": 14,
   "id": "2b44b239-766a-4802-9d59-8c4bd86d0617",
   "metadata": {},
   "outputs": [
    {
     "data": {
      "text/html": [
       "<table class=\"dataframe\">\n",
       "<caption>A data.table: 2 × 14</caption>\n",
       "<thead>\n",
       "\t<tr><th scope=col>PARTICIPANT_B</th><th scope=col>PARTICIPANT_A</th><th scope=col>INTERACTION_TYPE</th><th scope=col>INTERACTION_DATA_SOURCE</th><th scope=col>INTERACTION_PUBMED_ID</th><th scope=col>PATHWAY_NAMES</th><th scope=col>MEDIATOR_IDS</th><th scope=col>A_Chrom</th><th scope=col>A_Start</th><th scope=col>A_End</th><th scope=col>B_Chrom</th><th scope=col>B_Start</th><th scope=col>B_End</th><th scope=col>unique_id</th></tr>\n",
       "\t<tr><th scope=col>&lt;chr&gt;</th><th scope=col>&lt;chr&gt;</th><th scope=col>&lt;chr&gt;</th><th scope=col>&lt;chr&gt;</th><th scope=col>&lt;chr&gt;</th><th scope=col>&lt;chr&gt;</th><th scope=col>&lt;chr&gt;</th><th scope=col>&lt;chr&gt;</th><th scope=col>&lt;int&gt;</th><th scope=col>&lt;int&gt;</th><th scope=col>&lt;chr&gt;</th><th scope=col>&lt;int&gt;</th><th scope=col>&lt;int&gt;</th><th scope=col>&lt;int&gt;</th></tr>\n",
       "</thead>\n",
       "<tbody>\n",
       "\t<tr><td>A1BG</td><td>ABCG2</td><td>controls-state-change-of</td><td>CTD</td><td>23896426;37660740                                                                                 </td><td></td><td>ctdbase:chemical_mesh_d002104;ctdbase:ABU_MESH_D002104;ctdbase:B_4750700;ctdbase:RXN_8494535                                                                                                                        </td><td>4</td><td>88090264</td><td>88231417</td><td>19</td><td>58346806</td><td>58353499</td><td>1</td></tr>\n",
       "\t<tr><td>A1BG</td><td>ATP7A</td><td>controls-state-change-of</td><td>CTD</td><td>11350187;14985339;15467011;15923132;21336677;23345593;23776592;23896426;24522273;25247420;32278528</td><td></td><td>ctdbase:REC_6713796;ctdbase:ABU_3770939;ctdbase:ABU_3792340;ctdbase:UPT_6713802;ctdbase:ABU_3770941;ctdbase:chemical_mesh_d003300;ctdbase:ABU_4940882;ctdbase:ABU_MESH_D003300;ctdbase:B_4750526;ctdbase:ABU_3727198</td><td>X</td><td>77910656</td><td>78050395</td><td>19</td><td>58346806</td><td>58353499</td><td>2</td></tr>\n",
       "</tbody>\n",
       "</table>\n"
      ],
      "text/latex": [
       "A data.table: 2 × 14\n",
       "\\begin{tabular}{llllllllllllll}\n",
       " PARTICIPANT\\_B & PARTICIPANT\\_A & INTERACTION\\_TYPE & INTERACTION\\_DATA\\_SOURCE & INTERACTION\\_PUBMED\\_ID & PATHWAY\\_NAMES & MEDIATOR\\_IDS & A\\_Chrom & A\\_Start & A\\_End & B\\_Chrom & B\\_Start & B\\_End & unique\\_id\\\\\n",
       " <chr> & <chr> & <chr> & <chr> & <chr> & <chr> & <chr> & <chr> & <int> & <int> & <chr> & <int> & <int> & <int>\\\\\n",
       "\\hline\n",
       "\t A1BG & ABCG2 & controls-state-change-of & CTD & 23896426;37660740                                                                                  &  & ctdbase:chemical\\_mesh\\_d002104;ctdbase:ABU\\_MESH\\_D002104;ctdbase:B\\_4750700;ctdbase:RXN\\_8494535                                                                                                                         & 4 & 88090264 & 88231417 & 19 & 58346806 & 58353499 & 1\\\\\n",
       "\t A1BG & ATP7A & controls-state-change-of & CTD & 11350187;14985339;15467011;15923132;21336677;23345593;23776592;23896426;24522273;25247420;32278528 &  & ctdbase:REC\\_6713796;ctdbase:ABU\\_3770939;ctdbase:ABU\\_3792340;ctdbase:UPT\\_6713802;ctdbase:ABU\\_3770941;ctdbase:chemical\\_mesh\\_d003300;ctdbase:ABU\\_4940882;ctdbase:ABU\\_MESH\\_D003300;ctdbase:B\\_4750526;ctdbase:ABU\\_3727198 & X & 77910656 & 78050395 & 19 & 58346806 & 58353499 & 2\\\\\n",
       "\\end{tabular}\n"
      ],
      "text/markdown": [
       "\n",
       "A data.table: 2 × 14\n",
       "\n",
       "| PARTICIPANT_B &lt;chr&gt; | PARTICIPANT_A &lt;chr&gt; | INTERACTION_TYPE &lt;chr&gt; | INTERACTION_DATA_SOURCE &lt;chr&gt; | INTERACTION_PUBMED_ID &lt;chr&gt; | PATHWAY_NAMES &lt;chr&gt; | MEDIATOR_IDS &lt;chr&gt; | A_Chrom &lt;chr&gt; | A_Start &lt;int&gt; | A_End &lt;int&gt; | B_Chrom &lt;chr&gt; | B_Start &lt;int&gt; | B_End &lt;int&gt; | unique_id &lt;int&gt; |\n",
       "|---|---|---|---|---|---|---|---|---|---|---|---|---|---|\n",
       "| A1BG | ABCG2 | controls-state-change-of | CTD | 23896426;37660740                                                                                  | <!----> | ctdbase:chemical_mesh_d002104;ctdbase:ABU_MESH_D002104;ctdbase:B_4750700;ctdbase:RXN_8494535                                                                                                                         | 4 | 88090264 | 88231417 | 19 | 58346806 | 58353499 | 1 |\n",
       "| A1BG | ATP7A | controls-state-change-of | CTD | 11350187;14985339;15467011;15923132;21336677;23345593;23776592;23896426;24522273;25247420;32278528 | <!----> | ctdbase:REC_6713796;ctdbase:ABU_3770939;ctdbase:ABU_3792340;ctdbase:UPT_6713802;ctdbase:ABU_3770941;ctdbase:chemical_mesh_d003300;ctdbase:ABU_4940882;ctdbase:ABU_MESH_D003300;ctdbase:B_4750526;ctdbase:ABU_3727198 | X | 77910656 | 78050395 | 19 | 58346806 | 58353499 | 2 |\n",
       "\n"
      ],
      "text/plain": [
       "  PARTICIPANT_B PARTICIPANT_A INTERACTION_TYPE         INTERACTION_DATA_SOURCE\n",
       "1 A1BG          ABCG2         controls-state-change-of CTD                    \n",
       "2 A1BG          ATP7A         controls-state-change-of CTD                    \n",
       "  INTERACTION_PUBMED_ID                                                                             \n",
       "1 23896426;37660740                                                                                 \n",
       "2 11350187;14985339;15467011;15923132;21336677;23345593;23776592;23896426;24522273;25247420;32278528\n",
       "  PATHWAY_NAMES\n",
       "1              \n",
       "2              \n",
       "  MEDIATOR_IDS                                                                                                                                                                                                        \n",
       "1 ctdbase:chemical_mesh_d002104;ctdbase:ABU_MESH_D002104;ctdbase:B_4750700;ctdbase:RXN_8494535                                                                                                                        \n",
       "2 ctdbase:REC_6713796;ctdbase:ABU_3770939;ctdbase:ABU_3792340;ctdbase:UPT_6713802;ctdbase:ABU_3770941;ctdbase:chemical_mesh_d003300;ctdbase:ABU_4940882;ctdbase:ABU_MESH_D003300;ctdbase:B_4750526;ctdbase:ABU_3727198\n",
       "  A_Chrom A_Start  A_End    B_Chrom B_Start  B_End    unique_id\n",
       "1 4       88090264 88231417 19      58346806 58353499 1        \n",
       "2 X       77910656 78050395 19      58346806 58353499 2        "
      ]
     },
     "metadata": {},
     "output_type": "display_data"
    },
    {
     "data": {
      "text/html": [
       "10290"
      ],
      "text/latex": [
       "10290"
      ],
      "text/markdown": [
       "10290"
      ],
      "text/plain": [
       "[1] 10290"
      ]
     },
     "metadata": {},
     "output_type": "display_data"
    },
    {
     "data": {
      "text/html": [
       "9513"
      ],
      "text/latex": [
       "9513"
      ],
      "text/markdown": [
       "9513"
      ],
      "text/plain": [
       "[1] 9513"
      ]
     },
     "metadata": {},
     "output_type": "display_data"
    },
    {
     "data": {
      "text/html": [
       "1126289"
      ],
      "text/latex": [
       "1126289"
      ],
      "text/markdown": [
       "1126289"
      ],
      "text/plain": [
       "[1] 1126289"
      ]
     },
     "metadata": {},
     "output_type": "display_data"
    },
    {
     "name": "stdout",
     "output_type": "stream",
     "text": [
      "\n",
      "# Pairs lost due to being within MHC region: 9513"
     ]
    }
   ],
   "source": [
    "# remove anything within the MHC region\n",
    "pc_hgnc_magma_new[1:2,]\n",
    "old = nrow(pc_hgnc_magma_new)\n",
    "remove_mhc = pc_hgnc_magma_new[pc_hgnc_magma_new$A_Chrom == \"6\" & \n",
    "                               pc_hgnc_magma_new$A_Start > 29600000 & \n",
    "                               pc_hgnc_magma_new$A_End < 33300000,]$unique_id\n",
    "length(remove_mhc)\n",
    "remove_mhc=c()\n",
    "remove_mhc = union(remove_mhc, pc_hgnc_magma_new[pc_hgnc_magma_new$B_Chrom == \"6\" & \n",
    "                               pc_hgnc_magma_new$B_Start > 29600000 & \n",
    "                               pc_hgnc_magma_new$B_End < 33300000,]$unique_id)\n",
    "\n",
    "length(remove_mhc)\n",
    "\n",
    "pc_hgnc_magma_new = pc_hgnc_magma_new[!pc_hgnc_magma_new$unique_id %in% remove_mhc,]\n",
    "nrow(pc_hgnc_magma_new)\n",
    "cat(\"\\n# Pairs lost due to being within MHC region:\", old-nrow(pc_hgnc_magma_new))"
   ]
  },
  {
   "cell_type": "markdown",
   "id": "a7f20b1d-ee88-4f5a-9876-0c5b1256d5f7",
   "metadata": {},
   "source": [
    "* excluded those interactions that were annotated as in-complex-with, because those genes tended to be co-expressed and might inflate the result\n",
    "* excluded 2291 ribosomal genes and housekeeping genes defined by the HSIAO_HOUSEKEEPING_GENES set from MSigDB (expressed across 19 tissues \n",
    "* excluded those pairs that were located within 50 kb of each other (since 50kb window)\n",
    "* excluded pairs in the MHC complex: MHC region (chr6:26000000_34000000, hg19)"
   ]
  },
  {
   "cell_type": "markdown",
   "id": "8f0a8c7a-cfa7-4514-989a-9814098d5be4",
   "metadata": {},
   "source": [
    "### Final Comparison to original"
   ]
  },
  {
   "cell_type": "code",
   "execution_count": 15,
   "id": "e93199ee-6fa9-4e02-b6ac-437cf0355202",
   "metadata": {},
   "outputs": [
    {
     "data": {
      "text/html": [
       "1126289"
      ],
      "text/latex": [
       "1126289"
      ],
      "text/markdown": [
       "1126289"
      ],
      "text/plain": [
       "[1] 1126289"
      ]
     },
     "metadata": {},
     "output_type": "display_data"
    }
   ],
   "source": [
    "nrow(pc_hgnc_magma_new)"
   ]
  },
  {
   "cell_type": "code",
   "execution_count": 16,
   "id": "a636c538-fbb2-4074-98b9-67e9a59de5fc",
   "metadata": {},
   "outputs": [
    {
     "data": {
      "text/html": [
       "<table class=\"dataframe\">\n",
       "<caption>A data.table: 2 × 2</caption>\n",
       "<thead>\n",
       "\t<tr><th scope=col>V1</th><th scope=col>V2</th></tr>\n",
       "\t<tr><th scope=col>&lt;chr&gt;</th><th scope=col>&lt;chr&gt;</th></tr>\n",
       "</thead>\n",
       "<tbody>\n",
       "\t<tr><td>A1BG</td><td>A2M  </td></tr>\n",
       "\t<tr><td>A1BG</td><td>ABCC6</td></tr>\n",
       "</tbody>\n",
       "</table>\n"
      ],
      "text/latex": [
       "A data.table: 2 × 2\n",
       "\\begin{tabular}{ll}\n",
       " V1 & V2\\\\\n",
       " <chr> & <chr>\\\\\n",
       "\\hline\n",
       "\t A1BG & A2M  \\\\\n",
       "\t A1BG & ABCC6\\\\\n",
       "\\end{tabular}\n"
      ],
      "text/markdown": [
       "\n",
       "A data.table: 2 × 2\n",
       "\n",
       "| V1 &lt;chr&gt; | V2 &lt;chr&gt; |\n",
       "|---|---|\n",
       "| A1BG | A2M   |\n",
       "| A1BG | ABCC6 |\n",
       "\n"
      ],
      "text/plain": [
       "  V1   V2   \n",
       "1 A1BG A2M  \n",
       "2 A1BG ABCC6"
      ]
     },
     "metadata": {},
     "output_type": "display_data"
    },
    {
     "data": {
      "text/html": [
       "<style>\n",
       ".list-inline {list-style: none; margin:0; padding: 0}\n",
       ".list-inline>li {display: inline-block}\n",
       ".list-inline>li:not(:last-child)::after {content: \"\\00b7\"; padding: 0 .5ex}\n",
       "</style>\n",
       "<ol class=list-inline><li>805375</li><li>2</li></ol>\n"
      ],
      "text/latex": [
       "\\begin{enumerate*}\n",
       "\\item 805375\n",
       "\\item 2\n",
       "\\end{enumerate*}\n"
      ],
      "text/markdown": [
       "1. 805375\n",
       "2. 2\n",
       "\n",
       "\n"
      ],
      "text/plain": [
       "[1] 805375      2"
      ]
     },
     "metadata": {},
     "output_type": "display_data"
    }
   ],
   "source": [
    "# original pathway\n",
    "pathway <- fread(\"~/Downloads/PathwayCommons12.All.hgnc.exPCDHA.MHC.NCBI37.tsv\", \n",
    "                header=FALSE)\n",
    "pathway[1:2,]\n",
    "dim(pathway)"
   ]
  },
  {
   "cell_type": "code",
   "execution_count": 17,
   "id": "edbd9c23-ee91-442a-824b-95bac9980a80",
   "metadata": {},
   "outputs": [
    {
     "data": {
      "text/html": [
       "320914"
      ],
      "text/latex": [
       "320914"
      ],
      "text/markdown": [
       "320914"
      ],
      "text/plain": [
       "[1] 320914"
      ]
     },
     "metadata": {},
     "output_type": "display_data"
    },
    {
     "data": {
      "text/html": [
       "17041"
      ],
      "text/latex": [
       "17041"
      ],
      "text/markdown": [
       "17041"
      ],
      "text/plain": [
       "[1] 17041"
      ]
     },
     "metadata": {},
     "output_type": "display_data"
    },
    {
     "data": {
      "text/html": [
       "18246"
      ],
      "text/latex": [
       "18246"
      ],
      "text/markdown": [
       "18246"
      ],
      "text/plain": [
       "[1] 18246"
      ]
     },
     "metadata": {},
     "output_type": "display_data"
    },
    {
     "data": {
      "text/html": [
       "566"
      ],
      "text/latex": [
       "566"
      ],
      "text/markdown": [
       "566"
      ],
      "text/plain": [
       "[1] 566"
      ]
     },
     "metadata": {},
     "output_type": "display_data"
    },
    {
     "data": {
      "text/html": [
       "<style>\n",
       ".list-inline {list-style: none; margin:0; padding: 0}\n",
       ".list-inline>li {display: inline-block}\n",
       ".list-inline>li:not(:last-child)::after {content: \"\\00b7\"; padding: 0 .5ex}\n",
       "</style>\n",
       "<ol class=list-inline><li>'HSPA1B'</li><li>'MT1A'</li><li>'NOG'</li><li>'UGT1A3'</li><li>'ACOT1'</li><li>'ACOT4'</li><li>'ACY3'</li><li>'NME1'</li><li>'NDUFS8'</li><li>'NME1-NME2'</li><li>'TPSAB1'</li><li>'CYP11B1'</li><li>'IGF2'</li><li>'NPPB'</li><li>'CYP1A2'</li><li>'EPO'</li><li>'CGB5'</li><li>'CGB8'</li><li>'GSTM2'</li><li>'HOXA9'</li><li>'GRXCR2'</li><li>'MPP1'</li><li>'OTOG'</li><li>'GNG11'</li><li>'FGF4'</li><li>'AOC2'</li><li>'AOC3'</li><li>'ADH1A'</li><li>'ADH1C'</li><li>'LIPA'</li><li>'SLC18A3'</li><li>'FLOT1'</li><li>'CHRNB4'</li><li>'CNGA4'</li><li>'AP2M1'</li><li>'PSMD3'</li><li>'ADAM18'</li><li>'APOA5'</li><li>'APOC3'</li><li>'CLCN2'</li><li>'HLA-DRB1'</li><li>'MPC1L'</li><li>'HSPA1L'</li><li>'PSME2'</li><li>'PABPN1L'</li><li>'IL13'</li><li>'MAP4K2'</li><li>'MPDU1'</li><li>'CCL11'</li><li>'CCL7'</li><li>'CXCL9'</li><li>'CXCR1'</li><li>'PTGIR'</li><li>'ALOX15B'</li><li>'TST'</li><li>'ALOXE3'</li><li>'CYP27B1'</li><li>'AMY1A'</li><li>'ANKRD30A'</li><li>'APOA4'</li><li>'APOC1'</li><li>'APOC2'</li><li>'AIFM3'</li><li>'APOBEC3G'</li><li>'PA2G4'</li><li>'ARF5'</li><li>'ALYREF'</li><li>'ATP4A'</li><li>'SULT1A2'</li><li>'AKR7A3'</li><li>'OTOP1'</li><li>'APOBEC3D'</li><li>'HAUS4'</li><li>'BAG6'</li><li>'ANKLE1'</li><li>'MMP10'</li><li>'FGB'</li><li>'FGG'</li><li>'AZU1'</li><li>'LTA'</li><li>'LTB'</li><li>'CBX4'</li><li>'CIAO1'</li><li>'UXT'</li><li>'C1QA'</li><li>'C1QB'</li><li>'BAGE2'</li><li>'CXCL11'</li><li>'C5AR1'</li><li>'CARD16'</li><li>'MT3'</li><li>'TH'</li><li>'C10orf120'</li><li>'C3orf18'</li><li>'CCR2'</li><li>'CDKN2B'</li><li>'CCL3'</li><li>'CCL8'</li><li>'ACTRT2'</li><li>'ANKRD16'</li><li>'HLA-DPB1'</li><li>'CD1C'</li><li>'ST6GALNAC6'</li><li>'CCT8L2'</li><li>'BIVM-ERCC5'</li><li>'C2CD4B'</li><li>'CDHR4'</li><li>'C2CD4A'</li><li>'CD7'</li><li>'C8orf58'</li><li>'CENPH'</li><li>'CENPB'</li><li>'C22orf42'</li><li>'ACRV1'</li><li>'FUT5'</li><li>'ARL9'</li><li>'GSTM5'</li><li>'CLEC4M'</li><li>'ARMS2'</li><li>'LIN7B'</li><li>'CYP26C1'</li><li>'CASP5'</li><li>'PTPMT1'</li><li>'ANKRD36C'</li><li>'C1orf146'</li><li>'CXCL3'</li><li>'CXCL6'</li><li>'A3GALT2'</li><li>'CYP2A7'</li><li>'CYP4F3'</li><li>'C1orf53'</li><li>'CRYBB1'</li><li>'COL11A2'</li><li>'ADM5'</li><li>'ANKRD34B'</li><li>'C11orf96'</li><li>'ECH1'</li><li>'CHIC1'</li><li>'DEF8'</li><li>'DNAJC25'</li><li>'DHRS12'</li><li>'CEACAM16'</li><li>'DPPA2'</li><li>'CT45A6'</li><li>'DHRS4L1'</li><li>'DUOXA2'</li><li>'CDCP2'</li><li>'DPEP3'</li><li>'EID2B'</li><li>'DEFB106A'</li><li>'DEFB106B'</li><li>'CRYGD'</li><li>'DEFB135'</li><li>'DEFB136'</li><li>'TAP1'</li><li>'TAP2'</li><li>'ZNF830'</li><li>'F10'</li><li>'DEFB125'</li><li>'ERVMER34-1'</li><li>'FCN2'</li><li>'SRMS'</li><li>'GADL1'</li><li>'FOLR2'</li><li>'MST1'</li><li>'DEFB110'</li><li>'FNDC1'</li><li>'GABARAP'</li><li>'FCRL6'</li><li>'C7orf57'</li><li>'GBX1'</li><li>'HOXA11'</li><li>'GAGE12J'</li><li>'GAGE2A'</li><li>'FAM25A'</li><li>'FAM25G'</li><li>'GJB6'</li><li>'GOLGA6C'</li><li>'CSH1'</li><li>'CSH2'</li><li>'HBG2'</li><li>'HBG1'</li><li>'HBQ1'</li><li>'HLA-C'</li><li>'FBXO47'</li><li>'HEXIM2'</li><li>'BPIFC'</li><li>'DEFB107A'</li><li>'DEFB107B'</li><li>'HSPB2'</li><li>'HSPE1'</li><li>'HLA-DMB'</li><li>'DTHD1'</li><li>'IFNA4'</li><li>'IFNA6'</li><li>'IFNA8'</li><li>'IFNL2'</li><li>'KLK2'</li><li>'HSPE1-MOB4'</li><li>'IFITM5'</li><li>⋯</li><li>'SHISA8'</li><li>'LRTM2'</li><li>'KIAA2012'</li><li>'STOML2'</li><li>'MPZL3'</li><li>'IGFBPL1'</li><li>'NTN5'</li><li>'SCRT1'</li><li>'SMIM22'</li><li>'DEFB114'</li><li>'TOR1B'</li><li>'HAPLN4'</li><li>'SUN3'</li><li>'TBCB'</li><li>'LRRC10B'</li><li>'REC114'</li><li>'SMIM11'</li><li>'SCGB1D2'</li><li>'DEFB105A'</li><li>'DEFB105B'</li><li>'TMEM14C'</li><li>'SBK2'</li><li>'TMEM132E'</li><li>'DBX1'</li><li>'SYCE1L'</li><li>'TNNI3'</li><li>'CHURC1-FNTB'</li><li>'DYTN'</li><li>'RIIAD1'</li><li>'SPANXN5'</li><li>'PMF1-BGLAP'</li><li>'PPAN-P2RY11'</li><li>'RBAK-RBAKDN'</li><li>'TMED7-TICAM2'</li><li>'RBM14-RBM4'</li><li>'SYNJ2BP-COX16'</li><li>'TRIM52'</li><li>'PLSCR5'</li><li>'SPAG11A'</li><li>'SPINK14'</li><li>'CT62'</li><li>'TRA'</li><li>'USP17L7'</li><li>'TSPY3'</li><li>'PYDC1'</li><li>'SERPINA2'</li><li>'TMEM151B'</li><li>'TMEM176B'</li><li>'SPRED3'</li><li>'ZFAND2B'</li><li>'ZBTB6'</li><li>'ZNF396'</li><li>'ZNF324'</li><li>'VCX2'</li><li>'ZNF497'</li><li>'TCP11X2'</li><li>'TSPYL4'</li><li>'VCX'</li><li>'ZNF716'</li><li>'PCDHA13'</li><li>'PRAMEF25'</li><li>'TBC1D3K'</li><li>'TXNDC8'</li><li>'ZSCAN30'</li><li>'TRIM6-TRIM34'</li><li>'ZNF776'</li><li>'TTC6'</li><li>'AKAP2'</li><li>'ARL14EPL'</li><li>'ASAH2B'</li><li>'CCDC169'</li><li>'CT47A1'</li><li>'CT47A10'</li><li>'CT47A11'</li><li>'CT47A12'</li><li>'CT47A2'</li><li>'CT47A3'</li><li>'CT47A4'</li><li>'CT47A5'</li><li>'CT47A6'</li><li>'CT47A7'</li><li>'CT47A8'</li><li>'CT47A9'</li><li>'CWH43'</li><li>'CXorf51A'</li><li>'CXorf51B'</li><li>'DMRTA2'</li><li>'DPPA5'</li><li>'DUXA'</li><li>'DUXB'</li><li>'EPHX3'</li><li>'EVPLL'</li><li>'FAM157A'</li><li>'FAM162B'</li><li>'FAM229A'</li><li>'FOXI3'</li><li>'FOXL2NB'</li><li>'GAB4'</li><li>'GOLGA6L6'</li><li>'GOLGA8H'</li><li>'GOLGA8N'</li><li>'GPR83'</li><li>'HNRNPCL4'</li><li>'IGLON5'</li><li>'INAFM2'</li><li>'IQCA1'</li><li>'IQSEC3'</li><li>'KCP'</li><li>'KDM4E'</li><li>'KLLN'</li><li>'KRTAP2-2'</li><li>'LINGO4'</li><li>'LUZP6'</li><li>'MANSC4'</li><li>'MFSD2B'</li><li>'MIR205HG'</li><li>'MSANTD1'</li><li>'MSANTD3-TMEFF1'</li><li>'MSMP'</li><li>'MYO1H'</li><li>'NLRP8'</li><li>'NOBOX'</li><li>'NPAP1'</li><li>'NXPE1'</li><li>'PALM2'</li><li>'PCDHA1'</li><li>'PCDHA2'</li><li>'PINLYP'</li><li>'PIRT'</li><li>'PLAC4'</li><li>'POTEM'</li><li>'POU5F1B'</li><li>'PRAMEF22'</li><li>'PRCD'</li><li>'PRR21'</li><li>'PRR23D1'</li><li>'PRSS58'</li><li>'PRY'</li><li>'PRY2'</li><li>'PTX4'</li><li>'PXT1'</li><li>'RBMY1B'</li><li>'REG1A'</li><li>'RNF175'</li><li>'RPRML'</li><li>'S100A7L2'</li><li>'SAMD15'</li><li>'SERPINA11'</li><li>'SLC22A25'</li><li>'SMIM21'</li><li>'SMKR1'</li><li>'SP9'</li><li>'SPATA31D3'</li><li>'SPDYE2B'</li><li>'SPINK13'</li><li>'STPG1'</li><li>'SUPT20HL1'</li><li>'SYCN'</li><li>'TEX30'</li><li>'TMEM116'</li><li>'TMEM150C'</li><li>'TMEM163'</li><li>'TMEM81'</li><li>'TMEM82'</li><li>'TMPRSS9'</li><li>'TRIM64'</li><li>'TSPY8'</li><li>'TTC36'</li><li>'WFDC11'</li><li>'WFDC8'</li><li>'WSCD1'</li><li>'WSCD2'</li><li>'ZAR1L'</li><li>'ZDHHC11B'</li><li>'ZHX1-C8orf76'</li><li>'ZNF141'</li><li>'ZNF154'</li><li>'ZNF280B'</li><li>'ZNF284'</li><li>'ZNF37A'</li><li>'ZNF385D'</li><li>'ZNF425'</li><li>'ZNF43'</li><li>'ZNF527'</li><li>'ZNF540'</li><li>'ZNF674'</li><li>'ZNF680'</li><li>'ZNF729'</li><li>'ZNF732'</li><li>'ZNF737'</li><li>'ZNF75D'</li><li>'ZNF780B'</li><li>'ZNF782'</li><li>'ZNF783'</li><li>'ZNF789'</li><li>'ZNF799'</li><li>'ZNF814'</li><li>'ZNF841'</li><li>'ZNF879'</li><li>'ZSCAN32'</li></ol>\n"
      ],
      "text/latex": [
       "\\begin{enumerate*}\n",
       "\\item 'HSPA1B'\n",
       "\\item 'MT1A'\n",
       "\\item 'NOG'\n",
       "\\item 'UGT1A3'\n",
       "\\item 'ACOT1'\n",
       "\\item 'ACOT4'\n",
       "\\item 'ACY3'\n",
       "\\item 'NME1'\n",
       "\\item 'NDUFS8'\n",
       "\\item 'NME1-NME2'\n",
       "\\item 'TPSAB1'\n",
       "\\item 'CYP11B1'\n",
       "\\item 'IGF2'\n",
       "\\item 'NPPB'\n",
       "\\item 'CYP1A2'\n",
       "\\item 'EPO'\n",
       "\\item 'CGB5'\n",
       "\\item 'CGB8'\n",
       "\\item 'GSTM2'\n",
       "\\item 'HOXA9'\n",
       "\\item 'GRXCR2'\n",
       "\\item 'MPP1'\n",
       "\\item 'OTOG'\n",
       "\\item 'GNG11'\n",
       "\\item 'FGF4'\n",
       "\\item 'AOC2'\n",
       "\\item 'AOC3'\n",
       "\\item 'ADH1A'\n",
       "\\item 'ADH1C'\n",
       "\\item 'LIPA'\n",
       "\\item 'SLC18A3'\n",
       "\\item 'FLOT1'\n",
       "\\item 'CHRNB4'\n",
       "\\item 'CNGA4'\n",
       "\\item 'AP2M1'\n",
       "\\item 'PSMD3'\n",
       "\\item 'ADAM18'\n",
       "\\item 'APOA5'\n",
       "\\item 'APOC3'\n",
       "\\item 'CLCN2'\n",
       "\\item 'HLA-DRB1'\n",
       "\\item 'MPC1L'\n",
       "\\item 'HSPA1L'\n",
       "\\item 'PSME2'\n",
       "\\item 'PABPN1L'\n",
       "\\item 'IL13'\n",
       "\\item 'MAP4K2'\n",
       "\\item 'MPDU1'\n",
       "\\item 'CCL11'\n",
       "\\item 'CCL7'\n",
       "\\item 'CXCL9'\n",
       "\\item 'CXCR1'\n",
       "\\item 'PTGIR'\n",
       "\\item 'ALOX15B'\n",
       "\\item 'TST'\n",
       "\\item 'ALOXE3'\n",
       "\\item 'CYP27B1'\n",
       "\\item 'AMY1A'\n",
       "\\item 'ANKRD30A'\n",
       "\\item 'APOA4'\n",
       "\\item 'APOC1'\n",
       "\\item 'APOC2'\n",
       "\\item 'AIFM3'\n",
       "\\item 'APOBEC3G'\n",
       "\\item 'PA2G4'\n",
       "\\item 'ARF5'\n",
       "\\item 'ALYREF'\n",
       "\\item 'ATP4A'\n",
       "\\item 'SULT1A2'\n",
       "\\item 'AKR7A3'\n",
       "\\item 'OTOP1'\n",
       "\\item 'APOBEC3D'\n",
       "\\item 'HAUS4'\n",
       "\\item 'BAG6'\n",
       "\\item 'ANKLE1'\n",
       "\\item 'MMP10'\n",
       "\\item 'FGB'\n",
       "\\item 'FGG'\n",
       "\\item 'AZU1'\n",
       "\\item 'LTA'\n",
       "\\item 'LTB'\n",
       "\\item 'CBX4'\n",
       "\\item 'CIAO1'\n",
       "\\item 'UXT'\n",
       "\\item 'C1QA'\n",
       "\\item 'C1QB'\n",
       "\\item 'BAGE2'\n",
       "\\item 'CXCL11'\n",
       "\\item 'C5AR1'\n",
       "\\item 'CARD16'\n",
       "\\item 'MT3'\n",
       "\\item 'TH'\n",
       "\\item 'C10orf120'\n",
       "\\item 'C3orf18'\n",
       "\\item 'CCR2'\n",
       "\\item 'CDKN2B'\n",
       "\\item 'CCL3'\n",
       "\\item 'CCL8'\n",
       "\\item 'ACTRT2'\n",
       "\\item 'ANKRD16'\n",
       "\\item 'HLA-DPB1'\n",
       "\\item 'CD1C'\n",
       "\\item 'ST6GALNAC6'\n",
       "\\item 'CCT8L2'\n",
       "\\item 'BIVM-ERCC5'\n",
       "\\item 'C2CD4B'\n",
       "\\item 'CDHR4'\n",
       "\\item 'C2CD4A'\n",
       "\\item 'CD7'\n",
       "\\item 'C8orf58'\n",
       "\\item 'CENPH'\n",
       "\\item 'CENPB'\n",
       "\\item 'C22orf42'\n",
       "\\item 'ACRV1'\n",
       "\\item 'FUT5'\n",
       "\\item 'ARL9'\n",
       "\\item 'GSTM5'\n",
       "\\item 'CLEC4M'\n",
       "\\item 'ARMS2'\n",
       "\\item 'LIN7B'\n",
       "\\item 'CYP26C1'\n",
       "\\item 'CASP5'\n",
       "\\item 'PTPMT1'\n",
       "\\item 'ANKRD36C'\n",
       "\\item 'C1orf146'\n",
       "\\item 'CXCL3'\n",
       "\\item 'CXCL6'\n",
       "\\item 'A3GALT2'\n",
       "\\item 'CYP2A7'\n",
       "\\item 'CYP4F3'\n",
       "\\item 'C1orf53'\n",
       "\\item 'CRYBB1'\n",
       "\\item 'COL11A2'\n",
       "\\item 'ADM5'\n",
       "\\item 'ANKRD34B'\n",
       "\\item 'C11orf96'\n",
       "\\item 'ECH1'\n",
       "\\item 'CHIC1'\n",
       "\\item 'DEF8'\n",
       "\\item 'DNAJC25'\n",
       "\\item 'DHRS12'\n",
       "\\item 'CEACAM16'\n",
       "\\item 'DPPA2'\n",
       "\\item 'CT45A6'\n",
       "\\item 'DHRS4L1'\n",
       "\\item 'DUOXA2'\n",
       "\\item 'CDCP2'\n",
       "\\item 'DPEP3'\n",
       "\\item 'EID2B'\n",
       "\\item 'DEFB106A'\n",
       "\\item 'DEFB106B'\n",
       "\\item 'CRYGD'\n",
       "\\item 'DEFB135'\n",
       "\\item 'DEFB136'\n",
       "\\item 'TAP1'\n",
       "\\item 'TAP2'\n",
       "\\item 'ZNF830'\n",
       "\\item 'F10'\n",
       "\\item 'DEFB125'\n",
       "\\item 'ERVMER34-1'\n",
       "\\item 'FCN2'\n",
       "\\item 'SRMS'\n",
       "\\item 'GADL1'\n",
       "\\item 'FOLR2'\n",
       "\\item 'MST1'\n",
       "\\item 'DEFB110'\n",
       "\\item 'FNDC1'\n",
       "\\item 'GABARAP'\n",
       "\\item 'FCRL6'\n",
       "\\item 'C7orf57'\n",
       "\\item 'GBX1'\n",
       "\\item 'HOXA11'\n",
       "\\item 'GAGE12J'\n",
       "\\item 'GAGE2A'\n",
       "\\item 'FAM25A'\n",
       "\\item 'FAM25G'\n",
       "\\item 'GJB6'\n",
       "\\item 'GOLGA6C'\n",
       "\\item 'CSH1'\n",
       "\\item 'CSH2'\n",
       "\\item 'HBG2'\n",
       "\\item 'HBG1'\n",
       "\\item 'HBQ1'\n",
       "\\item 'HLA-C'\n",
       "\\item 'FBXO47'\n",
       "\\item 'HEXIM2'\n",
       "\\item 'BPIFC'\n",
       "\\item 'DEFB107A'\n",
       "\\item 'DEFB107B'\n",
       "\\item 'HSPB2'\n",
       "\\item 'HSPE1'\n",
       "\\item 'HLA-DMB'\n",
       "\\item 'DTHD1'\n",
       "\\item 'IFNA4'\n",
       "\\item 'IFNA6'\n",
       "\\item 'IFNA8'\n",
       "\\item 'IFNL2'\n",
       "\\item 'KLK2'\n",
       "\\item 'HSPE1-MOB4'\n",
       "\\item 'IFITM5'\n",
       "\\item ⋯\n",
       "\\item 'SHISA8'\n",
       "\\item 'LRTM2'\n",
       "\\item 'KIAA2012'\n",
       "\\item 'STOML2'\n",
       "\\item 'MPZL3'\n",
       "\\item 'IGFBPL1'\n",
       "\\item 'NTN5'\n",
       "\\item 'SCRT1'\n",
       "\\item 'SMIM22'\n",
       "\\item 'DEFB114'\n",
       "\\item 'TOR1B'\n",
       "\\item 'HAPLN4'\n",
       "\\item 'SUN3'\n",
       "\\item 'TBCB'\n",
       "\\item 'LRRC10B'\n",
       "\\item 'REC114'\n",
       "\\item 'SMIM11'\n",
       "\\item 'SCGB1D2'\n",
       "\\item 'DEFB105A'\n",
       "\\item 'DEFB105B'\n",
       "\\item 'TMEM14C'\n",
       "\\item 'SBK2'\n",
       "\\item 'TMEM132E'\n",
       "\\item 'DBX1'\n",
       "\\item 'SYCE1L'\n",
       "\\item 'TNNI3'\n",
       "\\item 'CHURC1-FNTB'\n",
       "\\item 'DYTN'\n",
       "\\item 'RIIAD1'\n",
       "\\item 'SPANXN5'\n",
       "\\item 'PMF1-BGLAP'\n",
       "\\item 'PPAN-P2RY11'\n",
       "\\item 'RBAK-RBAKDN'\n",
       "\\item 'TMED7-TICAM2'\n",
       "\\item 'RBM14-RBM4'\n",
       "\\item 'SYNJ2BP-COX16'\n",
       "\\item 'TRIM52'\n",
       "\\item 'PLSCR5'\n",
       "\\item 'SPAG11A'\n",
       "\\item 'SPINK14'\n",
       "\\item 'CT62'\n",
       "\\item 'TRA'\n",
       "\\item 'USP17L7'\n",
       "\\item 'TSPY3'\n",
       "\\item 'PYDC1'\n",
       "\\item 'SERPINA2'\n",
       "\\item 'TMEM151B'\n",
       "\\item 'TMEM176B'\n",
       "\\item 'SPRED3'\n",
       "\\item 'ZFAND2B'\n",
       "\\item 'ZBTB6'\n",
       "\\item 'ZNF396'\n",
       "\\item 'ZNF324'\n",
       "\\item 'VCX2'\n",
       "\\item 'ZNF497'\n",
       "\\item 'TCP11X2'\n",
       "\\item 'TSPYL4'\n",
       "\\item 'VCX'\n",
       "\\item 'ZNF716'\n",
       "\\item 'PCDHA13'\n",
       "\\item 'PRAMEF25'\n",
       "\\item 'TBC1D3K'\n",
       "\\item 'TXNDC8'\n",
       "\\item 'ZSCAN30'\n",
       "\\item 'TRIM6-TRIM34'\n",
       "\\item 'ZNF776'\n",
       "\\item 'TTC6'\n",
       "\\item 'AKAP2'\n",
       "\\item 'ARL14EPL'\n",
       "\\item 'ASAH2B'\n",
       "\\item 'CCDC169'\n",
       "\\item 'CT47A1'\n",
       "\\item 'CT47A10'\n",
       "\\item 'CT47A11'\n",
       "\\item 'CT47A12'\n",
       "\\item 'CT47A2'\n",
       "\\item 'CT47A3'\n",
       "\\item 'CT47A4'\n",
       "\\item 'CT47A5'\n",
       "\\item 'CT47A6'\n",
       "\\item 'CT47A7'\n",
       "\\item 'CT47A8'\n",
       "\\item 'CT47A9'\n",
       "\\item 'CWH43'\n",
       "\\item 'CXorf51A'\n",
       "\\item 'CXorf51B'\n",
       "\\item 'DMRTA2'\n",
       "\\item 'DPPA5'\n",
       "\\item 'DUXA'\n",
       "\\item 'DUXB'\n",
       "\\item 'EPHX3'\n",
       "\\item 'EVPLL'\n",
       "\\item 'FAM157A'\n",
       "\\item 'FAM162B'\n",
       "\\item 'FAM229A'\n",
       "\\item 'FOXI3'\n",
       "\\item 'FOXL2NB'\n",
       "\\item 'GAB4'\n",
       "\\item 'GOLGA6L6'\n",
       "\\item 'GOLGA8H'\n",
       "\\item 'GOLGA8N'\n",
       "\\item 'GPR83'\n",
       "\\item 'HNRNPCL4'\n",
       "\\item 'IGLON5'\n",
       "\\item 'INAFM2'\n",
       "\\item 'IQCA1'\n",
       "\\item 'IQSEC3'\n",
       "\\item 'KCP'\n",
       "\\item 'KDM4E'\n",
       "\\item 'KLLN'\n",
       "\\item 'KRTAP2-2'\n",
       "\\item 'LINGO4'\n",
       "\\item 'LUZP6'\n",
       "\\item 'MANSC4'\n",
       "\\item 'MFSD2B'\n",
       "\\item 'MIR205HG'\n",
       "\\item 'MSANTD1'\n",
       "\\item 'MSANTD3-TMEFF1'\n",
       "\\item 'MSMP'\n",
       "\\item 'MYO1H'\n",
       "\\item 'NLRP8'\n",
       "\\item 'NOBOX'\n",
       "\\item 'NPAP1'\n",
       "\\item 'NXPE1'\n",
       "\\item 'PALM2'\n",
       "\\item 'PCDHA1'\n",
       "\\item 'PCDHA2'\n",
       "\\item 'PINLYP'\n",
       "\\item 'PIRT'\n",
       "\\item 'PLAC4'\n",
       "\\item 'POTEM'\n",
       "\\item 'POU5F1B'\n",
       "\\item 'PRAMEF22'\n",
       "\\item 'PRCD'\n",
       "\\item 'PRR21'\n",
       "\\item 'PRR23D1'\n",
       "\\item 'PRSS58'\n",
       "\\item 'PRY'\n",
       "\\item 'PRY2'\n",
       "\\item 'PTX4'\n",
       "\\item 'PXT1'\n",
       "\\item 'RBMY1B'\n",
       "\\item 'REG1A'\n",
       "\\item 'RNF175'\n",
       "\\item 'RPRML'\n",
       "\\item 'S100A7L2'\n",
       "\\item 'SAMD15'\n",
       "\\item 'SERPINA11'\n",
       "\\item 'SLC22A25'\n",
       "\\item 'SMIM21'\n",
       "\\item 'SMKR1'\n",
       "\\item 'SP9'\n",
       "\\item 'SPATA31D3'\n",
       "\\item 'SPDYE2B'\n",
       "\\item 'SPINK13'\n",
       "\\item 'STPG1'\n",
       "\\item 'SUPT20HL1'\n",
       "\\item 'SYCN'\n",
       "\\item 'TEX30'\n",
       "\\item 'TMEM116'\n",
       "\\item 'TMEM150C'\n",
       "\\item 'TMEM163'\n",
       "\\item 'TMEM81'\n",
       "\\item 'TMEM82'\n",
       "\\item 'TMPRSS9'\n",
       "\\item 'TRIM64'\n",
       "\\item 'TSPY8'\n",
       "\\item 'TTC36'\n",
       "\\item 'WFDC11'\n",
       "\\item 'WFDC8'\n",
       "\\item 'WSCD1'\n",
       "\\item 'WSCD2'\n",
       "\\item 'ZAR1L'\n",
       "\\item 'ZDHHC11B'\n",
       "\\item 'ZHX1-C8orf76'\n",
       "\\item 'ZNF141'\n",
       "\\item 'ZNF154'\n",
       "\\item 'ZNF280B'\n",
       "\\item 'ZNF284'\n",
       "\\item 'ZNF37A'\n",
       "\\item 'ZNF385D'\n",
       "\\item 'ZNF425'\n",
       "\\item 'ZNF43'\n",
       "\\item 'ZNF527'\n",
       "\\item 'ZNF540'\n",
       "\\item 'ZNF674'\n",
       "\\item 'ZNF680'\n",
       "\\item 'ZNF729'\n",
       "\\item 'ZNF732'\n",
       "\\item 'ZNF737'\n",
       "\\item 'ZNF75D'\n",
       "\\item 'ZNF780B'\n",
       "\\item 'ZNF782'\n",
       "\\item 'ZNF783'\n",
       "\\item 'ZNF789'\n",
       "\\item 'ZNF799'\n",
       "\\item 'ZNF814'\n",
       "\\item 'ZNF841'\n",
       "\\item 'ZNF879'\n",
       "\\item 'ZSCAN32'\n",
       "\\end{enumerate*}\n"
      ],
      "text/markdown": [
       "1. 'HSPA1B'\n",
       "2. 'MT1A'\n",
       "3. 'NOG'\n",
       "4. 'UGT1A3'\n",
       "5. 'ACOT1'\n",
       "6. 'ACOT4'\n",
       "7. 'ACY3'\n",
       "8. 'NME1'\n",
       "9. 'NDUFS8'\n",
       "10. 'NME1-NME2'\n",
       "11. 'TPSAB1'\n",
       "12. 'CYP11B1'\n",
       "13. 'IGF2'\n",
       "14. 'NPPB'\n",
       "15. 'CYP1A2'\n",
       "16. 'EPO'\n",
       "17. 'CGB5'\n",
       "18. 'CGB8'\n",
       "19. 'GSTM2'\n",
       "20. 'HOXA9'\n",
       "21. 'GRXCR2'\n",
       "22. 'MPP1'\n",
       "23. 'OTOG'\n",
       "24. 'GNG11'\n",
       "25. 'FGF4'\n",
       "26. 'AOC2'\n",
       "27. 'AOC3'\n",
       "28. 'ADH1A'\n",
       "29. 'ADH1C'\n",
       "30. 'LIPA'\n",
       "31. 'SLC18A3'\n",
       "32. 'FLOT1'\n",
       "33. 'CHRNB4'\n",
       "34. 'CNGA4'\n",
       "35. 'AP2M1'\n",
       "36. 'PSMD3'\n",
       "37. 'ADAM18'\n",
       "38. 'APOA5'\n",
       "39. 'APOC3'\n",
       "40. 'CLCN2'\n",
       "41. 'HLA-DRB1'\n",
       "42. 'MPC1L'\n",
       "43. 'HSPA1L'\n",
       "44. 'PSME2'\n",
       "45. 'PABPN1L'\n",
       "46. 'IL13'\n",
       "47. 'MAP4K2'\n",
       "48. 'MPDU1'\n",
       "49. 'CCL11'\n",
       "50. 'CCL7'\n",
       "51. 'CXCL9'\n",
       "52. 'CXCR1'\n",
       "53. 'PTGIR'\n",
       "54. 'ALOX15B'\n",
       "55. 'TST'\n",
       "56. 'ALOXE3'\n",
       "57. 'CYP27B1'\n",
       "58. 'AMY1A'\n",
       "59. 'ANKRD30A'\n",
       "60. 'APOA4'\n",
       "61. 'APOC1'\n",
       "62. 'APOC2'\n",
       "63. 'AIFM3'\n",
       "64. 'APOBEC3G'\n",
       "65. 'PA2G4'\n",
       "66. 'ARF5'\n",
       "67. 'ALYREF'\n",
       "68. 'ATP4A'\n",
       "69. 'SULT1A2'\n",
       "70. 'AKR7A3'\n",
       "71. 'OTOP1'\n",
       "72. 'APOBEC3D'\n",
       "73. 'HAUS4'\n",
       "74. 'BAG6'\n",
       "75. 'ANKLE1'\n",
       "76. 'MMP10'\n",
       "77. 'FGB'\n",
       "78. 'FGG'\n",
       "79. 'AZU1'\n",
       "80. 'LTA'\n",
       "81. 'LTB'\n",
       "82. 'CBX4'\n",
       "83. 'CIAO1'\n",
       "84. 'UXT'\n",
       "85. 'C1QA'\n",
       "86. 'C1QB'\n",
       "87. 'BAGE2'\n",
       "88. 'CXCL11'\n",
       "89. 'C5AR1'\n",
       "90. 'CARD16'\n",
       "91. 'MT3'\n",
       "92. 'TH'\n",
       "93. 'C10orf120'\n",
       "94. 'C3orf18'\n",
       "95. 'CCR2'\n",
       "96. 'CDKN2B'\n",
       "97. 'CCL3'\n",
       "98. 'CCL8'\n",
       "99. 'ACTRT2'\n",
       "100. 'ANKRD16'\n",
       "101. 'HLA-DPB1'\n",
       "102. 'CD1C'\n",
       "103. 'ST6GALNAC6'\n",
       "104. 'CCT8L2'\n",
       "105. 'BIVM-ERCC5'\n",
       "106. 'C2CD4B'\n",
       "107. 'CDHR4'\n",
       "108. 'C2CD4A'\n",
       "109. 'CD7'\n",
       "110. 'C8orf58'\n",
       "111. 'CENPH'\n",
       "112. 'CENPB'\n",
       "113. 'C22orf42'\n",
       "114. 'ACRV1'\n",
       "115. 'FUT5'\n",
       "116. 'ARL9'\n",
       "117. 'GSTM5'\n",
       "118. 'CLEC4M'\n",
       "119. 'ARMS2'\n",
       "120. 'LIN7B'\n",
       "121. 'CYP26C1'\n",
       "122. 'CASP5'\n",
       "123. 'PTPMT1'\n",
       "124. 'ANKRD36C'\n",
       "125. 'C1orf146'\n",
       "126. 'CXCL3'\n",
       "127. 'CXCL6'\n",
       "128. 'A3GALT2'\n",
       "129. 'CYP2A7'\n",
       "130. 'CYP4F3'\n",
       "131. 'C1orf53'\n",
       "132. 'CRYBB1'\n",
       "133. 'COL11A2'\n",
       "134. 'ADM5'\n",
       "135. 'ANKRD34B'\n",
       "136. 'C11orf96'\n",
       "137. 'ECH1'\n",
       "138. 'CHIC1'\n",
       "139. 'DEF8'\n",
       "140. 'DNAJC25'\n",
       "141. 'DHRS12'\n",
       "142. 'CEACAM16'\n",
       "143. 'DPPA2'\n",
       "144. 'CT45A6'\n",
       "145. 'DHRS4L1'\n",
       "146. 'DUOXA2'\n",
       "147. 'CDCP2'\n",
       "148. 'DPEP3'\n",
       "149. 'EID2B'\n",
       "150. 'DEFB106A'\n",
       "151. 'DEFB106B'\n",
       "152. 'CRYGD'\n",
       "153. 'DEFB135'\n",
       "154. 'DEFB136'\n",
       "155. 'TAP1'\n",
       "156. 'TAP2'\n",
       "157. 'ZNF830'\n",
       "158. 'F10'\n",
       "159. 'DEFB125'\n",
       "160. 'ERVMER34-1'\n",
       "161. 'FCN2'\n",
       "162. 'SRMS'\n",
       "163. 'GADL1'\n",
       "164. 'FOLR2'\n",
       "165. 'MST1'\n",
       "166. 'DEFB110'\n",
       "167. 'FNDC1'\n",
       "168. 'GABARAP'\n",
       "169. 'FCRL6'\n",
       "170. 'C7orf57'\n",
       "171. 'GBX1'\n",
       "172. 'HOXA11'\n",
       "173. 'GAGE12J'\n",
       "174. 'GAGE2A'\n",
       "175. 'FAM25A'\n",
       "176. 'FAM25G'\n",
       "177. 'GJB6'\n",
       "178. 'GOLGA6C'\n",
       "179. 'CSH1'\n",
       "180. 'CSH2'\n",
       "181. 'HBG2'\n",
       "182. 'HBG1'\n",
       "183. 'HBQ1'\n",
       "184. 'HLA-C'\n",
       "185. 'FBXO47'\n",
       "186. 'HEXIM2'\n",
       "187. 'BPIFC'\n",
       "188. 'DEFB107A'\n",
       "189. 'DEFB107B'\n",
       "190. 'HSPB2'\n",
       "191. 'HSPE1'\n",
       "192. 'HLA-DMB'\n",
       "193. 'DTHD1'\n",
       "194. 'IFNA4'\n",
       "195. 'IFNA6'\n",
       "196. 'IFNA8'\n",
       "197. 'IFNL2'\n",
       "198. 'KLK2'\n",
       "199. 'HSPE1-MOB4'\n",
       "200. 'IFITM5'\n",
       "201. ⋯\n",
       "202. 'SHISA8'\n",
       "203. 'LRTM2'\n",
       "204. 'KIAA2012'\n",
       "205. 'STOML2'\n",
       "206. 'MPZL3'\n",
       "207. 'IGFBPL1'\n",
       "208. 'NTN5'\n",
       "209. 'SCRT1'\n",
       "210. 'SMIM22'\n",
       "211. 'DEFB114'\n",
       "212. 'TOR1B'\n",
       "213. 'HAPLN4'\n",
       "214. 'SUN3'\n",
       "215. 'TBCB'\n",
       "216. 'LRRC10B'\n",
       "217. 'REC114'\n",
       "218. 'SMIM11'\n",
       "219. 'SCGB1D2'\n",
       "220. 'DEFB105A'\n",
       "221. 'DEFB105B'\n",
       "222. 'TMEM14C'\n",
       "223. 'SBK2'\n",
       "224. 'TMEM132E'\n",
       "225. 'DBX1'\n",
       "226. 'SYCE1L'\n",
       "227. 'TNNI3'\n",
       "228. 'CHURC1-FNTB'\n",
       "229. 'DYTN'\n",
       "230. 'RIIAD1'\n",
       "231. 'SPANXN5'\n",
       "232. 'PMF1-BGLAP'\n",
       "233. 'PPAN-P2RY11'\n",
       "234. 'RBAK-RBAKDN'\n",
       "235. 'TMED7-TICAM2'\n",
       "236. 'RBM14-RBM4'\n",
       "237. 'SYNJ2BP-COX16'\n",
       "238. 'TRIM52'\n",
       "239. 'PLSCR5'\n",
       "240. 'SPAG11A'\n",
       "241. 'SPINK14'\n",
       "242. 'CT62'\n",
       "243. 'TRA'\n",
       "244. 'USP17L7'\n",
       "245. 'TSPY3'\n",
       "246. 'PYDC1'\n",
       "247. 'SERPINA2'\n",
       "248. 'TMEM151B'\n",
       "249. 'TMEM176B'\n",
       "250. 'SPRED3'\n",
       "251. 'ZFAND2B'\n",
       "252. 'ZBTB6'\n",
       "253. 'ZNF396'\n",
       "254. 'ZNF324'\n",
       "255. 'VCX2'\n",
       "256. 'ZNF497'\n",
       "257. 'TCP11X2'\n",
       "258. 'TSPYL4'\n",
       "259. 'VCX'\n",
       "260. 'ZNF716'\n",
       "261. 'PCDHA13'\n",
       "262. 'PRAMEF25'\n",
       "263. 'TBC1D3K'\n",
       "264. 'TXNDC8'\n",
       "265. 'ZSCAN30'\n",
       "266. 'TRIM6-TRIM34'\n",
       "267. 'ZNF776'\n",
       "268. 'TTC6'\n",
       "269. 'AKAP2'\n",
       "270. 'ARL14EPL'\n",
       "271. 'ASAH2B'\n",
       "272. 'CCDC169'\n",
       "273. 'CT47A1'\n",
       "274. 'CT47A10'\n",
       "275. 'CT47A11'\n",
       "276. 'CT47A12'\n",
       "277. 'CT47A2'\n",
       "278. 'CT47A3'\n",
       "279. 'CT47A4'\n",
       "280. 'CT47A5'\n",
       "281. 'CT47A6'\n",
       "282. 'CT47A7'\n",
       "283. 'CT47A8'\n",
       "284. 'CT47A9'\n",
       "285. 'CWH43'\n",
       "286. 'CXorf51A'\n",
       "287. 'CXorf51B'\n",
       "288. 'DMRTA2'\n",
       "289. 'DPPA5'\n",
       "290. 'DUXA'\n",
       "291. 'DUXB'\n",
       "292. 'EPHX3'\n",
       "293. 'EVPLL'\n",
       "294. 'FAM157A'\n",
       "295. 'FAM162B'\n",
       "296. 'FAM229A'\n",
       "297. 'FOXI3'\n",
       "298. 'FOXL2NB'\n",
       "299. 'GAB4'\n",
       "300. 'GOLGA6L6'\n",
       "301. 'GOLGA8H'\n",
       "302. 'GOLGA8N'\n",
       "303. 'GPR83'\n",
       "304. 'HNRNPCL4'\n",
       "305. 'IGLON5'\n",
       "306. 'INAFM2'\n",
       "307. 'IQCA1'\n",
       "308. 'IQSEC3'\n",
       "309. 'KCP'\n",
       "310. 'KDM4E'\n",
       "311. 'KLLN'\n",
       "312. 'KRTAP2-2'\n",
       "313. 'LINGO4'\n",
       "314. 'LUZP6'\n",
       "315. 'MANSC4'\n",
       "316. 'MFSD2B'\n",
       "317. 'MIR205HG'\n",
       "318. 'MSANTD1'\n",
       "319. 'MSANTD3-TMEFF1'\n",
       "320. 'MSMP'\n",
       "321. 'MYO1H'\n",
       "322. 'NLRP8'\n",
       "323. 'NOBOX'\n",
       "324. 'NPAP1'\n",
       "325. 'NXPE1'\n",
       "326. 'PALM2'\n",
       "327. 'PCDHA1'\n",
       "328. 'PCDHA2'\n",
       "329. 'PINLYP'\n",
       "330. 'PIRT'\n",
       "331. 'PLAC4'\n",
       "332. 'POTEM'\n",
       "333. 'POU5F1B'\n",
       "334. 'PRAMEF22'\n",
       "335. 'PRCD'\n",
       "336. 'PRR21'\n",
       "337. 'PRR23D1'\n",
       "338. 'PRSS58'\n",
       "339. 'PRY'\n",
       "340. 'PRY2'\n",
       "341. 'PTX4'\n",
       "342. 'PXT1'\n",
       "343. 'RBMY1B'\n",
       "344. 'REG1A'\n",
       "345. 'RNF175'\n",
       "346. 'RPRML'\n",
       "347. 'S100A7L2'\n",
       "348. 'SAMD15'\n",
       "349. 'SERPINA11'\n",
       "350. 'SLC22A25'\n",
       "351. 'SMIM21'\n",
       "352. 'SMKR1'\n",
       "353. 'SP9'\n",
       "354. 'SPATA31D3'\n",
       "355. 'SPDYE2B'\n",
       "356. 'SPINK13'\n",
       "357. 'STPG1'\n",
       "358. 'SUPT20HL1'\n",
       "359. 'SYCN'\n",
       "360. 'TEX30'\n",
       "361. 'TMEM116'\n",
       "362. 'TMEM150C'\n",
       "363. 'TMEM163'\n",
       "364. 'TMEM81'\n",
       "365. 'TMEM82'\n",
       "366. 'TMPRSS9'\n",
       "367. 'TRIM64'\n",
       "368. 'TSPY8'\n",
       "369. 'TTC36'\n",
       "370. 'WFDC11'\n",
       "371. 'WFDC8'\n",
       "372. 'WSCD1'\n",
       "373. 'WSCD2'\n",
       "374. 'ZAR1L'\n",
       "375. 'ZDHHC11B'\n",
       "376. 'ZHX1-C8orf76'\n",
       "377. 'ZNF141'\n",
       "378. 'ZNF154'\n",
       "379. 'ZNF280B'\n",
       "380. 'ZNF284'\n",
       "381. 'ZNF37A'\n",
       "382. 'ZNF385D'\n",
       "383. 'ZNF425'\n",
       "384. 'ZNF43'\n",
       "385. 'ZNF527'\n",
       "386. 'ZNF540'\n",
       "387. 'ZNF674'\n",
       "388. 'ZNF680'\n",
       "389. 'ZNF729'\n",
       "390. 'ZNF732'\n",
       "391. 'ZNF737'\n",
       "392. 'ZNF75D'\n",
       "393. 'ZNF780B'\n",
       "394. 'ZNF782'\n",
       "395. 'ZNF783'\n",
       "396. 'ZNF789'\n",
       "397. 'ZNF799'\n",
       "398. 'ZNF814'\n",
       "399. 'ZNF841'\n",
       "400. 'ZNF879'\n",
       "401. 'ZSCAN32'\n",
       "\n",
       "\n"
      ],
      "text/plain": [
       "  [1] \"HSPA1B\"         \"MT1A\"           \"NOG\"            \"UGT1A3\"        \n",
       "  [5] \"ACOT1\"          \"ACOT4\"          \"ACY3\"           \"NME1\"          \n",
       "  [9] \"NDUFS8\"         \"NME1-NME2\"      \"TPSAB1\"         \"CYP11B1\"       \n",
       " [13] \"IGF2\"           \"NPPB\"           \"CYP1A2\"         \"EPO\"           \n",
       " [17] \"CGB5\"           \"CGB8\"           \"GSTM2\"          \"HOXA9\"         \n",
       " [21] \"GRXCR2\"         \"MPP1\"           \"OTOG\"           \"GNG11\"         \n",
       " [25] \"FGF4\"           \"AOC2\"           \"AOC3\"           \"ADH1A\"         \n",
       " [29] \"ADH1C\"          \"LIPA\"           \"SLC18A3\"        \"FLOT1\"         \n",
       " [33] \"CHRNB4\"         \"CNGA4\"          \"AP2M1\"          \"PSMD3\"         \n",
       " [37] \"ADAM18\"         \"APOA5\"          \"APOC3\"          \"CLCN2\"         \n",
       " [41] \"HLA-DRB1\"       \"MPC1L\"          \"HSPA1L\"         \"PSME2\"         \n",
       " [45] \"PABPN1L\"        \"IL13\"           \"MAP4K2\"         \"MPDU1\"         \n",
       " [49] \"CCL11\"          \"CCL7\"           \"CXCL9\"          \"CXCR1\"         \n",
       " [53] \"PTGIR\"          \"ALOX15B\"        \"TST\"            \"ALOXE3\"        \n",
       " [57] \"CYP27B1\"        \"AMY1A\"          \"ANKRD30A\"       \"APOA4\"         \n",
       " [61] \"APOC1\"          \"APOC2\"          \"AIFM3\"          \"APOBEC3G\"      \n",
       " [65] \"PA2G4\"          \"ARF5\"           \"ALYREF\"         \"ATP4A\"         \n",
       " [69] \"SULT1A2\"        \"AKR7A3\"         \"OTOP1\"          \"APOBEC3D\"      \n",
       " [73] \"HAUS4\"          \"BAG6\"           \"ANKLE1\"         \"MMP10\"         \n",
       " [77] \"FGB\"            \"FGG\"            \"AZU1\"           \"LTA\"           \n",
       " [81] \"LTB\"            \"CBX4\"           \"CIAO1\"          \"UXT\"           \n",
       " [85] \"C1QA\"           \"C1QB\"           \"BAGE2\"          \"CXCL11\"        \n",
       " [89] \"C5AR1\"          \"CARD16\"         \"MT3\"            \"TH\"            \n",
       " [93] \"C10orf120\"      \"C3orf18\"        \"CCR2\"           \"CDKN2B\"        \n",
       " [97] \"CCL3\"           \"CCL8\"           \"ACTRT2\"         \"ANKRD16\"       \n",
       "[101] \"HLA-DPB1\"       \"CD1C\"           \"ST6GALNAC6\"     \"CCT8L2\"        \n",
       "[105] \"BIVM-ERCC5\"     \"C2CD4B\"         \"CDHR4\"          \"C2CD4A\"        \n",
       "[109] \"CD7\"            \"C8orf58\"        \"CENPH\"          \"CENPB\"         \n",
       "[113] \"C22orf42\"       \"ACRV1\"          \"FUT5\"           \"ARL9\"          \n",
       "[117] \"GSTM5\"          \"CLEC4M\"         \"ARMS2\"          \"LIN7B\"         \n",
       "[121] \"CYP26C1\"        \"CASP5\"          \"PTPMT1\"         \"ANKRD36C\"      \n",
       "[125] \"C1orf146\"       \"CXCL3\"          \"CXCL6\"          \"A3GALT2\"       \n",
       "[129] \"CYP2A7\"         \"CYP4F3\"         \"C1orf53\"        \"CRYBB1\"        \n",
       "[133] \"COL11A2\"        \"ADM5\"           \"ANKRD34B\"       \"C11orf96\"      \n",
       "[137] \"ECH1\"           \"CHIC1\"          \"DEF8\"           \"DNAJC25\"       \n",
       "[141] \"DHRS12\"         \"CEACAM16\"       \"DPPA2\"          \"CT45A6\"        \n",
       "[145] \"DHRS4L1\"        \"DUOXA2\"         \"CDCP2\"          \"DPEP3\"         \n",
       "[149] \"EID2B\"          \"DEFB106A\"       \"DEFB106B\"       \"CRYGD\"         \n",
       "[153] \"DEFB135\"        \"DEFB136\"        \"TAP1\"           \"TAP2\"          \n",
       "[157] \"ZNF830\"         \"F10\"            \"DEFB125\"        \"ERVMER34-1\"    \n",
       "[161] \"FCN2\"           \"SRMS\"           \"GADL1\"          \"FOLR2\"         \n",
       "[165] \"MST1\"           \"DEFB110\"        \"FNDC1\"          \"GABARAP\"       \n",
       "[169] \"FCRL6\"          \"C7orf57\"        \"GBX1\"           \"HOXA11\"        \n",
       "[173] \"GAGE12J\"        \"GAGE2A\"         \"FAM25A\"         \"FAM25G\"        \n",
       "[177] \"GJB6\"           \"GOLGA6C\"        \"CSH1\"           \"CSH2\"          \n",
       "[181] \"HBG2\"           \"HBG1\"           \"HBQ1\"           \"HLA-C\"         \n",
       "[185] \"FBXO47\"         \"HEXIM2\"         \"BPIFC\"          \"DEFB107A\"      \n",
       "[189] \"DEFB107B\"       \"HSPB2\"          \"HSPE1\"          \"HLA-DMB\"       \n",
       "[193] \"DTHD1\"          \"IFNA4\"          \"IFNA6\"          \"IFNA8\"         \n",
       "[197] \"IFNL2\"          \"KLK2\"           \"HSPE1-MOB4\"     \"IFITM5\"        \n",
       "[201] \"IFIT5\"          \"IFIT2\"          \"HOXB7\"          \"TLR10\"         \n",
       "[205] \"HBM\"            \"CRYGB\"          \"STATH\"          \"FHAD1\"         \n",
       "[209] \"HHLA1\"          \"DEFA3\"          \"KRT17\"          \"KRT16\"         \n",
       "[213] \"KRT19\"          \"KRT2\"           \"KRT14\"          \"KRT6A\"         \n",
       "[217] \"KRTAP10-1\"      \"KRTAP10-3\"      \"KRTAP10-5\"      \"KRTAP10-7\"     \n",
       "[221] \"KRTAP10-9\"      \"KRTAP12-3\"      \"KRTAP10-11\"     \"KRTAP12-1\"     \n",
       "[225] \"KRTAP12-4\"      \"KRTAP2-3\"       \"KRTAP10-6\"      \"KRTAP10-10\"    \n",
       "[229] \"KRTAP4-4\"       \"KRTAP4-5\"       \"KRTAP4-1\"       \"KRTAP5-1\"      \n",
       "[233] \"KRTAP5-11\"      \"KRT77\"          \"KRTAP9-3\"       \"KRTAP9-8\"      \n",
       "[237] \"KRTAP9-4\"       \"LCE1A\"          \"LCE1B\"          \"LCE1C\"         \n",
       "[241] \"LCE1D\"          \"LCE1E\"          \"LCE2A\"          \"LCE2B\"         \n",
       "[245] \"LCE4A\"          \"FAM86B1\"        \"CDY1\"           \"CDY1B\"         \n",
       "[249] \"LILRB2\"         \"LCN6\"           \"IGH\"            \"KHDC1\"         \n",
       "[253] \"KRTAP6-1\"       \"LILRA6\"         \"LCN8\"           \"IL36B\"         \n",
       "[257] \"IFIT1B\"         \"ANKRD62\"        \"LRRC14B\"        \"C4orf36\"       \n",
       "[261] \"GOLGA6L1\"       \"KRTAP22-1\"      \"FBXO39\"         \"KRTAP19-1\"     \n",
       "[265] \"LYZL6\"          \"METTL13\"        \"CTRB2\"          \"LDLRAD2\"       \n",
       "[269] \"HTN1\"           \"MEGF9\"          \"MYL6B\"          \"PARP9\"         \n",
       "[273] \"MAGEL2\"         \"LCE2D\"          \"C15orf62\"       \"NBPF9\"         \n",
       "[277] \"NEFM\"           \"KIAA1614\"       \"GOLGA8M\"        \"KHDC3L\"        \n",
       "[281] \"FER1L5\"         \"LRRC10\"         \"LRRC37A3\"       \"HES3\"          \n",
       "[285] \"NEDD8-MDP1\"     \"CGB1\"           \"NPIPB6\"         \"ATP13A5\"       \n",
       "[289] \"ARPC4-TTLL3\"    \"IQCA1L\"         \"OPRL1\"          \"GOLGA8K\"       \n",
       "[293] \"ORM1\"           \"NBPF6\"          \"PAGR1\"          \"PCDHA9\"        \n",
       "[297] \"PCDHA11\"        \"PCDHAC2\"        \"PCDHB10\"        \"PCDHB13\"       \n",
       "[301] \"PCDHB12\"        \"PCDHA12\"        \"PCDHA4\"         \"PCDHA8\"        \n",
       "[305] \"PCDHAC1\"        \"PCDHB7\"         \"PCDHB6\"         \"PCDHA3\"        \n",
       "[309] \"OSTN\"           \"NXNL2\"          \"ACTRT3\"         \"CCDC175\"       \n",
       "[313] \"IL17D\"          \"GOLGA8O\"        \"MS4A15\"         \"NFKBIE\"        \n",
       "[317] \"LILRA5\"         \"PILRB\"          \"POTEG\"          \"ADAM29\"        \n",
       "[321] \"PRAMEF12\"       \"LACTBL1\"        \"PABPC1L2A\"      \"PABPC1L2B\"     \n",
       "[325] \"BTBD17\"         \"AGAP6\"          \"C2orf80\"        \"DCDC2C\"        \n",
       "[329] \"FAM47E\"         \"NPIPB11\"        \"PRR27\"          \"MRGPRX4\"       \n",
       "[333] \"PCDHA7\"         \"NUTM2A\"         \"RBM23\"          \"RBM4B\"         \n",
       "[337] \"PRAMEF2\"        \"PCDHA6\"         \"LCE3B\"          \"RASL10A\"       \n",
       "[341] \"RNASEH2A\"       \"CT45A8\"         \"CT45A9\"         \"PCDHA5\"        \n",
       "[345] \"ABHD13\"         \"RNF208\"         \"LINC00452\"      \"RECQL\"         \n",
       "[349] \"RRP8\"           \"S100A6\"         \"S100A3\"         \"PCDHA10\"       \n",
       "[353] \"PRR25\"          \"CT45A7\"         \"SELL\"           \"SCGB1C1\"       \n",
       "[357] \"SEMG2\"          \"S100A14\"        \"SERPINB4\"       \"PAGE2B\"        \n",
       "[361] \"PGA5\"           \"SCGB2A1\"        \"SCAMP3\"         \"IGL\"           \n",
       "[365] \"PRR5-ARHGAP8\"   \"HRCT1\"          \"SHISA8\"         \"LRTM2\"         \n",
       "[369] \"KIAA2012\"       \"STOML2\"         \"MPZL3\"          \"IGFBPL1\"       \n",
       "[373] \"NTN5\"           \"SCRT1\"          \"SMIM22\"         \"DEFB114\"       \n",
       "[377] \"TOR1B\"          \"HAPLN4\"         \"SUN3\"           \"TBCB\"          \n",
       "[381] \"LRRC10B\"        \"REC114\"         \"SMIM11\"         \"SCGB1D2\"       \n",
       "[385] \"DEFB105A\"       \"DEFB105B\"       \"TMEM14C\"        \"SBK2\"          \n",
       "[389] \"TMEM132E\"       \"DBX1\"           \"SYCE1L\"         \"TNNI3\"         \n",
       "[393] \"CHURC1-FNTB\"    \"DYTN\"           \"RIIAD1\"         \"SPANXN5\"       \n",
       "[397] \"PMF1-BGLAP\"     \"PPAN-P2RY11\"    \"RBAK-RBAKDN\"    \"TMED7-TICAM2\"  \n",
       "[401] \"RBM14-RBM4\"     \"SYNJ2BP-COX16\"  \"TRIM52\"         \"PLSCR5\"        \n",
       "[405] \"SPAG11A\"        \"SPINK14\"        \"CT62\"           \"TRA\"           \n",
       "[409] \"USP17L7\"        \"TSPY3\"          \"PYDC1\"          \"SERPINA2\"      \n",
       "[413] \"TMEM151B\"       \"TMEM176B\"       \"SPRED3\"         \"ZFAND2B\"       \n",
       "[417] \"ZBTB6\"          \"ZNF396\"         \"ZNF324\"         \"VCX2\"          \n",
       "[421] \"ZNF497\"         \"TCP11X2\"        \"TSPYL4\"         \"VCX\"           \n",
       "[425] \"ZNF716\"         \"PCDHA13\"        \"PRAMEF25\"       \"TBC1D3K\"       \n",
       "[429] \"TXNDC8\"         \"ZSCAN30\"        \"TRIM6-TRIM34\"   \"ZNF776\"        \n",
       "[433] \"TTC6\"           \"AKAP2\"          \"ARL14EPL\"       \"ASAH2B\"        \n",
       "[437] \"CCDC169\"        \"CT47A1\"         \"CT47A10\"        \"CT47A11\"       \n",
       "[441] \"CT47A12\"        \"CT47A2\"         \"CT47A3\"         \"CT47A4\"        \n",
       "[445] \"CT47A5\"         \"CT47A6\"         \"CT47A7\"         \"CT47A8\"        \n",
       "[449] \"CT47A9\"         \"CWH43\"          \"CXorf51A\"       \"CXorf51B\"      \n",
       "[453] \"DMRTA2\"         \"DPPA5\"          \"DUXA\"           \"DUXB\"          \n",
       "[457] \"EPHX3\"          \"EVPLL\"          \"FAM157A\"        \"FAM162B\"       \n",
       "[461] \"FAM229A\"        \"FOXI3\"          \"FOXL2NB\"        \"GAB4\"          \n",
       "[465] \"GOLGA6L6\"       \"GOLGA8H\"        \"GOLGA8N\"        \"GPR83\"         \n",
       "[469] \"HNRNPCL4\"       \"IGLON5\"         \"INAFM2\"         \"IQCA1\"         \n",
       "[473] \"IQSEC3\"         \"KCP\"            \"KDM4E\"          \"KLLN\"          \n",
       "[477] \"KRTAP2-2\"       \"LINGO4\"         \"LUZP6\"          \"MANSC4\"        \n",
       "[481] \"MFSD2B\"         \"MIR205HG\"       \"MSANTD1\"        \"MSANTD3-TMEFF1\"\n",
       "[485] \"MSMP\"           \"MYO1H\"          \"NLRP8\"          \"NOBOX\"         \n",
       "[489] \"NPAP1\"          \"NXPE1\"          \"PALM2\"          \"PCDHA1\"        \n",
       "[493] \"PCDHA2\"         \"PINLYP\"         \"PIRT\"           \"PLAC4\"         \n",
       "[497] \"POTEM\"          \"POU5F1B\"        \"PRAMEF22\"       \"PRCD\"          \n",
       "[501] \"PRR21\"          \"PRR23D1\"        \"PRSS58\"         \"PRY\"           \n",
       "[505] \"PRY2\"           \"PTX4\"           \"PXT1\"           \"RBMY1B\"        \n",
       "[509] \"REG1A\"          \"RNF175\"         \"RPRML\"          \"S100A7L2\"      \n",
       "[513] \"SAMD15\"         \"SERPINA11\"      \"SLC22A25\"       \"SMIM21\"        \n",
       "[517] \"SMKR1\"          \"SP9\"            \"SPATA31D3\"      \"SPDYE2B\"       \n",
       "[521] \"SPINK13\"        \"STPG1\"          \"SUPT20HL1\"      \"SYCN\"          \n",
       "[525] \"TEX30\"          \"TMEM116\"        \"TMEM150C\"       \"TMEM163\"       \n",
       "[529] \"TMEM81\"         \"TMEM82\"         \"TMPRSS9\"        \"TRIM64\"        \n",
       "[533] \"TSPY8\"          \"TTC36\"          \"WFDC11\"         \"WFDC8\"         \n",
       "[537] \"WSCD1\"          \"WSCD2\"          \"ZAR1L\"          \"ZDHHC11B\"      \n",
       "[541] \"ZHX1-C8orf76\"   \"ZNF141\"         \"ZNF154\"         \"ZNF280B\"       \n",
       "[545] \"ZNF284\"         \"ZNF37A\"         \"ZNF385D\"        \"ZNF425\"        \n",
       "[549] \"ZNF43\"          \"ZNF527\"         \"ZNF540\"         \"ZNF674\"        \n",
       "[553] \"ZNF680\"         \"ZNF729\"         \"ZNF732\"         \"ZNF737\"        \n",
       "[557] \"ZNF75D\"         \"ZNF780B\"        \"ZNF782\"         \"ZNF783\"        \n",
       "[561] \"ZNF789\"         \"ZNF799\"         \"ZNF814\"         \"ZNF841\"        \n",
       "[565] \"ZNF879\"         \"ZSCAN32\"       "
      ]
     },
     "metadata": {},
     "output_type": "display_data"
    },
    {
     "data": {
      "text/html": [
       "1771"
      ],
      "text/latex": [
       "1771"
      ],
      "text/markdown": [
       "1771"
      ],
      "text/plain": [
       "[1] 1771"
      ]
     },
     "metadata": {},
     "output_type": "display_data"
    },
    {
     "data": {
      "text/html": [
       "<style>\n",
       ".list-inline {list-style: none; margin:0; padding: 0}\n",
       ".list-inline>li {display: inline-block}\n",
       ".list-inline>li:not(:last-child)::after {content: \"\\00b7\"; padding: 0 .5ex}\n",
       "</style>\n",
       "<ol class=list-inline><li>'AAMP'</li><li>'ABCA11P'</li><li>'ABHD18'</li><li>'ABLIM1'</li><li>'ABRAXAS1'</li></ol>\n"
      ],
      "text/latex": [
       "\\begin{enumerate*}\n",
       "\\item 'AAMP'\n",
       "\\item 'ABCA11P'\n",
       "\\item 'ABHD18'\n",
       "\\item 'ABLIM1'\n",
       "\\item 'ABRAXAS1'\n",
       "\\end{enumerate*}\n"
      ],
      "text/markdown": [
       "1. 'AAMP'\n",
       "2. 'ABCA11P'\n",
       "3. 'ABHD18'\n",
       "4. 'ABLIM1'\n",
       "5. 'ABRAXAS1'\n",
       "\n",
       "\n"
      ],
      "text/plain": [
       "[1] \"AAMP\"     \"ABCA11P\"  \"ABHD18\"   \"ABLIM1\"   \"ABRAXAS1\""
      ]
     },
     "metadata": {},
     "output_type": "display_data"
    }
   ],
   "source": [
    "nrow(pc_hgnc_magma_new) - nrow(pathway)\n",
    "new_genes = union(pc_hgnc_magma_new$PARTICIPANT_A, pc_hgnc_magma_new$PARTICIPANT_B)\n",
    "old_genes = union(pathway$V1, pathway$V2)\n",
    "length(new_genes)\n",
    "length(old_genes)\n",
    "length(setdiff(new_genes, old_genes))\n",
    "setdiff(new_genes, old_genes)\n",
    "length(setdiff(old_genes, new_genes))\n",
    "setdiff(old_genes, new_genes)[1:5]"
   ]
  },
  {
   "cell_type": "code",
   "execution_count": 18,
   "id": "ab9584a2-cc88-4170-8863-ea53e483b65d",
   "metadata": {},
   "outputs": [
    {
     "name": "stdout",
     "output_type": "stream",
     "text": [
      "\n",
      "# Pairs lost due to added hand annotated housekeeping genes: 1872"
     ]
    },
    {
     "data": {
      "text/html": [
       "1124417"
      ],
      "text/latex": [
       "1124417"
      ],
      "text/markdown": [
       "1124417"
      ],
      "text/plain": [
       "[1] 1124417"
      ]
     },
     "metadata": {},
     "output_type": "display_data"
    }
   ],
   "source": [
    "rem_hk_genes = c(\"HSPA1B\", \"PSMD3\", \"ACTRT2\", \"TST\", \"HSPA1L\", \"PABPN1L\")\n",
    "old = nrow(pc_hgnc_magma_new)\n",
    "pc_hgnc_magma_new = pc_hgnc_magma_new[!pc_hgnc_magma_new$PARTICIPANT_A %in% rem_hk_genes,]\n",
    "pc_hgnc_magma_new = pc_hgnc_magma_new[!pc_hgnc_magma_new$PARTICIPANT_B %in% rem_hk_genes,]\n",
    "cat(\"\\n# Pairs lost due to added hand annotated housekeeping genes:\", old-nrow(pc_hgnc_magma_new))\n",
    "nrow(pc_hgnc_magma_new)"
   ]
  },
  {
   "cell_type": "code",
   "execution_count": 19,
   "id": "b2539c25-f661-4e18-a5e5-1fa1dfcf8e27",
   "metadata": {},
   "outputs": [],
   "source": [
    "# Save file in the same format as the original\n",
    "write.table(pc_hgnc_magma_new[,c(\"PARTICIPANT_A\", \"PARTICIPANT_B\")], \n",
    "            \"~/Desktop/SCRNA-GWAS-Benchmarking/data/PathwayCommons14.All.hgnc.exPCDHA.MHC.NCBI38.tsv\", \n",
    "            row.names=FALSE, col.names=FALSE, quote=FALSE, sep=\"\\t\")"
   ]
  },
  {
   "cell_type": "code",
   "execution_count": null,
   "id": "6f330fbc-9808-4d3d-ae98-98d9c8e2fef1",
   "metadata": {},
   "outputs": [],
   "source": []
  }
 ],
 "metadata": {
  "kernelspec": {
   "display_name": "R 4.4",
   "language": "R",
   "name": "ir44"
  },
  "language_info": {
   "codemirror_mode": "r",
   "file_extension": ".r",
   "mimetype": "text/x-r-source",
   "name": "R",
   "pygments_lexer": "r",
   "version": "4.4.0"
  }
 },
 "nbformat": 4,
 "nbformat_minor": 5
}
